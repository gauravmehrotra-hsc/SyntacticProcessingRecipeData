{
  "cells": [
    {
      "cell_type": "markdown",
      "metadata": {
        "id": "42UBKEnat_xo"
      },
      "source": [
        "# **Identifying Key Entities in Recipe Data**"
      ]
    },
    {
      "cell_type": "markdown",
      "metadata": {
        "id": "Pme3h_fduOKh"
      },
      "source": [
        "\n",
        "**Business Objective**:\n",
        "The goal of this assignment is to train a Named Entity Recognition (NER) model using Conditional Random Fields (CRF) to extract key entities from recipe data. The model will classify words into predefined categories such as ingredients, quantities and units, enabling the creation of a structured database of recipes and ingredients that can be used to power advanced features in recipe management systems, dietary tracking apps, or e-commerce platforms."
      ]
    },
    {
      "cell_type": "markdown",
      "metadata": {
        "id": "FXzoAs8evNG0"
      },
      "source": [
        "### **Data Description**\n",
        "The given data is in JSON format, representing a **structured recipe ingredient list** with **Named Entity Recognition (NER) labels**. Below is a breakdown of the data fields:\n",
        "\n",
        "```json\n",
        "[\n",
        "    {\n",
        "        \"input\": \"6 Karela Bitter Gourd Pavakkai Salt 1 Onion 3 tablespoon Gram flour besan 2 teaspoons Turmeric powder Haldi Red Chilli Cumin seeds Jeera Coriander Powder Dhania Amchur Dry Mango Sunflower Oil\",\n",
        "        \"pos\": \"quantity ingredient ingredient ingredient ingredient ingredient quantity ingredient quantity unit ingredient ingredient ingredient quantity unit ingredient ingredient ingredient ingredient ingredient ingredient ingredient ingredient ingredient ingredient ingredient ingredient ingredient ingredient ingredient ingredient\"\n",
        "    },\n",
        "    {\n",
        "      \"input\": \"2-1/2 cups rice cooked 3 tomatoes teaspoons BC Belle Bhat powder 1 teaspoon chickpea lentils 1/2 cumin seeds white urad dal mustard green chilli dry red 2 cashew or peanuts 1-1/2 tablespoon oil asafoetida\",\n",
        "      \"pos\": \"quantity unit ingredient ingredient quantity ingredient unit ingredient ingredient ingredient ingredient quantity unit ingredient ingredient quantity ingredient ingredient ingredient ingredient ingredient ingredient ingredient ingredient ingredient ingredient quantity ingredient ingredient ingredient quantity unit ingredient ingredient\"\n",
        "    }\n",
        "]\n"
      ]
    },
    {
      "cell_type": "markdown",
      "metadata": {
        "id": "LSDcNvJlwC6N"
      },
      "source": [
        "| **Key**  | **Description**  |\n",
        "|----------|-----------------|\n",
        "| `input`  | Contains a raw ingredient list from a recipe. |\n",
        "| `pos`    | Represents the corresponding part-of-speech (POS) tags or NER labels, identifying quantities, ingredients, and units. |\n"
      ]
    },
    {
      "cell_type": "markdown",
      "metadata": {
        "id": "phenosA4se1c"
      },
      "source": [
        "## **1** Import libraries"
      ]
    },
    {
      "cell_type": "markdown",
      "metadata": {
        "id": "Br-jQHin3kQX"
      },
      "source": [
        "#### **1.1** Installation of sklearn-crfsuite"
      ]
    },
    {
      "cell_type": "markdown",
      "metadata": {
        "id": "DPhaJSfCwpfa"
      },
      "source": [
        "sklearn-crfsuite is a Python wrapper for CRFsuite, a fast and efficient implementation of Conditional Random Fields (CRFs). It is designed to integrate seamlessly with scikit-learn for structured prediction tasks such as Named Entity Recognition (NER), Part-of-Speech (POS) tagging, and chunking."
      ]
    },
    {
      "cell_type": "code",
      "execution_count": null,
      "metadata": {
        "id": "_QawokgQXAMO"
      },
      "outputs": [
        {
          "name": "stdout",
          "output_type": "stream",
          "text": [
            "Collecting sklearn_crfsuite==0.5.0\n",
            "  Downloading sklearn_crfsuite-0.5.0-py2.py3-none-any.whl.metadata (4.9 kB)\n",
            "Collecting python-crfsuite>=0.9.7 (from sklearn_crfsuite==0.5.0)\n",
            "  Downloading python_crfsuite-0.9.11-cp312-cp312-win_amd64.whl.metadata (4.4 kB)\n",
            "Requirement already satisfied: scikit-learn>=0.24.0 in c:\\users\\mgaur\\anaconda3\\lib\\site-packages (from sklearn_crfsuite==0.5.0) (1.5.1)\n",
            "Requirement already satisfied: tabulate>=0.4.2 in c:\\users\\mgaur\\anaconda3\\lib\\site-packages (from sklearn_crfsuite==0.5.0) (0.9.0)\n",
            "Requirement already satisfied: tqdm>=2.0 in c:\\users\\mgaur\\anaconda3\\lib\\site-packages (from sklearn_crfsuite==0.5.0) (4.66.5)\n",
            "Requirement already satisfied: numpy>=1.19.5 in c:\\users\\mgaur\\anaconda3\\lib\\site-packages (from scikit-learn>=0.24.0->sklearn_crfsuite==0.5.0) (1.26.4)\n",
            "Requirement already satisfied: scipy>=1.6.0 in c:\\users\\mgaur\\anaconda3\\lib\\site-packages (from scikit-learn>=0.24.0->sklearn_crfsuite==0.5.0) (1.13.1)\n",
            "Requirement already satisfied: joblib>=1.2.0 in c:\\users\\mgaur\\anaconda3\\lib\\site-packages (from scikit-learn>=0.24.0->sklearn_crfsuite==0.5.0) (1.4.2)\n",
            "Requirement already satisfied: threadpoolctl>=3.1.0 in c:\\users\\mgaur\\anaconda3\\lib\\site-packages (from scikit-learn>=0.24.0->sklearn_crfsuite==0.5.0) (3.5.0)\n",
            "Requirement already satisfied: colorama in c:\\users\\mgaur\\anaconda3\\lib\\site-packages (from tqdm>=2.0->sklearn_crfsuite==0.5.0) (0.4.6)\n",
            "Downloading sklearn_crfsuite-0.5.0-py2.py3-none-any.whl (10 kB)\n",
            "Downloading python_crfsuite-0.9.11-cp312-cp312-win_amd64.whl (301 kB)\n",
            "Installing collected packages: python-crfsuite, sklearn_crfsuite\n",
            "Successfully installed python-crfsuite-0.9.11 sklearn_crfsuite-0.5.0\n"
          ]
        }
      ],
      "source": [
        "# installation of sklearn_crfsuite\n",
        "#!pip install sklearn_crfsuite==0.5.0"
      ]
    },
    {
      "cell_type": "code",
      "execution_count": null,
      "metadata": {},
      "outputs": [
        {
          "name": "stdout",
          "output_type": "stream",
          "text": [
            "Collecting spacy\n",
            "  Downloading spacy-3.8.7-cp312-cp312-win_amd64.whl.metadata (28 kB)\n",
            "Collecting spacy-legacy<3.1.0,>=3.0.11 (from spacy)\n",
            "  Downloading spacy_legacy-3.0.12-py2.py3-none-any.whl.metadata (2.8 kB)\n",
            "Collecting spacy-loggers<2.0.0,>=1.0.0 (from spacy)\n",
            "  Downloading spacy_loggers-1.0.5-py3-none-any.whl.metadata (23 kB)\n",
            "Collecting murmurhash<1.1.0,>=0.28.0 (from spacy)\n",
            "  Downloading murmurhash-1.0.13-cp312-cp312-win_amd64.whl.metadata (2.2 kB)\n",
            "Collecting cymem<2.1.0,>=2.0.2 (from spacy)\n",
            "  Downloading cymem-2.0.11-cp312-cp312-win_amd64.whl.metadata (8.8 kB)\n",
            "Collecting preshed<3.1.0,>=3.0.2 (from spacy)\n",
            "  Downloading preshed-3.0.10-cp312-cp312-win_amd64.whl.metadata (2.5 kB)\n",
            "Collecting thinc<8.4.0,>=8.3.4 (from spacy)\n",
            "  Downloading thinc-8.3.6-cp312-cp312-win_amd64.whl.metadata (15 kB)\n",
            "Collecting wasabi<1.2.0,>=0.9.1 (from spacy)\n",
            "  Downloading wasabi-1.1.3-py3-none-any.whl.metadata (28 kB)\n",
            "Collecting srsly<3.0.0,>=2.4.3 (from spacy)\n",
            "  Downloading srsly-2.5.1-cp312-cp312-win_amd64.whl.metadata (20 kB)\n",
            "Collecting catalogue<2.1.0,>=2.0.6 (from spacy)\n",
            "  Downloading catalogue-2.0.10-py3-none-any.whl.metadata (14 kB)\n",
            "Collecting weasel<0.5.0,>=0.1.0 (from spacy)\n",
            "  Downloading weasel-0.4.1-py3-none-any.whl.metadata (4.6 kB)\n",
            "Collecting typer<1.0.0,>=0.3.0 (from spacy)\n",
            "  Downloading typer-0.16.0-py3-none-any.whl.metadata (15 kB)\n",
            "Requirement already satisfied: tqdm<5.0.0,>=4.38.0 in c:\\users\\mgaur\\anaconda3\\lib\\site-packages (from spacy) (4.66.5)\n",
            "Requirement already satisfied: numpy>=1.19.0 in c:\\users\\mgaur\\anaconda3\\lib\\site-packages (from spacy) (1.26.4)\n",
            "Requirement already satisfied: requests<3.0.0,>=2.13.0 in c:\\users\\mgaur\\anaconda3\\lib\\site-packages (from spacy) (2.32.3)\n",
            "Requirement already satisfied: pydantic!=1.8,!=1.8.1,<3.0.0,>=1.7.4 in c:\\users\\mgaur\\anaconda3\\lib\\site-packages (from spacy) (2.8.2)\n",
            "Requirement already satisfied: jinja2 in c:\\users\\mgaur\\anaconda3\\lib\\site-packages (from spacy) (3.1.4)\n",
            "Requirement already satisfied: setuptools in c:\\users\\mgaur\\anaconda3\\lib\\site-packages (from spacy) (75.1.0)\n",
            "Requirement already satisfied: packaging>=20.0 in c:\\users\\mgaur\\anaconda3\\lib\\site-packages (from spacy) (24.1)\n",
            "Collecting langcodes<4.0.0,>=3.2.0 (from spacy)\n",
            "  Downloading langcodes-3.5.0-py3-none-any.whl.metadata (29 kB)\n",
            "Collecting language-data>=1.2 (from langcodes<4.0.0,>=3.2.0->spacy)\n",
            "  Downloading language_data-1.3.0-py3-none-any.whl.metadata (4.3 kB)\n",
            "Requirement already satisfied: annotated-types>=0.4.0 in c:\\users\\mgaur\\anaconda3\\lib\\site-packages (from pydantic!=1.8,!=1.8.1,<3.0.0,>=1.7.4->spacy) (0.6.0)\n",
            "Requirement already satisfied: pydantic-core==2.20.1 in c:\\users\\mgaur\\anaconda3\\lib\\site-packages (from pydantic!=1.8,!=1.8.1,<3.0.0,>=1.7.4->spacy) (2.20.1)\n",
            "Requirement already satisfied: typing-extensions>=4.6.1 in c:\\users\\mgaur\\anaconda3\\lib\\site-packages (from pydantic!=1.8,!=1.8.1,<3.0.0,>=1.7.4->spacy) (4.11.0)\n",
            "Requirement already satisfied: charset-normalizer<4,>=2 in c:\\users\\mgaur\\anaconda3\\lib\\site-packages (from requests<3.0.0,>=2.13.0->spacy) (3.3.2)\n",
            "Requirement already satisfied: idna<4,>=2.5 in c:\\users\\mgaur\\anaconda3\\lib\\site-packages (from requests<3.0.0,>=2.13.0->spacy) (3.7)\n",
            "Requirement already satisfied: urllib3<3,>=1.21.1 in c:\\users\\mgaur\\anaconda3\\lib\\site-packages (from requests<3.0.0,>=2.13.0->spacy) (2.2.3)\n",
            "Requirement already satisfied: certifi>=2017.4.17 in c:\\users\\mgaur\\anaconda3\\lib\\site-packages (from requests<3.0.0,>=2.13.0->spacy) (2024.8.30)\n",
            "Collecting blis<1.4.0,>=1.3.0 (from thinc<8.4.0,>=8.3.4->spacy)\n",
            "  Downloading blis-1.3.0-cp312-cp312-win_amd64.whl.metadata (7.6 kB)\n",
            "Collecting confection<1.0.0,>=0.0.1 (from thinc<8.4.0,>=8.3.4->spacy)\n",
            "  Downloading confection-0.1.5-py3-none-any.whl.metadata (19 kB)\n",
            "Collecting numpy>=1.19.0 (from spacy)\n",
            "  Downloading numpy-2.3.1-cp312-cp312-win_amd64.whl.metadata (60 kB)\n",
            "Requirement already satisfied: colorama in c:\\users\\mgaur\\anaconda3\\lib\\site-packages (from tqdm<5.0.0,>=4.38.0->spacy) (0.4.6)\n",
            "Requirement already satisfied: click>=8.0.0 in c:\\users\\mgaur\\anaconda3\\lib\\site-packages (from typer<1.0.0,>=0.3.0->spacy) (8.1.7)\n",
            "Collecting shellingham>=1.3.0 (from typer<1.0.0,>=0.3.0->spacy)\n",
            "  Downloading shellingham-1.5.4-py2.py3-none-any.whl.metadata (3.5 kB)\n",
            "Requirement already satisfied: rich>=10.11.0 in c:\\users\\mgaur\\anaconda3\\lib\\site-packages (from typer<1.0.0,>=0.3.0->spacy) (13.7.1)\n",
            "Collecting cloudpathlib<1.0.0,>=0.7.0 (from weasel<0.5.0,>=0.1.0->spacy)\n",
            "  Downloading cloudpathlib-0.21.1-py3-none-any.whl.metadata (14 kB)\n",
            "Requirement already satisfied: smart-open<8.0.0,>=5.2.1 in c:\\users\\mgaur\\anaconda3\\lib\\site-packages (from weasel<0.5.0,>=0.1.0->spacy) (5.2.1)\n",
            "Requirement already satisfied: MarkupSafe>=2.0 in c:\\users\\mgaur\\anaconda3\\lib\\site-packages (from jinja2->spacy) (2.1.3)\n",
            "Collecting marisa-trie>=1.1.0 (from language-data>=1.2->langcodes<4.0.0,>=3.2.0->spacy)\n",
            "  Downloading marisa_trie-1.2.1-cp312-cp312-win_amd64.whl.metadata (9.3 kB)\n",
            "Requirement already satisfied: markdown-it-py>=2.2.0 in c:\\users\\mgaur\\anaconda3\\lib\\site-packages (from rich>=10.11.0->typer<1.0.0,>=0.3.0->spacy) (2.2.0)\n",
            "Requirement already satisfied: pygments<3.0.0,>=2.13.0 in c:\\users\\mgaur\\anaconda3\\lib\\site-packages (from rich>=10.11.0->typer<1.0.0,>=0.3.0->spacy) (2.15.1)\n",
            "Requirement already satisfied: mdurl~=0.1 in c:\\users\\mgaur\\anaconda3\\lib\\site-packages (from markdown-it-py>=2.2.0->rich>=10.11.0->typer<1.0.0,>=0.3.0->spacy) (0.1.0)\n",
            "Downloading spacy-3.8.7-cp312-cp312-win_amd64.whl (13.9 MB)\n",
            "   ---------------------------------------- 0.0/13.9 MB ? eta -:--:--\n",
            "   --------------- ------------------------ 5.5/13.9 MB 27.9 MB/s eta 0:00:01\n",
            "   ----------------------------------- ---- 12.3/13.9 MB 29.7 MB/s eta 0:00:01\n",
            "   ---------------------------------------- 13.9/13.9 MB 23.6 MB/s eta 0:00:00\n",
            "Downloading catalogue-2.0.10-py3-none-any.whl (17 kB)\n",
            "Downloading cymem-2.0.11-cp312-cp312-win_amd64.whl (39 kB)\n",
            "Downloading langcodes-3.5.0-py3-none-any.whl (182 kB)\n",
            "Downloading murmurhash-1.0.13-cp312-cp312-win_amd64.whl (24 kB)\n",
            "Downloading preshed-3.0.10-cp312-cp312-win_amd64.whl (116 kB)\n",
            "Downloading spacy_legacy-3.0.12-py2.py3-none-any.whl (29 kB)\n",
            "Downloading spacy_loggers-1.0.5-py3-none-any.whl (22 kB)\n",
            "Downloading srsly-2.5.1-cp312-cp312-win_amd64.whl (632 kB)\n",
            "   ---------------------------------------- 0.0/632.6 kB ? eta -:--:--\n",
            "   --------------------------------------- 632.6/632.6 kB 12.0 MB/s eta 0:00:00\n",
            "Downloading thinc-8.3.6-cp312-cp312-win_amd64.whl (1.7 MB)\n",
            "   ---------------------------------------- 0.0/1.7 MB ? eta -:--:--\n",
            "   ---------------------------------------- 1.7/1.7 MB 19.1 MB/s eta 0:00:00\n",
            "Downloading numpy-2.3.1-cp312-cp312-win_amd64.whl (12.7 MB)\n",
            "   ---------------------------------------- 0.0/12.7 MB ? eta -:--:--\n",
            "   ------------------- -------------------- 6.3/12.7 MB 32.1 MB/s eta 0:00:01\n",
            "   ---------------------------------------  12.6/12.7 MB 31.5 MB/s eta 0:00:01\n",
            "   ---------------------------------------- 12.7/12.7 MB 24.2 MB/s eta 0:00:00\n",
            "Downloading typer-0.16.0-py3-none-any.whl (46 kB)\n",
            "Downloading wasabi-1.1.3-py3-none-any.whl (27 kB)\n",
            "Downloading weasel-0.4.1-py3-none-any.whl (50 kB)\n",
            "Downloading blis-1.3.0-cp312-cp312-win_amd64.whl (6.3 MB)\n",
            "   ---------------------------------------- 0.0/6.3 MB ? eta -:--:--\n",
            "   ------------------------------------ --- 5.8/6.3 MB 32.0 MB/s eta 0:00:01\n",
            "   ---------------------------------------- 6.3/6.3 MB 20.2 MB/s eta 0:00:00\n",
            "Downloading cloudpathlib-0.21.1-py3-none-any.whl (52 kB)\n",
            "Downloading confection-0.1.5-py3-none-any.whl (35 kB)\n",
            "Downloading language_data-1.3.0-py3-none-any.whl (5.4 MB)\n",
            "   ---------------------------------------- 0.0/5.4 MB ? eta -:--:--\n",
            "   -------------------------------------- - 5.2/5.4 MB 31.9 MB/s eta 0:00:01\n",
            "   ---------------------------------------- 5.4/5.4 MB 19.3 MB/s eta 0:00:00\n",
            "Downloading shellingham-1.5.4-py2.py3-none-any.whl (9.8 kB)\n",
            "Downloading marisa_trie-1.2.1-cp312-cp312-win_amd64.whl (150 kB)\n",
            "Installing collected packages: cymem, wasabi, spacy-loggers, spacy-legacy, shellingham, numpy, murmurhash, marisa-trie, cloudpathlib, catalogue, srsly, preshed, language-data, blis, typer, langcodes, confection, weasel, thinc, spacy\n",
            "  Attempting uninstall: numpy\n",
            "    Found existing installation: numpy 1.26.4\n",
            "    Uninstalling numpy-1.26.4:\n",
            "      Successfully uninstalled numpy-1.26.4\n",
            "Successfully installed blis-1.3.0 catalogue-2.0.10 cloudpathlib-0.21.1 confection-0.1.5 cymem-2.0.11 langcodes-3.5.0 language-data-1.3.0 marisa-trie-1.2.1 murmurhash-1.0.13 numpy-2.3.1 preshed-3.0.10 shellingham-1.5.4 spacy-3.8.7 spacy-legacy-3.0.12 spacy-loggers-1.0.5 srsly-2.5.1 thinc-8.3.6 typer-0.16.0 wasabi-1.1.3 weasel-0.4.1\n"
          ]
        },
        {
          "name": "stderr",
          "output_type": "stream",
          "text": [
            "  WARNING: Failed to remove contents in a temporary directory 'C:\\Users\\mgaur\\anaconda3\\Lib\\site-packages\\~umpy'.\n",
            "  You can safely remove it manually.\n",
            "ERROR: pip's dependency resolver does not currently take into account all the packages that are installed. This behaviour is the source of the following dependency conflicts.\n",
            "contourpy 1.2.0 requires numpy<2.0,>=1.20, but you have numpy 2.3.1 which is incompatible.\n",
            "gensim 4.3.3 requires numpy<2.0,>=1.18.5, but you have numpy 2.3.1 which is incompatible.\n",
            "numba 0.60.0 requires numpy<2.1,>=1.22, but you have numpy 2.3.1 which is incompatible.\n",
            "scipy 1.13.1 requires numpy<2.3,>=1.22.4, but you have numpy 2.3.1 which is incompatible.\n"
          ]
        }
      ],
      "source": [
        "#!pip install -U spacy"
      ]
    },
    {
      "cell_type": "markdown",
      "metadata": {
        "id": "svqZwrHT3rzV"
      },
      "source": [
        "#### **1.2** Import necessary libraries"
      ]
    },
    {
      "cell_type": "code",
      "execution_count": 1,
      "metadata": {
        "id": "v2zLbaB0w1ZH"
      },
      "outputs": [],
      "source": [
        "# Import warnings\n",
        "import warnings\n",
        "warnings.filterwarnings('ignore')"
      ]
    },
    {
      "cell_type": "code",
      "execution_count": 2,
      "metadata": {
        "id": "0hlp-Ln4WsaV"
      },
      "outputs": [],
      "source": [
        "# Import necessary libraries\n",
        "import json  # For handling JSON data\n",
        "import pandas as pd  # For data manipulation and analysis\n",
        "import re  # For regular expressions (useful for text preprocessing)\n",
        "import matplotlib.pyplot as plt  # For visualisation\n",
        "import seaborn as sns  # For advanced data visualisation\n",
        "import sklearn_crfsuite  # CRF (Conditional Random Fields) implementation for sequence modeling\n",
        "import numpy as np  # For numerical computations\n",
        "# Saving and loading machine learning models\n",
        "import joblib\n",
        "import random\n",
        "import spacy\n",
        "from IPython.display import display, Markdown # For displaying well-formatted output\n",
        "\n",
        "from fractions import Fraction  # For handling fractional values in numerical data\n",
        "# Importing tools for feature engineering and model training\n",
        "from collections import Counter  # For counting occurrences of elements in a list\n",
        "from sklearn.model_selection import train_test_split  # For splitting dataset into train and test sets\n",
        "from sklearn_crfsuite import metrics  # For evaluating CRF models\n",
        "from sklearn_crfsuite.metrics import flat_classification_report\n",
        "from sklearn.utils.class_weight import compute_class_weight\n",
        "from collections import Counter\n",
        "from sklearn.metrics import confusion_matrix"
      ]
    },
    {
      "cell_type": "code",
      "execution_count": null,
      "metadata": {
        "id": "k3_LR6N_2cli"
      },
      "outputs": [],
      "source": [
        "# Ensure pandas displays full content\n",
        "pd.set_option('display.max_colwidth', None)\n",
        "pd.set_option('display.expand_frame_repr', False)"
      ]
    },
    {
      "cell_type": "markdown",
      "metadata": {
        "id": "fUOu_u0fyMfh"
      },
      "source": [
        "## **2** Data Ingestion and Preparation <font color = red>[25 marks]</font> <br>"
      ]
    },
    {
      "cell_type": "markdown",
      "metadata": {
        "id": "-ksMVNgeyiLN"
      },
      "source": [
        "#### **2.1** *Read Recipe Data from Dataframe and prepare the data for analysis* <font color = red>[12 marks]</font> <br>\n",
        "Read the data from JSON file, print first five rows and describe the dataframe"
      ]
    },
    {
      "cell_type": "markdown",
      "metadata": {
        "id": "kxn28jL3z4GY"
      },
      "source": [
        "##### **2.1.1** **Define a *load_json_dataframe* function** <font color = red>[7 marks]</font> <br>\n",
        "\n",
        "Define a function that takes path of the ingredient_and_quantity.json file and reads it, convert it into dataframe - df and return it."
      ]
    },
    {
      "cell_type": "code",
      "execution_count": 3,
      "metadata": {
        "id": "dq6UgUYcPyOL"
      },
      "outputs": [],
      "source": [
        "# define a function to load json file to a dataframe\n",
        "def load_json_dataframe(json_path):\n",
        "    \"\"\"\n",
        "    Load the ingredient and quantity data from a JSON file and return a pandas DataFrame.\n",
        "    Returns:\n",
        "        pd.DataFrame: DataFrame containing the input and pos tag columns.\n",
        "    \"\"\"\n",
        "    with open(json_path, 'r', encoding='utf-8') as file:\n",
        "        data = json.load(file)\n",
        "\n",
        "    # Convert list of dicts into DataFrame\n",
        "    df = pd.DataFrame(data)\n",
        "    return df"
      ]
    },
    {
      "cell_type": "markdown",
      "metadata": {
        "id": "1NlhkH_605IA"
      },
      "source": [
        "##### **2.1.2** **Execute the *load_json_dataframe* function** <font color = red>[2 marks]</font> <br>"
      ]
    },
    {
      "cell_type": "code",
      "execution_count": 4,
      "metadata": {
        "id": "UONMkMsrxdxB"
      },
      "outputs": [
        {
          "name": "stdout",
          "output_type": "stream",
          "text": [
            "                                                 input  \\\n",
            "0    6 Karela Bitter Gourd Pavakkai Salt 1 Onion 3 ...   \n",
            "1    2-1/2 cups rice cooked 3 tomatoes teaspoons BC...   \n",
            "2    1-1/2 cups Rice Vermicelli Noodles Thin 1 Onio...   \n",
            "3    500 grams Chicken 2 Onion chopped 1 Tomato 4 G...   \n",
            "4    1 tablespoon chana dal white urad 2 red chilli...   \n",
            "..                                                 ...   \n",
            "280  2 Mooli Mullangi Radish 200 grams Paneer Homem...   \n",
            "281  2 cups Fresh orange juice teaspoons Ginger gra...   \n",
            "282  3 Potatoes Aloo 2 Green zucchini 1 tablespoon ...   \n",
            "283  1 cup Pink Masoor Dal 200 grams Drumstick Leav...   \n",
            "284  1/2 cup Bajra Flour Jowar Whole Wheat 2 cups M...   \n",
            "\n",
            "                                                   pos  \n",
            "0    quantity ingredient ingredient ingredient ingr...  \n",
            "1    quantity unit ingredient ingredient quantity i...  \n",
            "2    quantity unit ingredient ingredient ingredient...  \n",
            "3    quantity unit ingredient quantity ingredient i...  \n",
            "4    quantity unit ingredient ingredient ingredient...  \n",
            "..                                                 ...  \n",
            "280  quantity ingredient ingredient ingredient quan...  \n",
            "281  quantity unit ingredient ingredient ingredient...  \n",
            "282  quantity ingredient ingredient quantity ingred...  \n",
            "283  quantity unit ingredient ingredient ingredient...  \n",
            "284  quantity unit ingredient ingredient ingredient...  \n",
            "\n",
            "[285 rows x 2 columns]\n"
          ]
        }
      ],
      "source": [
        "# read the json file by giving the file path and create a dataframe\n",
        "df = load_json_dataframe(\"ingredient_and_quantity.json\")\n",
        "print(df)"
      ]
    },
    {
      "cell_type": "markdown",
      "metadata": {
        "id": "_1VkDbev3UHP"
      },
      "source": [
        "##### **2.1.3** **Describe the dataframe** <font color = red>[3 marks]</font> <br>\n",
        "\n",
        "Print first five rows of dataframe along with dimensions. Display the information of dataframe"
      ]
    },
    {
      "cell_type": "code",
      "execution_count": 6,
      "metadata": {
        "id": "yZFj2skZxgpl"
      },
      "outputs": [
        {
          "data": {
            "text/html": [
              "<div>\n",
              "<style scoped>\n",
              "    .dataframe tbody tr th:only-of-type {\n",
              "        vertical-align: middle;\n",
              "    }\n",
              "\n",
              "    .dataframe tbody tr th {\n",
              "        vertical-align: top;\n",
              "    }\n",
              "\n",
              "    .dataframe thead th {\n",
              "        text-align: right;\n",
              "    }\n",
              "</style>\n",
              "<table border=\"1\" class=\"dataframe\">\n",
              "  <thead>\n",
              "    <tr style=\"text-align: right;\">\n",
              "      <th></th>\n",
              "      <th>input</th>\n",
              "      <th>pos</th>\n",
              "    </tr>\n",
              "  </thead>\n",
              "  <tbody>\n",
              "    <tr>\n",
              "      <th>0</th>\n",
              "      <td>6 Karela Bitter Gourd Pavakkai Salt 1 Onion 3 ...</td>\n",
              "      <td>quantity ingredient ingredient ingredient ingr...</td>\n",
              "    </tr>\n",
              "    <tr>\n",
              "      <th>1</th>\n",
              "      <td>2-1/2 cups rice cooked 3 tomatoes teaspoons BC...</td>\n",
              "      <td>quantity unit ingredient ingredient quantity i...</td>\n",
              "    </tr>\n",
              "    <tr>\n",
              "      <th>2</th>\n",
              "      <td>1-1/2 cups Rice Vermicelli Noodles Thin 1 Onio...</td>\n",
              "      <td>quantity unit ingredient ingredient ingredient...</td>\n",
              "    </tr>\n",
              "    <tr>\n",
              "      <th>3</th>\n",
              "      <td>500 grams Chicken 2 Onion chopped 1 Tomato 4 G...</td>\n",
              "      <td>quantity unit ingredient quantity ingredient i...</td>\n",
              "    </tr>\n",
              "    <tr>\n",
              "      <th>4</th>\n",
              "      <td>1 tablespoon chana dal white urad 2 red chilli...</td>\n",
              "      <td>quantity unit ingredient ingredient ingredient...</td>\n",
              "    </tr>\n",
              "  </tbody>\n",
              "</table>\n",
              "</div>"
            ],
            "text/plain": [
              "                                               input  \\\n",
              "0  6 Karela Bitter Gourd Pavakkai Salt 1 Onion 3 ...   \n",
              "1  2-1/2 cups rice cooked 3 tomatoes teaspoons BC...   \n",
              "2  1-1/2 cups Rice Vermicelli Noodles Thin 1 Onio...   \n",
              "3  500 grams Chicken 2 Onion chopped 1 Tomato 4 G...   \n",
              "4  1 tablespoon chana dal white urad 2 red chilli...   \n",
              "\n",
              "                                                 pos  \n",
              "0  quantity ingredient ingredient ingredient ingr...  \n",
              "1  quantity unit ingredient ingredient quantity i...  \n",
              "2  quantity unit ingredient ingredient ingredient...  \n",
              "3  quantity unit ingredient quantity ingredient i...  \n",
              "4  quantity unit ingredient ingredient ingredient...  "
            ]
          },
          "execution_count": 6,
          "metadata": {},
          "output_type": "execute_result"
        }
      ],
      "source": [
        "# display first five rows of the dataframe - df\n",
        "df.head(5)"
      ]
    },
    {
      "cell_type": "code",
      "execution_count": 8,
      "metadata": {
        "id": "Y7cA28XSx1I1"
      },
      "outputs": [
        {
          "data": {
            "text/plain": [
              "(285, 2)"
            ]
          },
          "execution_count": 8,
          "metadata": {},
          "output_type": "execute_result"
        }
      ],
      "source": [
        "# print the dimensions of dataframe - df\n",
        "df.shape"
      ]
    },
    {
      "cell_type": "code",
      "execution_count": 11,
      "metadata": {
        "id": "Q-gsbEhJx2rm"
      },
      "outputs": [
        {
          "data": {
            "text/html": [
              "<div>\n",
              "<style scoped>\n",
              "    .dataframe tbody tr th:only-of-type {\n",
              "        vertical-align: middle;\n",
              "    }\n",
              "\n",
              "    .dataframe tbody tr th {\n",
              "        vertical-align: top;\n",
              "    }\n",
              "\n",
              "    .dataframe thead th {\n",
              "        text-align: right;\n",
              "    }\n",
              "</style>\n",
              "<table border=\"1\" class=\"dataframe\">\n",
              "  <thead>\n",
              "    <tr style=\"text-align: right;\">\n",
              "      <th></th>\n",
              "      <th>input</th>\n",
              "      <th>pos</th>\n",
              "    </tr>\n",
              "  </thead>\n",
              "  <tbody>\n",
              "    <tr>\n",
              "      <th>count</th>\n",
              "      <td>285</td>\n",
              "      <td>285</td>\n",
              "    </tr>\n",
              "    <tr>\n",
              "      <th>unique</th>\n",
              "      <td>285</td>\n",
              "      <td>284</td>\n",
              "    </tr>\n",
              "    <tr>\n",
              "      <th>top</th>\n",
              "      <td>1/2 cup Bajra Flour Jowar Whole Wheat 2 cups M...</td>\n",
              "      <td>quantity ingredient ingredient ingredient ingr...</td>\n",
              "    </tr>\n",
              "    <tr>\n",
              "      <th>freq</th>\n",
              "      <td>1</td>\n",
              "      <td>2</td>\n",
              "    </tr>\n",
              "  </tbody>\n",
              "</table>\n",
              "</div>"
            ],
            "text/plain": [
              "                                                    input  \\\n",
              "count                                                 285   \n",
              "unique                                                285   \n",
              "top     1/2 cup Bajra Flour Jowar Whole Wheat 2 cups M...   \n",
              "freq                                                    1   \n",
              "\n",
              "                                                      pos  \n",
              "count                                                 285  \n",
              "unique                                                284  \n",
              "top     quantity ingredient ingredient ingredient ingr...  \n",
              "freq                                                    2  "
            ]
          },
          "execution_count": 11,
          "metadata": {},
          "output_type": "execute_result"
        }
      ],
      "source": [
        "# print the information of the dataframe\n",
        "df.describe()"
      ]
    },
    {
      "cell_type": "markdown",
      "metadata": {
        "id": "1y18LwoqyFpk"
      },
      "source": [
        "#### **2.2** *Recipe Data Manipulation* <font color = red>[13 marks]</font> <br>\n",
        "Create derived metrics in dataframe and provide insights of the dataframe"
      ]
    },
    {
      "cell_type": "markdown",
      "metadata": {
        "id": "bhNG_XC1r4Qw"
      },
      "source": [
        "##### **2.2.1** **Create input_tokens and pos_tokens columns by splitting the input and pos from the dataframe** <font color = red>[3 marks]</font> <br>\n",
        "Split the input and pos into input_tokens and pos_tokens in the dataframe and display it in the dataframe"
      ]
    },
    {
      "cell_type": "code",
      "execution_count": 12,
      "metadata": {
        "id": "nma6uJwmXUas"
      },
      "outputs": [],
      "source": [
        "# split the input and pos into input_tokens and pos_tokens in the dataframe\n",
        "\n",
        "# Tokenize input\n",
        "# Tokenize POS\n",
        "# Split 'input' and 'pos' strings into lists of tokens\n",
        "df['input_tokens'] = df['input'].apply(lambda x: x.split())\n",
        "df['pos_tokens'] = df['pos'].apply(lambda x: x.split())"
      ]
    },
    {
      "cell_type": "code",
      "execution_count": 13,
      "metadata": {
        "id": "9g-ajvFBzaaf"
      },
      "outputs": [
        {
          "data": {
            "text/html": [
              "<div>\n",
              "<style scoped>\n",
              "    .dataframe tbody tr th:only-of-type {\n",
              "        vertical-align: middle;\n",
              "    }\n",
              "\n",
              "    .dataframe tbody tr th {\n",
              "        vertical-align: top;\n",
              "    }\n",
              "\n",
              "    .dataframe thead th {\n",
              "        text-align: right;\n",
              "    }\n",
              "</style>\n",
              "<table border=\"1\" class=\"dataframe\">\n",
              "  <thead>\n",
              "    <tr style=\"text-align: right;\">\n",
              "      <th></th>\n",
              "      <th>input</th>\n",
              "      <th>pos</th>\n",
              "      <th>input_tokens</th>\n",
              "      <th>pos_tokens</th>\n",
              "    </tr>\n",
              "  </thead>\n",
              "  <tbody>\n",
              "    <tr>\n",
              "      <th>0</th>\n",
              "      <td>6 Karela Bitter Gourd Pavakkai Salt 1 Onion 3 ...</td>\n",
              "      <td>quantity ingredient ingredient ingredient ingr...</td>\n",
              "      <td>[6, Karela, Bitter, Gourd, Pavakkai, Salt, 1, ...</td>\n",
              "      <td>[quantity, ingredient, ingredient, ingredient,...</td>\n",
              "    </tr>\n",
              "    <tr>\n",
              "      <th>1</th>\n",
              "      <td>2-1/2 cups rice cooked 3 tomatoes teaspoons BC...</td>\n",
              "      <td>quantity unit ingredient ingredient quantity i...</td>\n",
              "      <td>[2-1/2, cups, rice, cooked, 3, tomatoes, teasp...</td>\n",
              "      <td>[quantity, unit, ingredient, ingredient, quant...</td>\n",
              "    </tr>\n",
              "    <tr>\n",
              "      <th>2</th>\n",
              "      <td>1-1/2 cups Rice Vermicelli Noodles Thin 1 Onio...</td>\n",
              "      <td>quantity unit ingredient ingredient ingredient...</td>\n",
              "      <td>[1-1/2, cups, Rice, Vermicelli, Noodles, Thin,...</td>\n",
              "      <td>[quantity, unit, ingredient, ingredient, ingre...</td>\n",
              "    </tr>\n",
              "    <tr>\n",
              "      <th>3</th>\n",
              "      <td>500 grams Chicken 2 Onion chopped 1 Tomato 4 G...</td>\n",
              "      <td>quantity unit ingredient quantity ingredient i...</td>\n",
              "      <td>[500, grams, Chicken, 2, Onion, chopped, 1, To...</td>\n",
              "      <td>[quantity, unit, ingredient, quantity, ingredi...</td>\n",
              "    </tr>\n",
              "    <tr>\n",
              "      <th>4</th>\n",
              "      <td>1 tablespoon chana dal white urad 2 red chilli...</td>\n",
              "      <td>quantity unit ingredient ingredient ingredient...</td>\n",
              "      <td>[1, tablespoon, chana, dal, white, urad, 2, re...</td>\n",
              "      <td>[quantity, unit, ingredient, ingredient, ingre...</td>\n",
              "    </tr>\n",
              "  </tbody>\n",
              "</table>\n",
              "</div>"
            ],
            "text/plain": [
              "                                               input  \\\n",
              "0  6 Karela Bitter Gourd Pavakkai Salt 1 Onion 3 ...   \n",
              "1  2-1/2 cups rice cooked 3 tomatoes teaspoons BC...   \n",
              "2  1-1/2 cups Rice Vermicelli Noodles Thin 1 Onio...   \n",
              "3  500 grams Chicken 2 Onion chopped 1 Tomato 4 G...   \n",
              "4  1 tablespoon chana dal white urad 2 red chilli...   \n",
              "\n",
              "                                                 pos  \\\n",
              "0  quantity ingredient ingredient ingredient ingr...   \n",
              "1  quantity unit ingredient ingredient quantity i...   \n",
              "2  quantity unit ingredient ingredient ingredient...   \n",
              "3  quantity unit ingredient quantity ingredient i...   \n",
              "4  quantity unit ingredient ingredient ingredient...   \n",
              "\n",
              "                                        input_tokens  \\\n",
              "0  [6, Karela, Bitter, Gourd, Pavakkai, Salt, 1, ...   \n",
              "1  [2-1/2, cups, rice, cooked, 3, tomatoes, teasp...   \n",
              "2  [1-1/2, cups, Rice, Vermicelli, Noodles, Thin,...   \n",
              "3  [500, grams, Chicken, 2, Onion, chopped, 1, To...   \n",
              "4  [1, tablespoon, chana, dal, white, urad, 2, re...   \n",
              "\n",
              "                                          pos_tokens  \n",
              "0  [quantity, ingredient, ingredient, ingredient,...  \n",
              "1  [quantity, unit, ingredient, ingredient, quant...  \n",
              "2  [quantity, unit, ingredient, ingredient, ingre...  \n",
              "3  [quantity, unit, ingredient, quantity, ingredi...  \n",
              "4  [quantity, unit, ingredient, ingredient, ingre...  "
            ]
          },
          "execution_count": 13,
          "metadata": {},
          "output_type": "execute_result"
        }
      ],
      "source": [
        "# display first five rows of the dataframe - df\n",
        "df.head(5)"
      ]
    },
    {
      "cell_type": "markdown",
      "metadata": {
        "id": "-JtvsBYur-oV"
      },
      "source": [
        "##### **2.2.2** **Provide the length for input_tokens and pos_tokens and validate their length** <font color = red>[2 marks]</font> <br>\n",
        "\n",
        "Create input_length and pos_length columns in the dataframe and validate both the lengths. Check for the rows that are unequal in input and pos length\n"
      ]
    },
    {
      "cell_type": "code",
      "execution_count": 14,
      "metadata": {
        "id": "GeVRD2IK1Jrg"
      },
      "outputs": [],
      "source": [
        "# create input_length and pos_length columns for the input_tokens and pos-tokens\n",
        "# Add lengths\n",
        "df['input_length'] = df['input_tokens'].apply(len)\n",
        "df['pos_length'] = df['pos_tokens'].apply(len)"
      ]
    },
    {
      "cell_type": "code",
      "execution_count": 15,
      "metadata": {
        "id": "BPMOlLnz1P1H"
      },
      "outputs": [
        {
          "name": "stdout",
          "output_type": "stream",
          "text": [
            "\n",
            " Rows with unequal number of input and pos tokens:\n",
            "                                                 input  \\\n",
            "17   2 cups curd 1 cup gourd cucumber green cor cor...   \n",
            "27   1 Baguette sliced 1 1/2 tablespoon Butter 1/2 ...   \n",
            "79   1/2 cup Poha Flattened rice 2 tablespoons Rice...   \n",
            "164  1/2 cup All Purpose Flour Maida Whole Wheat 1/...   \n",
            "207  1 cup Cashew nuts Badam Almond 1 1/4 cups Suga...   \n",
            "\n",
            "                                                   pos  input_length  \\\n",
            "17   quantity unit ingredient quantity unit ingredi...            15   \n",
            "27   quantity ingredient ingredient quantity unit i...            37   \n",
            "79   quantity unit ingredient ingredient ingredient...            38   \n",
            "164  quantity unit ingredient ingredient ingredient...            54   \n",
            "207  quantity unit ingredient ingredient ingredient...            18   \n",
            "\n",
            "     pos_length  \n",
            "17           14  \n",
            "27           36  \n",
            "79           37  \n",
            "164          53  \n",
            "207          17  \n"
          ]
        }
      ],
      "source": [
        "# check for the equality of input_length and pos_length in the dataframe\n",
        "# Check where lengths mismatch\n",
        "mismatch_rows = df[df['input_length'] != df['pos_length']]\n",
        "print(\"\\n Rows with unequal number of input and pos tokens:\")\n",
        "print(mismatch_rows[['input', 'pos', 'input_length', 'pos_length']])"
      ]
    },
    {
      "cell_type": "markdown",
      "metadata": {
        "id": "dpJQu3JE_P7Z"
      },
      "source": [
        "##### **2.2.3** **Define a unique_labels function and validate the labels in pos_tokens** <font color = red>[2 marks]</font> <br>\n",
        "\n",
        "Define a unique_labels function which checks for all the unique pos labels in the recipe & execute it.\n"
      ]
    },
    {
      "cell_type": "code",
      "execution_count": 16,
      "metadata": {
        "id": "-4aMFCxXO_GJ"
      },
      "outputs": [
        {
          "name": "stdout",
          "output_type": "stream",
          "text": [
            " Unique POS/NER Labels found in dataset: {'quantity', 'unit', 'ingredient'}\n"
          ]
        }
      ],
      "source": [
        "# Define a unique_labels function to checks for all the unique pos labels in the recipe & print it\n",
        "def unique_labels(df):\n",
        "    \"\"\"\n",
        "    Return a set of unique NER labels (POS tags) from the dataframe.\n",
        "    Returns:\n",
        "        Set[str]: A set of unique POS labels across the dataset.\n",
        "    \"\"\"\n",
        "    # Flatten all pos_tokens into one list\n",
        "    all_labels = [label for sublist in df['pos_tokens'] for label in sublist]\n",
        "    \n",
        "    # Return unique labels\n",
        "    return set(all_labels)\n",
        "\n",
        "# Get unique labels\n",
        "labels = unique_labels(df)\n",
        "print(\" Unique POS/NER Labels found in dataset:\", labels)"
      ]
    },
    {
      "cell_type": "markdown",
      "metadata": {
        "id": "JbriClEV9CW5"
      },
      "source": [
        "##### **2.2.3** **Provide the insights seen in the recipe data after validation** <font color = red>[1 marks]</font> <br>\n",
        "\n",
        "Provide the indexes that requires cleaning and formatting in the dataframe"
      ]
    },
    {
      "cell_type": "markdown",
      "metadata": {
        "id": "rrNQ4AtD9RPk"
      },
      "source": [
        "<font color = red>[write your answer]</font> <br>\n"
      ]
    },
    {
      "cell_type": "markdown",
      "metadata": {
        "id": "Qtqtij2-CD2m"
      },
      "source": [
        "##### **2.2.4** **Drop the rows that have invalid data provided in previous cell** <font color = red> [2 marks]</font> <br>"
      ]
    },
    {
      "cell_type": "code",
      "execution_count": 17,
      "metadata": {
        "id": "jaiy1pYWCFPA"
      },
      "outputs": [],
      "source": [
        "# drop the irrelevant recipe data\n",
        "# # Drop invalid rows\n",
        "df = df[df['input_length'] == df['pos_length']].reset_index(drop=True)"
      ]
    },
    {
      "cell_type": "markdown",
      "metadata": {
        "id": "_RJEStPSC9PB"
      },
      "source": [
        "##### **2.2.5** **Update the input_length & pos_length in dataframe**<font color = red> [2 marks]</font> <br>"
      ]
    },
    {
      "cell_type": "code",
      "execution_count": 18,
      "metadata": {
        "id": "XjJd7gPI5_ca"
      },
      "outputs": [],
      "source": [
        "# update the input and pos length in input_length and pos_length\n",
        "# Recalculate lengths after dropping\n",
        "df['input_length'] = df['input_tokens'].apply(len)\n",
        "df['pos_length'] = df['pos_tokens'].apply(len)"
      ]
    },
    {
      "cell_type": "markdown",
      "metadata": {
        "id": "qJdYJ2TEDBzd"
      },
      "source": [
        "##### **2.2.6** **Validate the input_length and pos_length by checking unequal rows** <font color = red> [1 marks]</font> <br>"
      ]
    },
    {
      "cell_type": "code",
      "execution_count": 19,
      "metadata": {
        "id": "fdSsdOPM8aXo"
      },
      "outputs": [
        {
          "name": "stdout",
          "output_type": "stream",
          "text": [
            "\n",
            " Validation after cleanup: All rows have matching input and pos lengths: True\n"
          ]
        }
      ],
      "source": [
        "# validate the input length and pos length as input_length and pos_length\n",
        "is_valid = (df['input_length'] == df['pos_length']).all()\n",
        "print(f\"\\n Validation after cleanup: All rows have matching input and pos lengths: {is_valid}\")\n",
        "\n"
      ]
    },
    {
      "cell_type": "markdown",
      "metadata": {
        "id": "TwKLW4em-qMu"
      },
      "source": [
        "## **3** Train Validation Split (70 train - 30 val) <font color = red>[6 marks]</font> <br>"
      ]
    },
    {
      "cell_type": "markdown",
      "metadata": {
        "id": "z_pJDTVO-71z"
      },
      "source": [
        "#### **3.1** *Perform train and validation split ratio* <font color = red>[6 marks]</font> <br>\n",
        "Split the dataset with the help of input_tokens and pos_tokens and make a ratio of 70:30 split for training and validation datasets."
      ]
    },
    {
      "cell_type": "markdown",
      "metadata": {
        "id": "l-64gdDiIy9u"
      },
      "source": [
        "###### **3.1.1** **Split the dataset into train_df and val_df into 70:30 ratio** <font color = red> [1 marks]</font> <br>"
      ]
    },
    {
      "cell_type": "code",
      "execution_count": 20,
      "metadata": {
        "id": "W20A_-9E_WOv"
      },
      "outputs": [],
      "source": [
        "# split the dataset into training and validation sets\n",
        "train_df, val_df = train_test_split(df, test_size=0.3, random_state=42)"
      ]
    },
    {
      "cell_type": "markdown",
      "metadata": {
        "id": "PUA05_77JRAv"
      },
      "source": [
        "###### **3.1.2** **Print the first five rows of train_df and val_df** <font color = red> [1 marks]</font> <br>"
      ]
    },
    {
      "cell_type": "code",
      "execution_count": 21,
      "metadata": {
        "id": "pgMZfsbV_XhK"
      },
      "outputs": [
        {
          "data": {
            "text/html": [
              "<div>\n",
              "<style scoped>\n",
              "    .dataframe tbody tr th:only-of-type {\n",
              "        vertical-align: middle;\n",
              "    }\n",
              "\n",
              "    .dataframe tbody tr th {\n",
              "        vertical-align: top;\n",
              "    }\n",
              "\n",
              "    .dataframe thead th {\n",
              "        text-align: right;\n",
              "    }\n",
              "</style>\n",
              "<table border=\"1\" class=\"dataframe\">\n",
              "  <thead>\n",
              "    <tr style=\"text-align: right;\">\n",
              "      <th></th>\n",
              "      <th>input</th>\n",
              "      <th>pos</th>\n",
              "      <th>input_tokens</th>\n",
              "      <th>pos_tokens</th>\n",
              "      <th>input_length</th>\n",
              "      <th>pos_length</th>\n",
              "    </tr>\n",
              "  </thead>\n",
              "  <tbody>\n",
              "    <tr>\n",
              "      <th>175</th>\n",
              "      <td>250 grams Okra Oil 1 Onion finely chopped Toma...</td>\n",
              "      <td>quantity unit ingredient ingredient quantity i...</td>\n",
              "      <td>[250, grams, Okra, Oil, 1, Onion, finely, chop...</td>\n",
              "      <td>[quantity, unit, ingredient, ingredient, quant...</td>\n",
              "      <td>31</td>\n",
              "      <td>31</td>\n",
              "    </tr>\n",
              "    <tr>\n",
              "      <th>55</th>\n",
              "      <td>200 grams Paneer Homemade Cottage Cheese 2 Pot...</td>\n",
              "      <td>quantity unit ingredient ingredient ingredient...</td>\n",
              "      <td>[200, grams, Paneer, Homemade, Cottage, Cheese...</td>\n",
              "      <td>[quantity, unit, ingredient, ingredient, ingre...</td>\n",
              "      <td>41</td>\n",
              "      <td>41</td>\n",
              "    </tr>\n",
              "    <tr>\n",
              "      <th>109</th>\n",
              "      <td>500 grams Cabbage Patta Gobi Muttaikose 1 teas...</td>\n",
              "      <td>quantity unit ingredient ingredient ingredient...</td>\n",
              "      <td>[500, grams, Cabbage, Patta, Gobi, Muttaikose,...</td>\n",
              "      <td>[quantity, unit, ingredient, ingredient, ingre...</td>\n",
              "      <td>25</td>\n",
              "      <td>25</td>\n",
              "    </tr>\n",
              "    <tr>\n",
              "      <th>213</th>\n",
              "      <td>500 grams Fresh Figs 1/4 cup Lemon juice 1 tea...</td>\n",
              "      <td>quantity unit ingredient ingredient quantity u...</td>\n",
              "      <td>[500, grams, Fresh, Figs, 1/4, cup, Lemon, jui...</td>\n",
              "      <td>[quantity, unit, ingredient, ingredient, quant...</td>\n",
              "      <td>21</td>\n",
              "      <td>21</td>\n",
              "    </tr>\n",
              "    <tr>\n",
              "      <th>38</th>\n",
              "      <td>2 cups Water 1 teaspoon Tea leaves 1/4 Milk 10...</td>\n",
              "      <td>quantity unit ingredient quantity unit ingredi...</td>\n",
              "      <td>[2, cups, Water, 1, teaspoon, Tea, leaves, 1/4...</td>\n",
              "      <td>[quantity, unit, ingredient, quantity, unit, i...</td>\n",
              "      <td>12</td>\n",
              "      <td>12</td>\n",
              "    </tr>\n",
              "  </tbody>\n",
              "</table>\n",
              "</div>"
            ],
            "text/plain": [
              "                                                 input  \\\n",
              "175  250 grams Okra Oil 1 Onion finely chopped Toma...   \n",
              "55   200 grams Paneer Homemade Cottage Cheese 2 Pot...   \n",
              "109  500 grams Cabbage Patta Gobi Muttaikose 1 teas...   \n",
              "213  500 grams Fresh Figs 1/4 cup Lemon juice 1 tea...   \n",
              "38   2 cups Water 1 teaspoon Tea leaves 1/4 Milk 10...   \n",
              "\n",
              "                                                   pos  \\\n",
              "175  quantity unit ingredient ingredient quantity i...   \n",
              "55   quantity unit ingredient ingredient ingredient...   \n",
              "109  quantity unit ingredient ingredient ingredient...   \n",
              "213  quantity unit ingredient ingredient quantity u...   \n",
              "38   quantity unit ingredient quantity unit ingredi...   \n",
              "\n",
              "                                          input_tokens  \\\n",
              "175  [250, grams, Okra, Oil, 1, Onion, finely, chop...   \n",
              "55   [200, grams, Paneer, Homemade, Cottage, Cheese...   \n",
              "109  [500, grams, Cabbage, Patta, Gobi, Muttaikose,...   \n",
              "213  [500, grams, Fresh, Figs, 1/4, cup, Lemon, jui...   \n",
              "38   [2, cups, Water, 1, teaspoon, Tea, leaves, 1/4...   \n",
              "\n",
              "                                            pos_tokens  input_length  \\\n",
              "175  [quantity, unit, ingredient, ingredient, quant...            31   \n",
              "55   [quantity, unit, ingredient, ingredient, ingre...            41   \n",
              "109  [quantity, unit, ingredient, ingredient, ingre...            25   \n",
              "213  [quantity, unit, ingredient, ingredient, quant...            21   \n",
              "38   [quantity, unit, ingredient, quantity, unit, i...            12   \n",
              "\n",
              "     pos_length  \n",
              "175          31  \n",
              "55           41  \n",
              "109          25  \n",
              "213          21  \n",
              "38           12  "
            ]
          },
          "execution_count": 21,
          "metadata": {},
          "output_type": "execute_result"
        }
      ],
      "source": [
        "# print the first five rows of train_df\n",
        "train_df.head(5)"
      ]
    },
    {
      "cell_type": "code",
      "execution_count": 22,
      "metadata": {
        "id": "Kgtg5WE4_d7h"
      },
      "outputs": [
        {
          "data": {
            "text/html": [
              "<div>\n",
              "<style scoped>\n",
              "    .dataframe tbody tr th:only-of-type {\n",
              "        vertical-align: middle;\n",
              "    }\n",
              "\n",
              "    .dataframe tbody tr th {\n",
              "        vertical-align: top;\n",
              "    }\n",
              "\n",
              "    .dataframe thead th {\n",
              "        text-align: right;\n",
              "    }\n",
              "</style>\n",
              "<table border=\"1\" class=\"dataframe\">\n",
              "  <thead>\n",
              "    <tr style=\"text-align: right;\">\n",
              "      <th></th>\n",
              "      <th>input</th>\n",
              "      <th>pos</th>\n",
              "      <th>input_tokens</th>\n",
              "      <th>pos_tokens</th>\n",
              "      <th>input_length</th>\n",
              "      <th>pos_length</th>\n",
              "    </tr>\n",
              "  </thead>\n",
              "  <tbody>\n",
              "    <tr>\n",
              "      <th>33</th>\n",
              "      <td>1 cup Ada 2 liter Milk 3/4 Sugar tablespoon Gh...</td>\n",
              "      <td>quantity unit ingredient quantity unit ingredi...</td>\n",
              "      <td>[1, cup, Ada, 2, liter, Milk, 3/4, Sugar, tabl...</td>\n",
              "      <td>[quantity, unit, ingredient, quantity, unit, i...</td>\n",
              "      <td>15</td>\n",
              "      <td>15</td>\n",
              "    </tr>\n",
              "    <tr>\n",
              "      <th>108</th>\n",
              "      <td>1 Carrot Gajjar chopped 7 Potatoes Aloo 2 cups...</td>\n",
              "      <td>quantity ingredient ingredient ingredient quan...</td>\n",
              "      <td>[1, Carrot, Gajjar, chopped, 7, Potatoes, Aloo...</td>\n",
              "      <td>[quantity, ingredient, ingredient, ingredient,...</td>\n",
              "      <td>56</td>\n",
              "      <td>56</td>\n",
              "    </tr>\n",
              "    <tr>\n",
              "      <th>240</th>\n",
              "      <td>1 tablespoon Sunflower Oil 3 Potato Aloo Ginge...</td>\n",
              "      <td>quantity unit ingredient ingredient quantity i...</td>\n",
              "      <td>[1, tablespoon, Sunflower, Oil, 3, Potato, Alo...</td>\n",
              "      <td>[quantity, unit, ingredient, ingredient, quant...</td>\n",
              "      <td>35</td>\n",
              "      <td>35</td>\n",
              "    </tr>\n",
              "    <tr>\n",
              "      <th>259</th>\n",
              "      <td>1 cup green peas gram flour 1/2 cheese tsp gin...</td>\n",
              "      <td>quantity unit ingredient ingredient ingredient...</td>\n",
              "      <td>[1, cup, green, peas, gram, flour, 1/2, cheese...</td>\n",
              "      <td>[quantity, unit, ingredient, ingredient, ingre...</td>\n",
              "      <td>18</td>\n",
              "      <td>18</td>\n",
              "    </tr>\n",
              "    <tr>\n",
              "      <th>154</th>\n",
              "      <td>2 cups Brown Rice cooked tablespoons Garlic ch...</td>\n",
              "      <td>quantity unit ingredient ingredient ingredient...</td>\n",
              "      <td>[2, cups, Brown, Rice, cooked, tablespoons, Ga...</td>\n",
              "      <td>[quantity, unit, ingredient, ingredient, ingre...</td>\n",
              "      <td>51</td>\n",
              "      <td>51</td>\n",
              "    </tr>\n",
              "  </tbody>\n",
              "</table>\n",
              "</div>"
            ],
            "text/plain": [
              "                                                 input  \\\n",
              "33   1 cup Ada 2 liter Milk 3/4 Sugar tablespoon Gh...   \n",
              "108  1 Carrot Gajjar chopped 7 Potatoes Aloo 2 cups...   \n",
              "240  1 tablespoon Sunflower Oil 3 Potato Aloo Ginge...   \n",
              "259  1 cup green peas gram flour 1/2 cheese tsp gin...   \n",
              "154  2 cups Brown Rice cooked tablespoons Garlic ch...   \n",
              "\n",
              "                                                   pos  \\\n",
              "33   quantity unit ingredient quantity unit ingredi...   \n",
              "108  quantity ingredient ingredient ingredient quan...   \n",
              "240  quantity unit ingredient ingredient quantity i...   \n",
              "259  quantity unit ingredient ingredient ingredient...   \n",
              "154  quantity unit ingredient ingredient ingredient...   \n",
              "\n",
              "                                          input_tokens  \\\n",
              "33   [1, cup, Ada, 2, liter, Milk, 3/4, Sugar, tabl...   \n",
              "108  [1, Carrot, Gajjar, chopped, 7, Potatoes, Aloo...   \n",
              "240  [1, tablespoon, Sunflower, Oil, 3, Potato, Alo...   \n",
              "259  [1, cup, green, peas, gram, flour, 1/2, cheese...   \n",
              "154  [2, cups, Brown, Rice, cooked, tablespoons, Ga...   \n",
              "\n",
              "                                            pos_tokens  input_length  \\\n",
              "33   [quantity, unit, ingredient, quantity, unit, i...            15   \n",
              "108  [quantity, ingredient, ingredient, ingredient,...            56   \n",
              "240  [quantity, unit, ingredient, ingredient, quant...            35   \n",
              "259  [quantity, unit, ingredient, ingredient, ingre...            18   \n",
              "154  [quantity, unit, ingredient, ingredient, ingre...            51   \n",
              "\n",
              "     pos_length  \n",
              "33           15  \n",
              "108          56  \n",
              "240          35  \n",
              "259          18  \n",
              "154          51  "
            ]
          },
          "execution_count": 22,
          "metadata": {},
          "output_type": "execute_result"
        }
      ],
      "source": [
        "# print the first five rows of the val_df\n",
        "val_df.head(5)"
      ]
    },
    {
      "cell_type": "markdown",
      "metadata": {
        "id": "7prEiaiqI_VZ"
      },
      "source": [
        "###### **3.1.3** **Extract the dataset into train_df and val_df into X_train, X_val, y_train and y_val and display their length** <font color = red> [2 marks]</font> <br>\n",
        "\n",
        "Extract X_train, X_val, y_train and y_val by extracting the list of input_tokens and pos_tokens from train_df and val_df and also display their length"
      ]
    },
    {
      "cell_type": "code",
      "execution_count": 23,
      "metadata": {
        "id": "BFVnCD71IHXF"
      },
      "outputs": [],
      "source": [
        "# extract the training and validation sets by taking input_tokens and pos_tokens\n",
        "X_train = train_df['input_tokens'].tolist()\n",
        "y_train = train_df['pos_tokens'].tolist()\n",
        "\n",
        "X_val = val_df['input_tokens'].tolist()\n",
        "y_val = val_df['pos_tokens'].tolist()"
      ]
    },
    {
      "cell_type": "code",
      "execution_count": 24,
      "metadata": {
        "id": "yQPOVz3J_fiq"
      },
      "outputs": [
        {
          "name": "stdout",
          "output_type": "stream",
          "text": [
            "  X_train length: 196\n",
            "  X_val   length: 84\n",
            "  y_train length: 196\n",
            "  y_val   length: 84\n"
          ]
        }
      ],
      "source": [
        "# validate the shape of training and validation samples\n",
        "print(f\"  X_train length: {len(X_train)}\")\n",
        "print(f\"  X_val   length: {len(X_val)}\")\n",
        "print(f\"  y_train length: {len(y_train)}\")\n",
        "print(f\"  y_val   length: {len(y_val)}\")"
      ]
    },
    {
      "cell_type": "markdown",
      "metadata": {
        "id": "8uicUYglLeiA"
      },
      "source": [
        "###### **3.1.4** **Display the number of unique labels present in y_train** <font color = red> [2 marks]</font> <br>"
      ]
    },
    {
      "cell_type": "code",
      "execution_count": 25,
      "metadata": {
        "id": "hzWtzpdINt6X"
      },
      "outputs": [
        {
          "name": "stdout",
          "output_type": "stream",
          "text": [
            " Number of unique labels in y_train: 3\n",
            " Unique labels: {'quantity', 'ingredient', 'unit'}\n"
          ]
        }
      ],
      "source": [
        "# Display the number of unique labels present in y_train\n",
        "unique_labels_train = set(label for seq in y_train for label in seq)\n",
        "print(f\" Number of unique labels in y_train: {len(unique_labels_train)}\")\n",
        "print(f\" Unique labels: {unique_labels_train}\")"
      ]
    },
    {
      "cell_type": "markdown",
      "metadata": {
        "id": "QFm46QrB4gmj"
      },
      "source": [
        "## **4** Exploratory Recipe Data Analysis on Training Dataset <font color = red>[16 marks]</font> <br>"
      ]
    },
    {
      "cell_type": "markdown",
      "metadata": {
        "id": "KUWIp0n_NeH6"
      },
      "source": [
        "#### **4.1** *Flatten the lists for input_tokens & pos_tokens* <font color = red>[2 marks]</font> <br>\n",
        "\n",
        "Define a function **flatten_list** for flattening the structure for input_tokens and pos_tokens. The input parameter passed to this function is a nested list.\n",
        "\n",
        "Initialise the dataset_name with a value ***'Training'***\n",
        "\n",
        "\n"
      ]
    },
    {
      "cell_type": "code",
      "execution_count": 26,
      "metadata": {
        "id": "WzcY0gPiOe8o"
      },
      "outputs": [],
      "source": [
        "# flatten the list for nested_list (input_tokens, pos_tokens)\n",
        "def flatten_list(nested_list):\n",
        "    \"\"\"\n",
        "    Flattens a nested list (list of lists) into a single list.\n",
        "    Returns:\n",
        "        List[Any]: A single flattened list.\n",
        "    \"\"\"\n",
        "    return [item for sublist in nested_list for item in sublist]"
      ]
    },
    {
      "cell_type": "code",
      "execution_count": 42,
      "metadata": {
        "id": "DXRda29gNBH8"
      },
      "outputs": [
        {
          "name": "stdout",
          "output_type": "stream",
          "text": [
            " Flattened 'Training' dataset:\n",
            " Total tokens  : 7114\n",
            " Total labels  : 7114\n",
            "['250', 'grams', 'Okra', 'Oil', '1', 'Onion', 'finely', 'chopped', 'Tomato', 'Grated', 'teaspoon', 'Ginger', '2', 'Garlic', 'Finely', '1/2', 'Cumin', 'seeds', '1/4', 'Teaspoon', 'asafoetida', 'cup', 'cottage', 'cheese', 'pinched', 'coriander', 'powder', 'mango', 'red', 'chilli', 'turmeric', '200', 'grams', 'Paneer', 'Homemade', 'Cottage', 'Cheese', '2', 'Potato', 'Aloo', 'Bay', 'leaf', 'tej', 'patta', 'Dry', 'Red', 'Chilli', '1', 'tablespoon', 'Panch', 'Phoran', 'Masala', 'roasted', 'and', 'powdered', 'Tomato', 'big', 'sized', 'teaspoon', 'Turmeric', 'powder', 'Haldi', 'Cumin', 'seeds', 'Jeera', 'Ginger', 'grated', 'Salt', '1/2', 'Sugar', 'Sunflower', 'Oil', '500', 'grams', 'Cabbage', 'Patta', 'Gobi', 'Muttaikose', '1', 'teaspoon', 'Mustard', 'seeds', '1-1/2', 'White', 'Urad', 'Dal', 'Split', 'sprig', 'Curry', 'leaves', 'Green', 'Chilli', '1/4', 'cup', 'Fresh', 'coconut', 'Salt', '500', 'grams', 'Fresh', 'Figs', '1/4', 'cup', 'Lemon', 'juice', '1', 'teaspoon', 'zest', '2', 'Red', 'Chilli', 'flakes', '1/2', 'Honey', 'Brown', 'Sugar', '(Demerara', 'Sugar)', '2', 'cups', 'Water', '1', 'teaspoon', 'Tea', 'leaves', '1/4', 'Milk', '10', 'Saffron', 'strands', '1', 'cup', 'Rice', '1/2', 'Green', 'peas', '3', 'Potatoes', 'Aloo', 'Onion', 'tablespoon', 'Ginger', 'Garlic', 'Paste', '2', 'Chillies', 'Black', 'cardamom', 'Badi', 'Elaichi', 'Bay', 'leaf', 'tej', 'patta', 'Cardamom', 'Pods/Seeds', 'inch', 'Cinnamon', 'Stick', 'Dalchini', 'Cloves', 'Laung', 'teaspoon', 'Cumin', 'seeds', 'Jeera', 'Coriander', 'Powder', 'Dhania', 'powder', 'pepper', 'Red', 'Chilli', 'Ghee', 'Leaves', 'finely', 'chopped', 'garnish', '2', 'Carrot', 'Gajjar', '3/4', 'cup', 'Sweet', 'corn', '1', 'Whole', 'Wheat', 'Flour', 'Onion', 'finely', 'chopped', '5', 'tablespoons', 'Del', 'Monte', 'Sandwich', 'Spread', '1/4', 'Coriander', 'Dhania', 'Leaves', '3', 'Eggs', 'teaspoon', 'Baking', 'powder', 'soda', 'Green', 'Chillies', '3', 'Mooli', 'Mullangi', 'Radish', '2', 'Potato', 'Aloo', '1', 'Onion', 'Green', 'Chilli', 'tablespoons', 'Kasundi', 'mustard', 'sauce', 'teaspoon', 'Red', 'powder', '1/2', 'Turmeric', 'Haldi', 'Mustard', 'seeds', 'Cumin', 'Jeera', 'Kalonji', 'Nigella', 'Seeds', 'tablespoon', 'oil', 'Sugar', 'Salt', '1/2', 'Chicken', 'Thighs', 'Wings', '2', 'Tablespoon', 'Soy', 'sauce', '1.5', 'Honey', 'Vinegar', '1', 'teaspoon', 'Garlic', 'Minced', 'Ginger', 'Grated', 'Sesame', 'Gingelly', 'Oil', 'Olive', 'Black', 'pepper', 'powder', 'seeds', 'Til', '7', 'Potatoes', '350', 'gms', 'Cheese', '5', 'Tomatoes', '2', 'inch', 'Ginger', 'Grated', 'Green', 'Chillies', '1', 'teaspoon', 'Red', 'Chilli', 'Powder', 'Coriander', 'Cumin', 'Salt', 'oil', 'coriander', 'Finely', 'chopped', '24', 'Whole', 'Wheat', 'Brown', 'Bread', '1', 'cup', 'Milk', '150', 'grams', 'Khoya', 'Mawa', 'Sugar', '1/4', 'Badam', 'Almond', 'finely', 'chopped', 'Ghee', 'for', 'deep', 'frying', '1', 'cup', 'All', 'Purpose', 'Flour', 'Maida', '2', 'tablespoons', 'Ghee', '1/2', 'teaspoon', 'Salt', 'Sunflower', 'Oil', 'for', 'deep', 'frying', 'Cumin', 'seeds', 'Jeera', 'Green', 'Chilli', 'Sauce', 'Cinnamon', 'Powder', 'Dalchini', 'Garam', 'masala', 'powder', '1/4', 'Red', 'Amchur', 'Dry', 'Mango', '1-1/2', 'cups', 'peas', 'Matar', 'steamed', 'and', 'mashed', 'Water', '2', 'cups', 'Brown', 'Rice', '80', 'grams', 'Rolled', 'Oats', 'Or', 'Instant', '3', 'Whole', 'Eggs', 'Spring', 'Onion', 'Greens', 'finely', 'chopped', 'Carrots', 'Gajjar', '12', 'Green', 'beans', 'French', 'Beans', '1', 'cup', 'Cabbage', 'Patta', 'Gobi', 'Muttaikose', 'teaspoon', 'Sunflower', 'Oil', 'Salt', 'and', 'Pepper', '1', 'cup', 'Rice', 'flour', 'Salt', 'Sunflower', 'Oil', 'Bok', 'Choy', 'sliced', 'Carrot', 'Gajjar', 'thinly', '1/2', 'Cabbage', 'Patta', 'Gobi', 'Muttaikose', 'Button', 'mushrooms', 'quartered', '2', 'tablespoons', 'Corn', 'tablespoon', 'Dark', 'soy', 'sauce', 'Bean', 'Paste', 'teaspoon', 'Red', 'Chilli', 'Sugar', '500', 'grams', 'Chicken', 'thighs', '1', 'Onion', 'diced', '10', 'cloves', 'Garlic', 'chopped', 'inch', 'Ginger', 'grated', '6', 'Tomatoes', 'desseded', '1/3', 'cup', 'Coriander', '(Dhania)', 'Leaves', '3', 'Green', 'Chillies', 'slit', '2', 'teaspoon', 'Kasuri', 'Methi', '(Dried', 'Fenugreek', 'Leaves)', '1/4', 'Turmeric', 'powder', '(Haldi)', 'Kashmiri', 'Red', 'Chilli', 'Powder', 'Garam', 'masala', 'teaspoons', 'Sunflower', 'Oil', 'Salt', '8', 'Oreo', 'biscuits', '1/2', 'cup', 'Vanilla', 'Ice', 'cream', '2', 'scoops', '1/4', 'Milk', '1', 'tablespoon', 'Chocolate', 'sauce', 'Heavy', 'whipping', '200', 'grams', 'Paneer', 'Homemade', 'Cottage', 'Cheese', 'cut', 'into', '1', 'inch', 'cubes', '2', 'Green', 'Chilli', 'finely', 'chopped', 'teaspoon', 'Ginger', 'tablespoon', 'Raisins', '6', 'Cashew', 'nuts', 'Badam', 'Almond', 'Pistachios', '1/4', 'Turmeric', 'powder', 'teaspoons', 'Gram', 'flour', 'Cardamom', 'Powder', 'Sunflower', 'Oil', 'Bay', 'leaf', 'tej', 'patta', '2-3', 'Pods', 'Seeds', 'Cinnamon', 'Stick', 'Dalchini', 'Cloves', 'Laung', 'Mace', 'Javitri', 'Star', 'anise', 'cup', 'tomato', 'puree', '3', 'cloves', 'Garlic', 'Onion', 'roughly', 'Coriander', 'Dhania', '1/2', 'Red', '10', 'soaked', 'and', 'grind', 'to', 'a', 'smooth', 'paste', 'tablespoons', 'Curd', 'Dahi', 'Yogurt', 'Kasuri', 'Methi', 'Dried', 'Fenugreek', 'Leaves', 'Honey', 'Fresh', 'cream', '1', 'tsp', 'coconut', 'oil', 'sprig', 'curry', 'leaves', '4', 'long', 'garlic', 'inch', 'ginger', 'onion', '2', 'tomatoes', '1/2', 'turmeric', 'powder', 'teaspoon', 'garam', 'masala', 'red', 'chilli', 'coriander', '300', 'grams', 'chicken', 'breast', 'cups', 'water', '2', 'bay', 'leaves', '5', 'tablespoons', 'coriander', 'seeds', 'whole', 'pepper', 'celery', 'cumin', '6', 'cardamom', '1', 'large', '3', 'mace', 'stone', 'flowers', 'star', 'anis', '1/4', 'small', 'Spoon', 'Nutmeg', 'Powder', 'inch', 'Cinnamon', 'Long', '1/4', 'cup', 'Lemon', 'juice', '500', 'grams', 'Curd', 'Dahi', 'Yogurt', 'Sugar', 'powdered', '2', 'tablespoons', 'Fresh', 'cream', '1/8', 'teaspoon', 'Turmeric', 'powder', 'Vanilla', 'Extract', 'few', 'drops', '1', 'Orange', 'Zest', 'Rind', 'two', 'wedges', '500', 'grams', 'Brinjal', 'Baingan', 'Eggplant', '1', 'Onion', 'finely', 'chopped', '1/2', 'teaspoon', 'Cumin', 'seeds', 'Jeera', 'Mustard', 'inch', 'Ginger', 'grated', '2', 'cloves', 'Garlic', 'Turmeric', 'powder', 'Haldi', 'Coriander', 'Powder', 'Dhania', 'Red', 'Chilli', 'Amchur', 'Dry', 'Mango', 'Tomato', 'Salt', 'Leaves', 'Fennel', 'Saunf', 'Kalonji', 'Nigella', 'Seeds', 'Ajwain', 'Carom', '1/4', 'Methi', 'Fenugreek', '4-5', 'Chillies', 'Sunflower', 'Oil', 'for', 'cooking', '8', 'Whole', 'Wheat', 'Brown', 'Bread', '200', 'grams', 'Paneer', 'Homemade', 'Cottage', 'Cheese', 'grated', '1', 'Green', 'Bell', 'Pepper', 'Capsicum', 'finely', 'chopped', 'Chilli', 'teaspoon', 'Chaat', 'Masala', 'Powder', '1/2', 'Black', 'pepper', 'powder', '2', 'tablespoons', 'Butter', 'Salt', '1/2', 'cup', 'Sooji', 'Semolina', 'Rava', '1/4', 'Curd', 'Dahi', 'Yogurt', 'Onion', 'powder', 'finely', 'chopped', 'Green', 'Bell', 'Pepper', 'Capsicum', '2', 'tablespoons', 'Coriander', 'Dhania', 'Leaves', '1', 'Chilli', 'teaspoon', 'Black', 'pepper', 'Salt', 'Sunflower', 'Oil', '1-1/2', 'cups', 'Vivatta', 'Maida', '3/4', 'Mango', 'Pulp', '(Puree)', 'teaspoons', 'Baking', 'powder', '1/4', 'soda', 'Sunflower', 'Oil', 'Sugar', 'Salt', '1', 'teaspoon', 'Vanilla', 'Extract', '150', 'grams', 'Dark', 'chocolate', '-', 'chopped', 'Fresh', 'cream', '2', 'tablespoons', 'Cocoa', 'Powder', '3', 'powdered', '1', 'cup', 'Arhar', 'dal', '5', 'cups', 'Water', 'teaspoon', 'Turmeric', 'powder', 'Green', 'Chillies', '30', 'grams', 'Tamarind', '1/2', 'Lemon', 'juice', 'tablespoon', 'Ghee', 'Mustard', 'seeds', '1/4', 'Asafoetida', 'hing', 'Curry', 'leaves', 'Handful', 'Coriander', 'Dhania', 'Leaves', '1-1/2', 'cups', 'Rice', 'Vermicelli', 'Noodles', 'Thin', '1', 'Onion', 'sliced', '1/2', 'cup', 'Carrots', 'Gajjar', 'chopped', '1/3', 'Green', 'peas', 'Matar', '2', 'Chillies', '1/4', 'teaspoon', 'Asafoetida', 'hing', 'Mustard', 'seeds', 'White', 'Urad', 'Dal', 'Split', 'Ghee', 'sprig', 'Curry', 'leaves', 'Salt', 'Lemon', 'juice', '1', 'cup', 'Whole', 'Wheat', 'Flour', 'Spinach', 'Leaves', 'Palak', '3', 'Potatoes', 'Aloo', 'boiled', 'mashed', '1/2', 'Paneer', 'Homemade', 'Cottage', 'Cheese', 'crumbled', 'grated', 'tablespoon', 'Coriander', 'Dhania', 'teaspoon', 'Garam', 'masala', 'powder', 'Salt', 'Cumin', 'Jeera', 'Red', 'Chilli', '2', 'chopped', 'green', 'chillies', '1-1/2', 'Mixed', 'nuts', 'Raisins', 'Ghee', 'to', 'smear', '2', 'cups', 'Basmati', 'rice', '1', 'Yellow', 'Bell', 'Pepper', 'Capsicum', 'Red', 'Green', 'Chillies', 'finely', 'chopped', 'inch', 'Ginger', 'grated', 'teaspoon', 'Butter', 'Sesame', 'seeds', 'Til', 'Salt', '500', 'grams', 'bottle', 'gourd', '1', 'onion', '6', 'cloves', 'garlic', 'inch', 'ginger', '4', 'green', 'chillies', 'teaspoon', 'cumin', 'seeds', '1/2', 'mustard', '1/4', 'methi', 'fenugreek', 'turmeric', 'powder', 'red', 'chilli', 'tablespoon', 'coriander', '2', 'cup', 'tamarind', 'water', 'tomatoes', '3', 'sprig', 'leaves', 'tablespoons', 'roasted', 'peanuts', 'sesame', 'fresh', 'coconut', '200', 'grams', 'small', 'potatoes', '2', 'tsp', 'turmeric', 'powder', 'cardamom', '1', 'inch', 'cinnamon', 'long', 'bay', 'leaf', '1/2', 'cup', 'tomato', 'puree', 'garam', 'masala', 'yogurt', 'red', 'chilli', 'coriander', 'sugar', 'salt', 'stock', 'green', 'onion', 'ginger', '3', 'cloves', 'garlic', 'chillies', '1/4', 'cup', 'Rice', 'Yellow', 'Moong', 'Dal', '1', 'Carrot', 'Gajjar', '3', 'Green', 'beans', 'French', 'Beans', 'teaspoon', 'Ghee', 'Cumin', 'seeds', 'Asafoetida', 'hing', 'Salt', 'a', 'pinch', '1', 'tablespoon', 'Gingelly', 'oil', '1/4', 'teaspoon', 'Mustard', 'seeds', 'Methi', 'Seeds', 'Fenugreek', '3', 'Dry', 'Red', 'Chillies', '1/2', 'cup', 'Pearl', 'onions', 'Sambar', 'Onions', 'halved', 'sprig', 'Curry', 'leaves', 'Urad', 'dal', 'papad', 'broken', 'in', 'to', 'quarters', 'Tamarind', 'Water', 'Powder', 'Jaggery', 'Turmeric', 'powder', 'Haldi', 'cups', 'Salt', 'as', 'needed', '1/2', 'cup', 'Instant', 'Oats', 'Oatmeal', 'Wheat', 'Flakes', 'Cereal', '3', 'tablespoon', 'Pine', 'nuts', 'tablespoons', 'Pumpkin', 'seeds', 'Dates', 'dried', 'ones', 'finely', 'chopped', 'Dried', 'raspberries', 'Raisins', 'sultana', 'Badam', 'Almond', 'Walnuts', 'teaspoon', 'Cinnamon', 'Powder', 'Dalchini', 'Nutmeg', 'powder', 'Vanilla', 'Extract', 'Sunflower', 'Oil', '1', 'Honey', '1/2', 'cup', 'Jowar', 'Flour', 'Sorghum', 'Bajra', 'Pearl', 'Millet', '3/4', 'Whole', 'Wheat', '1', 'Sunflower', 'Oil', 'Homemade', 'Hummus', 'tablespoon', 'Butter', 'Broccoli', 'cut', 'into', 'small', 'florets', 'Cherry', 'tomatoes', 'slit', 'half', 'Onion', 'sliced', '4', 'cloves', 'Garlic', 'finely', 'chopped', 'teaspoon', 'Sugar', 'Black', 'pepper', 'powder', 'Cumin', 'Jeera', '4', 'Karela', 'Bitter', 'Gourd', 'Pavakkai', 'sliced', 'into', 'rounds', '2', 'teaspoons', 'Coriander', 'Powder', 'Dhania', '1', 'teaspoon', 'Red', 'Chilli', 'powder', 'pinch', 'Asafoetida', 'hing', '1/4', 'cup', 'Gram', 'flour', 'besan', 'Black', 'Salt', 'Kala', 'Namak', 'Sunflower', 'Oil', 'Hung', 'Curd', 'Greek', 'Yogurt', 'Chaat', 'Masala', 'tablespoon', 'Sweet', 'Chutney', 'Date', 'Tamarind', '1/2', 'Sev', 'Aloo', 'Bhujia', 'Dates', 'few', 'Leaves', 'small', 'bunch', '200', 'grams', 'cheese', '50', 'spinach', '2', 'green', 'chillies', '1', 'onion', 'tomato', 'cloves', 'garlic', '1/2', 'small', 'Teaspoon', 'cumin', 'tsp', 'red', 'chilli', 'powder', 'garam', 'masala', 'mango', 'tbsp', 'butter', 'salt', 'oil', '1', 'Chicken', 'breasts', 'cut', 'into', 'thin', 'strips', '2', 'tablespoon', 'Coriander', 'Powder', '(Dhania)', '2-1', 'Red', 'Chilli', 'powder', 'teaspoon', 'Cumin', 'Black', 'pepper', '1/4', 'Turmeric', 'Haldi', 'Ginger', 'Garlic', 'Paste', 'Extra', 'Virgin', 'Olive', 'Oil', 'Salt', 'cup', 'Whole', 'Wheat', 'Flour', 'Active', 'dry', 'yeast', '1/2', 'Milk', 'Sugar', 'Cucumber', 'julienne', 'Carrot', '(Gajjar)', 'Tomato', 'pulp', 'removed', 'vinegar', 'Homemade', 'Hummus', 'Tzatziki', 'Onion', 'chopped', '2', 'cups', 'Cauliflower', 'gobi', '4', 'Garlic', 'sliced', 'teaspoon', 'Cumin', 'seeds', 'Jeera', 'roasted', 'and', 'crushed', '1', 'Coriander', 'Powder', 'Dhania', 'Black', 'pepper', 'powder', 'or', 'red', 'chilli', '3', 'tablespoon', 'Extra', 'Virgin', 'Olive', 'Oil', '1/4', 'Anardana', 'Pomegranate', 'Seed', 'tablespoons', 'molasses', 'honey', 'Fresh', 'Herbs', 'Handful', 'of', 'herbs', 'choice', 'like', 'basil', 'Salt', '1', 'Carrot', 'Gajjar', '1/4', 'cup', 'Green', 'beans', 'French', 'Beans', '200', 'grams', 'Tofu', '1/2', 'Red', 'Bell', 'pepper', 'Capsicum', 'Pepper', '2', 'inch', 'Ginger', '3', 'cloves', 'Garlic', 'Dry', 'Chillies', 'tablespoons', 'Soy', 'sauce', 'teaspoon', 'Chilli', 'vinegar', 'teaspoons', 'Sugar', '1-1/2', 'cups', 'Vegetable', 'stock', 'Corn', 'flour', 'water', 'tablespoon', 'Sunflower', 'Oil', 'Salt', 'and', '1/2', 'cup', 'Sundkai', '1/4', 'fenugreek', 'Arhar', 'dal', 'boiled', 'mashed', 'Tomato', '1', 'Tamarind', 'tsp', 'Turmeric', 'Powder', '2', 'Sambar', 'Coriander', 'teaspoon', 'mustard', 'cumin', 'seeds', 'dry', 'red', 'chili', 'asafoetida', 'oil', 'salt', 'water', '500', 'grams', 'Chicken', '1', 'Onion', 'Tomato', '2', 'sprig', 'Curry', 'leaves', 'tablespoon', 'Ginger', 'Garlic', 'Paste', '1/2', 'teaspoon', 'Turmeric', 'powder', 'Haldi', 'Cumin', 'Jeera', 'roasted', 'Fennel', 'Powder', 'Coriander', 'Dhania', '2-1/2', 'Black', 'pepper', 'Salt', 'Sunflower', 'Oil', 'Water', 'Leaves', '1', 'cup', 'yogurt', 'banana', 'fried', '1/4', 'pomegranate', 'teaspoon', 'red', 'chili', 'powder', 'sugar', '1/2', 'cumin', 'Dijon', 'mustard', 'salt', '160', 'grams', 'Dark', 'chocolate', '1', 'teaspoon', 'Sprig', 'Extract', 'of', 'Natural', 'Bourbon', 'Vanilla', '3', 'Egg', 'yolks', 'whites', '1/2', 'cup', 'Caster', 'Sugar', 'Tablespoons', '1/4', 'Fresh', 'cream', 'chilled', 'and', 'strained', 'from', 'water', '500', 'grams', 'Kataifi', 'dough', '200', 'Butter', '2', 'tablespoons', 'Sugar', '1', 'Rose', 'water', '2-1/2', 'cups', '1-1/2', 'Water', 'teaspoon', 'Lemon', 'juice', 'Saffron', 'strands', 'few', 'cup', 'Paneer', '(Homemade', 'Cottage', 'Cheese)', '1/2', 'Mango', 'Pulp', '(Puree)', 'Icing', 'teaspoons', 'Thandai', 'Masala', '50', 'Heavy', 'whipping', 'cream', 'Fresh', 'Pistachios', '-', 'crushed', 'Dried', 'rose', 'petals', '1', 'cup', 'Green', 'Amaranth', 'Leaves', '20', 'grams', 'Tamarind', 'Onion', 'Tomato', '10', 'cloves', 'Garlic', 'teaspoon', 'Mustard', 'seeds', '1/4', 'Asafoetida', 'hing', 'sprig', 'Curry', 'leaves', '2', 'teaspoons', 'Sambar', 'Powder', 'Methi', 'Fenugreek', 'tablespoon', 'Sesame', 'Gingelly', 'Oil', 'Salt', '2', 'Chicken', 'sausage', '1', 'teaspoon', 'Butter', '250', 'grams', 'Dry', 'beans', 'Extra', 'Virgin', 'Olive', 'Oil', 'Onion', 'finely', 'chopped', 'clove', 'Garlic', 'grated', '500', 'Tomatoes', 'pureed', 'tablespoon', 'Honey', 'Cumin', 'powder', 'Jeera', 'Dried', 'oregano', '1/4', 'Red', 'Chilli', 'cayenne', 'pepper', 'Salt', 'and', 'Pepper', 'cup', 'Broccoli', 'cut', 'into', 'small', 'florets', 'cloves', 'Thyme', 'Leaves', 'Black', 'for', 'seasoning', '1', 'cup', 'Moth', 'Sprouts', 'Matki', '1/2', 'White', 'Urad', 'Dal', 'Split', '2', 'Green', 'Chillies', 'teaspoon', 'Fennel', 'seeds', 'Saunf', 'inch', 'Ginger', 'Spinach', 'Leaves', 'Palak', '1/4', 'Turmeric', 'powder', 'Haldi', 'Sunflower', 'Oil', '100', 'grams', 'Paneer', 'Homemade', 'Cottage', 'Cheese', '2', 'Potatoes', 'Aloo', '1', 'Onion', 'julienned', 'inch', 'Ginger', 'grated', 'cloves', 'Garlic', 'Green', 'Bell', 'Pepper', 'Capsicum', '3', 'Tomatoes', 'finely', 'chopped', 'Pav', 'bhaji', 'masala', 'tablespoons', 'Coriander', 'Dhania', 'Leaves', 'French', 'bread', 'or', 'rye', 'to', 'make', 'sandwiches', 'Rocket', 'leaves', 'salad', 'for', 'the', 'sandwich', '15', 'Pointed', 'gourd', 'Parval', 'cut', 'into', 'wedges', '3', '4', 'Potatoes', 'Aloo', 'skin', 'peeled', '1/2', 'teaspoon', 'Methi', 'Seeds', 'Fenugreek', 'Cumin', 'seeds', 'Jeera', '1', 'Fennel', 'Saunf', 'Cloves', 'Laung', 'inch', 'Cinnamon', 'Stick', 'Dalchini', 'Dry', 'Red', 'Chilli', 'Ginger', 'finely', 'chopped', 'cup', 'Fresh', 'coconut', 'grated', '2', 'tablespoon', 'Poppy', 'powder', 'Turmeric', 'Haldi', 'Green', 'Chillies', 'Sugar', 'Salt', 'Mustard', 'oil', 'for', 'cooking', '500', 'gram', 'Chicken', 'cut', 'into', 'pieces', '2', 'teaspoon', 'Ginger', 'paste', '1', 'Garlic', 'tablespoon', 'Fresh', 'cream', 'Badam', 'Almond', '1/2', 'Lemon', 'juice', '1/4', 'Black', 'pepper', 'powder', 'Salt', 'Onion', 'sliced', 'cup', 'Milk', 'Cardamom', 'Powder', 'Elaichi', 'inch', 'Cinnamon', 'Stick', 'Dalchini', 'Bay', 'leaf', 'tej', 'patta', 'Kasuri', 'Methi', 'Dried', 'Fenugreek', 'Leaves', '4', 'Ghee', '1', 'Snake', 'gourd', 'pudulangai', 'finely', 'chopped', 'cup', 'Curd', 'Dahi', 'Yogurt', '1/2', 'Fresh', 'coconut', 'grated', 'teaspoon', 'Sunflower', 'Oil', '1/4', 'Turmeric', 'powder', 'Haldi', 'Dry', 'Red', 'Chilli', 'broken', 'into', 'pieces', 'Cumin', 'seeds', 'Jeera', 'Mustard', 'Asafoetida', 'hing', '2', 'cup', 'Tamarind', 'Water', '1/2', 'Arhar', 'dal', 'Split', 'Toor', 'Dal', '1', 'teaspoon', 'Asafoetida', 'hing', 'Salt', 'Mustard', 'seeds', 'Cumin', 'Jeera', 'Methi', 'Seeds', 'Fenugreek', 'sprig', 'Curry', 'leaves', 'pinch', 'Sunflower', 'Oil', 'for', 'cooking', '1', 'Chicken', 'legs', '1/4', 'cup', 'Hung', 'Curd', '(Greek', 'Yogurt)', '1/2', 'teaspoon', 'Turmeric', 'powder', '(Haldi)', 'Salt', 'Sunflower', 'Oil', 'Onion', '-', 'sliced', '4', 'cloves', 'Garlic', 'inch', 'Ginger', '2', 'tablespoon', 'Fresh', 'coconut', 'grated', 'Cumin', 'seeds', '(Jeera)', 'teaspoons', 'Coriander', '(Dhania)', 'Seeds', 'Methi', '(Fenugreek', 'Seeds)', 'Kalonji', '(Onion', 'Nigella', 'Whole', 'Black', 'Peppercorns', 'Dry', 'Red', 'Chillies', 'Fennel', '(Saunf)', 'Cinnamon', 'Stick', '(Dalchini)', 'Cloves', '(Laung)', 'Cardamom', '(Elaichi)', 'Pods/Seeds', 'Mustard', 'Ghee', 'Tamarind', 'Paste', 'Jaggery', 'sprig', 'Curry', 'leaves', '1', 'tablespoon', 'Sunflower', 'Oil', 'All', 'Purpose', 'Flour', 'Maida', '1/4', 'teaspoon', 'Baking', 'powder', 'Water', '2', 'Honey', 'Sugar', 'Sesame', 'seeds', 'Til', '1/2', 'Vanilla', 'Extract', '2', 'Onions', 'cut', 'into', 'thin', 'rings', '1', 'Lemon', 'juice', 'extracted', 'Black', 'Salt', 'Kala', 'Namak', '1/2', 'teaspoon', 'Red', 'Chilli', 'powder', 'Chaat', 'Masala', 'Powder', '15', 'Baby', 'corn', 'cut', 'into', 'length', 'wise', '250', 'grams', 'Tofu', 'or', 'paneer', '1/2', 'cup', 'Water', '1/4', 'Corn', 'flour', 'Rice', '1', 'Red', 'Yellow', 'and', 'Green', 'Bell', 'Peppers', 'Capsicum', 'sliced', '2', 'teaspoon', 'Light', 'soy', 'sauce', 'Garlic', 'paste', '1.5', 'Fresh', 'Chilli', 'Vinegar', 'Honey', 'Salt', 'tablespoon', 'Sunflower', 'Oil', 'Onion', 'minced', '1/3', 'Raw', 'Peanuts', 'Moongphali', 'salted', 'powdered', '1-1/4', 'orange', 'juice', '1-1/2', 'tablespoons', 'Orange', 'marmalade', 'jam', 'Paprika', 'powder', 'Spring', 'Bulb', 'Greens', 'finely', 'chopped', 'teaspoons', 'Sesame', 'seeds', 'Til', 'roasted', '2', 'cups', 'Whole', 'Wheat', 'Flour', 'Salt', 'Ghee', '1', 'tablespoon', '200', 'grams', 'Paneer', 'Homemade', 'Cottage', 'Cheese', '1/4', 'Hung', 'Curd', 'Greek', 'Yogurt', 'inch', 'Ginger', '4', 'cloves', 'Garlic', 'Kasuri', 'Methi', 'Dried', 'Fenugreek', 'Leaves', '1/2', 'teaspoon', 'Turmeric', 'powder', 'Chaat', 'Masala', 'Powder', 'Garam', 'masala', 'Mint', 'Pudina', 'Coal', 'Onion', 'Lemon', 'juice', '2', 'cups', 'Fresh', 'coconut', 'grated', '1', 'cup', 'Palm', 'jaggery', 'use', 'date', 'Poha', 'Flattened', 'rice', '1/2', 'All', 'Purpose', 'Flour', 'Maida', '1/4', 'Sooji', 'Semolina', 'Rava', '4', 'tablespoons', 'Milk', 'warm', 'liter', '3/4', 'palm', '2', 'Mango', 'Ripe', '1', 'cup', 'Sugar', 'teaspoon', 'Saffron', 'strands', '1/4', 'Cinnamon', 'Powder', 'Dalchini', '500', 'grams', 'Gunde', 'bird', 'lime', '1', 'teaspoon', 'Methi', 'Seeds', 'Fenugreek', '1/2', 'Cumin', 'seeds', 'Jeera', 'Asafoetida', 'hing', 'Fennel', 'Saunf', 'Mustard', 'Turmeric', 'powder', 'Haldi', 'Red', 'Chilli', 'Amchur', 'Dry', 'Mango', 'Powder', 'Coriander', 'Dhania', 'Leaves', 'few', '1', 'cup', 'Whole', 'Wheat', 'Flour', 'pinch', 'Salt', 'teaspoon', 'Italian', 'seasoning', '1/4', 'Cheese', 'spread', 'flavoured', 'Broccoli', 'cut', 'into', 'florets', 'Onion', 'thinly', 'sliced', 'Red', 'Bell', 'pepper', 'Capsicum', 'diced', '2', 'sprig', 'Parsley', 'leaves', 'roughly', 'chopped', '1/2', 'cup', 'Tender', 'coconut', 'water', '1', 'Fresh', 'cream', '1/4', 'Sugar', 'granulated', 'meat', 'Little', 'extra', 'Condensed', 'Milk', 'Honey', 'for', 'glazing', 'Optional', 'Ice', 'cone', '2', 'Banana', 'flower', 'Vazhaipoo', '1', 'cup', 'Coconut', 'milk', 'thick', '3', 'thin', '1/2', 'Rice', 'raw', 'Chana', 'dal', 'Bengal', 'Gram', '1/4', 'Onion', 'Cardamom', 'Elaichi', 'Pods/Seeds', 'Sugar', '3/4', 'teaspoon', 'Salt', 'Water', '4', 'Curd', 'Vada', '1', 'cup', 'Papdi', 'puris', 'Sweet', 'Chutney', 'Date', 'Tamarind', 'Green', 'Coriander', 'Mint', '2', 'Onions', 'finely', 'chopped', 'Carrot', 'Gajjar', 'grated', 'Anardana', 'Powder', 'Pomegranate', 'Seed', '1/4', 'Raw', 'Peanuts', 'Moongphali', 'roasted', 'and', 'halved', 'Boondi', 'or', 'sev', 'sprig', 'Dhania', 'Leaves', '1', 'cup', 'Whole', 'Wheat', 'Flour', 'All', 'Purpose', 'Maida', 'teaspoon', 'Ajwain', 'Carom', 'seeds', 'Cumin', 'Jeera', '2', 'tablespoons', 'Ghee', 'Salt', 'Chana', 'dal', 'Bengal', 'Gram', 'Dal', '1/2', 'Turmeric', 'powder', 'Haldi', 'Garam', 'masala', '1/4', 'Red', 'Chilli', 'Amchur', 'Dry', 'Mango', 'Powder', 'Sugar', 'tablespoon', 'Asafoetida', 'hing', 'Green', 'Chillies', 'slit', 'sprig', 'Curry', 'leaves', 'Sweet', 'Chutney', 'Date', 'Tamarind', 'Coriander', 'Mint', 'Onion', 'finely', 'chopped', 'Fresh', 'Pomegranate', 'Fruit', 'Kernels', 'Sev', '300', 'grams', 'Tofu', 'crumbled', '1', 'Onion', 'chopped', 'Red', 'Bell', 'pepper', 'Capsicum', 'Tomato', 'Green', 'Chilli', 'teaspoon', 'Cumin', 'seeds', 'Jeera', '2', 'powder', 'Black', 'Turmeric', 'Haldi', '4', 'sprig', 'Coriander', 'Dhania', 'Leaves', 'Salt', 'Sunflower', 'Oil', '2', 'cups', 'lentil', 'water', '1', 'cup', '3', 'long', 'whole', 'black', 'peppers', 'teaspoon', 'cumin', 'mustard', 'bay', 'leaf', '5', 'curry', 'leaves', 'Jaggery', 'grated', 'tamarind', 'paste', '1/2', 'goda', 'masala', 'tablespoon', 'oil', 'coriander', 'salt', '1/4', 'cup', 'lentils', 'green', 'peas', '1', 'onion', 'finely', 'chopped', 'tomato', '1/2', 'inch', 'ginger', 'grated', '2', 'cloves', 'garlic', 'chillies', 'Cut', 'teaspoon', 'turmeric', 'powder', 'salt', 'mustard', 'fenugreek', 'seeds', 'cumin', 'aniseed', 'Kalonji', 'garam', 'masala', 'teaspoons', 'oil', 'asafetida', 'a', 'pinch', '6', 'Karela', 'Bitter', 'Gourd', 'Pavakkai', 'Salt', '1', 'Onion', '3', 'tablespoon', 'Gram', 'flour', 'besan', '2', 'teaspoons', 'Turmeric', 'powder', 'Haldi', 'Red', 'Chilli', 'Cumin', 'seeds', 'Jeera', 'Coriander', 'Powder', 'Dhania', 'Amchur', 'Dry', 'Mango', 'Sunflower', 'Oil', '12', 'Baby', 'Potatoes', '1', 'Dry', 'Red', 'Chilli', 'teaspoon', 'Cumin', 'seeds', 'sprig', 'Curry', 'leaves', 'Coriander', 'Powder', '1/2', 'Turmeric', 'powder', 'Garam', 'masala', 'Amchur', 'Mango', 'Lemon', 'juice', '3', 'tablespoons', 'Leaves', 'chopped', '1', 'teaspoon', 'oil', 'mustard', 'capsicum', 'yellow', 'cut', 'red', 'green', 'onion', 'curry', 'leaves', 'little', 'Salt', 'as', 'per', 'taste', '1/2', 'cup', 'peanuts', 'roast', 'tablespoon', 'coconut', '4', 'dry', 'chillies', '3', 'cloves', 'garlic', 'unpeeled', 'cumin', 'seeds', 'sprig', 'coridander', 'chopped', '500', 'grams', 'Baby', 'Potatoes', '1/2', 'teaspoon', 'Cumin', 'powder', 'Jeera', 'Black', 'pepper', 'Garam', 'masala', '2', 'teaspoons', 'Lemon', 'juice', 'Sesame', 'seeds', 'Til', '1', 'tablespoon', 'Ghee', 'or', 'clarified', 'butter', 'Rock', 'Salt', 'cup', 'Coriander', 'Dhania', 'Leaves', 'roughly', 'chopped', 'inch', 'Ginger', 'Green', 'Chilli', '1', 'cup', 'Aam', 'Papad', 'pieces', 'Mint', 'Leaves', 'Pudina', '1/2', 'Coriander', 'Dhania', '2', 'Green', 'Chillies', 'tablespoon', 'Sugar', 'Salt', 'Hot', 'water', 'cups', '1', 'cup', 'Button', 'mushrooms', 'chopped', 'Green', 'peas', 'Matar', 'boiled', '1/2', 'teaspoon', 'Cumin', 'seeds', 'Jeera', 'Mustard', 'Asafoetida', 'hing', 'Onion', 'paste', 'Tomato', 'tablespoon', 'Ginger', 'Garlic', 'Paste', 'Chilli', 'Red', 'powder', 'Turmeric', 'Haldi', 'Coriander', 'Powder', 'Dhania', '1/4', 'Garam', 'masala', '2', 'sprig', 'Leaves', '1', 'cup', 'jackfruit', 'seeds', 'tamarind', 'water', '8', 'cloves', 'garlic', '1/2', 'teaspoon', 'mustard', 'cumin', 'curry', 'leaves', '1/4', 'turmeric', 'powder', 'red', 'chilli', '2', 'teaspoons', 'sambar', 'asafoetida', 'coriander', 'sunflower', 'oil', 'fresh', 'coconut', '10', 'whole', 'black', 'peppercorns', 'dry', 'chillies', 'onion', 'chopped', 'tomato', '1', 'cup', 'Gram', 'flour', 'besan', '1/2', 'Coconut', 'milk', '3/4', 'Water', 'inch', 'Ginger', 'grated', '2', 'cloves', 'Garlic', 'teaspoon', 'Ajwain', 'Carom', 'seeds', '1/4', 'Asafoetida', 'hing', 'Turmeric', 'powder', 'Baking', 'soda', '2-3', 'Green', 'Chillies', 'finely', 'chopped', 'Onion', 'Tomato', 'Coriander', 'Dhania', 'Leaves', 'A', 'handful', 'Salt', 'Sunflower', 'Oil', '100', 'grams', 'Pheni', 'one', 'roll', '300', 'ml', 'Milk', '1/4', 'cup', 'Sugar', '1', 'tablespoon', 'Ghee', '2', 'tablespoons', 'Cashew', 'nuts', 'Raisins', 'Almond', 'Meal', 'Badam', 'Powder', '1/2', 'cup', 'green', 'beans', 'chopped', 'steam', 'carrots', '1', 'cabbage', 'steamed', 'potatoes', 'boiled', '6', 'cloves', 'garlic', '2', 'inch', 'ginger', 'onion', 'chilies', 'cups', 'rice', 'wash', 'tomato-puree', 'curd', 'cinnamon', '4', 'cardamom', 'bay', 'leaves', 'tsp', 'turmeric', 'powder', 'red', 'chilli', 'Small', 'spoon', 'coriander', 'salt', 'oil', 'cut', '3', 'sprigs', 'mint', 'finely', 'cook', 'till', 'it', 'turns', 'brown', '1', 'teaspoon', 'cumin', 'seeds', '1/2', 'asafoetida', 'onion', 'finely', 'chopped', '2', 'green', 'chillies', 'little', '1-1/2', 'cup', 'gram', 'flour', 'coriander', 'red', 'chilli', 'powder', 'turmeric', 'salt', '200', 'grams', 'Button', 'mushrooms', '1', 'Potato', 'Aloo', 'Onion', 'Green', 'Chilli', 'inch', 'Ginger', 'teaspoon', 'Sunflower', 'Oil', 'cup', 'All', 'Purpose', 'Flour', 'Maida', '2', 'Burger', 'buns', '5', 'Pickled', 'Jalapenos', 'sliced', 'Cheese', 'Slices', 'Potatoes', 'Aloo', 'pressure', 'cooked', '1', 'Onion', 'chopped', 'tablespoon', 'Red', 'Chilli', 'powder', 'Salt', 'Whole', 'Egg', '1/2', 'cup', 'Wheat', 'Bread', 'crumbs', '4', 'cloves', 'Garlic', 'Onions', 'Tomatoes', 'Homemade', 'tomato', 'puree', 'Green', 'Bell', 'Pepper', 'Capsicum', 'Soy', 'granules', 'teaspoon', 'flakes', 'Cumin', 'Jeera', 'Dried', 'oregano', 'Tabasco', 'Original', 'Hot', 'Sauce', 'Honey', 'Sunflower', 'Oil', '2', 'cups', 'Fresh', 'orange', 'juice', 'teaspoons', 'Ginger', 'grated', 'tablespoons', 'Tea', 'Monk', 'Seiki', 'Peppermint', 'Green', '4', 'Chilled', 'water', '2', 'cups', 'Idli', 'Dosa', 'Batter', 'Rice', 'parboiled', '1/4', 'Poha', 'Flattened', 'rice', 'thick', '3', 'Buttermilk', 'sour', '1', 'teaspoon', 'Cooking', 'soda', 'Butter', 'loni', 'white', 'Beetroot', 'peeled', '5', 'to', '7', 'Curry', 'leaves', '1/2', 'tablespoon', 'Green', 'Chilli', 'Paste', 'Salt', 'Sesame', 'Gingelly', 'Oil', '300', 'grams', 'Green', 'beans', '3', 'cloves', 'Garlic', '1', 'tablespoon', 'Soy', 'sauce', '2', 'Thai', 'Sweet', 'Chilli', 'Sauce', 'Lemon', 'Rice', 'Wine', 'Vinegar', '1/4', 'cup', 'Roasted', 'Peanuts', 'Salt', 'Sesame', 'Gingelly', 'Oil', '2', 'Mooli', 'Mullangi', 'Radish', '200', 'grams', 'Paneer', 'Homemade', 'Cottage', 'Cheese', '1', 'Green', 'Chilli', '4', 'cloves', 'Garlic', 'inch', 'Ginger', 'teaspoon', 'Cumin', 'powder', 'Sunflower', 'Oil', 'Salt', '1/4', 'Turmeric', 'Haldi', 'cup', 'Whole', 'Wheat', 'Flour', 'Ghee', '1', 'tablespoon', 'chana', 'dal', 'white', 'urad', '2', 'red', 'chillies', 'coriander', 'seeds', '3', 'inches', 'ginger', 'onion', 'tomato', 'Teaspoon', 'mustard', 'asafoetida', 'sprig', 'curry', '1', 'cup', 'Sooji', 'Semolina', 'Rava', 'Curd', 'Dahi', 'Yogurt', '5', 'Saffron', 'strands', '1/2', 'teaspoon', 'Cardamom', 'Powder', 'Elaichi', 'Baking', 'powder', '3', 'teaspoons', 'Caster', 'Sugar', '10', 'Cashew', 'nuts', 'Raisins', '2', 'Ghee', '1', 'cup', 'All', 'Purpose', 'Flour', 'Maida', '1/2', 'Sugar', 'Dark', 'chocolate', 'Cocoa', 'Powder', 'Salted', 'butter', '3/4', 'Milk', 'tablespoon', 'Baking', 'powder', 'teaspoon', 'soda', 'Vanilla', 'Extract', 'Britannia', 'Cream', 'Cheese', 'Caster', '8', 'Fresh', 'raspberries', '2', 'cups', 'rice', 'cooked', 'tomatoes', 'finely', 'chopped', '1', 'onion', 'thinly', 'sliced', 'teaspoon', 'red', 'chilli', 'powder', 'green', 'slit', 'mint', 'leaves', 'pudina', 'fistful', 'coriander', 'dhania', 'small', 'bunch', 'cinnamon', 'stick', 'dalchini', 'cloves', 'laung', 'sprig', 'curry', 'tablespoon', 'ghee', 'salt', 'inch', 'ginger', 'roughly', '3', 'to', '4', 'garlic', 'fennel', 'seeds', 'saunf', '10', 'prawns', '1', 'tablespoon', 'soy', 'sauce', 'teaspoon', 'sesame', 'gingelly', 'oil', 'cloves', 'garlic', 'finely', 'chopped', '2', 'green', 'chillies', 'coriander', 'dhania', 'leaves', '1/2', 'whole', 'black', 'peppercorns', 'crushed', 'sunflower', 'salt', 'few', 'drops', 'lemon', 'juice', '15', 'Gawar', 'Phali', 'Kothavarangai', 'Cluster', 'beans', '1', 'inch', 'Ginger', '4', 'cloves', 'Garlic', '5', 'Green', 'Chillies', '3', 'tablespoons', 'Roasted', 'Peanuts', 'Moongphali', '1/4', 'teaspoon', 'Coriander', 'Dhania', 'Seeds', '1/2', 'Cumin', 'seeds', 'Jeera', '18', 'grams', 'Tamarind', 'Salt', 'Mustard', 'White', 'Urad', 'Dal', 'Split', 'pinch', 'Asafoetida', 'hing', '1/2', 'cup', 'Chana', 'dal', 'Bengal', 'Gram', 'Dal', '2', 'Dry', 'Red', 'Chillies', '1', 'teaspoon', 'Fennel', 'seeds', 'Salt', 'Sunflower', 'Oil', 'Onion', 'finely', 'chopped', 'Tomato', 'Green', '7', 'cloves', 'Garlic', 'teaspoons', 'Coriander', 'Powder', 'Chilli', 'powder', 'Cinnamon', 'Stick', 'Bay', 'leaf', 'Cardamom', 'Pods', 'Seeds', 'sprig', 'Curry', 'leaves', 'Leaves', 'tablespoon', 'tablespoons', 'Fresh', 'coconut', 'Poppy', '5', 'Cashew', 'nuts', 'Roasted', 'Pottukadalai', '1', 'cup', 'Kabuli', 'Channa', 'teaspoon', 'cumin', 'seeds', '1/4', 'ginger', 'paste', '2', 'teaspoons', 'chana', 'masala', 'powder', 'red', 'chilli', 'Amchoor', 'turmeric', 'tablespoon', 'Coriander', 'salt', '1', 'cup', 'Rice', 'flour', 'Water', 'teaspoon', 'Sunflower', 'Oil', '1/4', 'Salt', 'cups', 'White', 'Urad', 'Dal', 'Whole', '2', 'Green', 'Chillies', 'inch', 'Ginger', 'Asafoetida', 'hing', 'Sesame', 'Gingelly', 'Mustard', 'seeds', 'sprig', 'Curry', 'leaves', '200', 'grams', 'Button', 'mushrooms', 'quartered', '500', 'Spinach', 'Leaves', 'Palak', 'washed', 'and', 'chopped', '1', 'Tomato', 'or', 'pureed', '2', 'cloves', 'Garlic', 'finely', 'inch', 'Ginger', 'Green', 'Chillies', 'slit', '1/2', 'teaspoon', 'Cumin', 'seeds', 'Jeera', 'Cinnamon', 'Stick', 'Dalchini', 'powder', '1/4', 'Turmeric', 'Haldi', 'Garam', 'masala', 'tablespoons', 'Fresh', 'cream', 'tablespoon', 'Ghee', 'Salt', '1', 'eggplant', '2', 'cups', 'yogurt', 'green', 'chilli', 'chopped', 'tsp', 'cumin', 'powder', '1/2', 'Kashmiri', 'red', 'garam', 'masala', 'onion', 'thin', 'and', 'straight', 'cut', 'salt', 'tbsp', 'ghee', 'coriander', '1', 'cup', 'Pink', 'Masoor', 'Dal', '200', 'grams', 'Drumstick', 'Leaves', 'Moringa', 'Murungai', 'Keerai', '1/4', 'teaspoon', 'Asafoetida', 'hing', 'Cumin', 'seeds', 'Jeera', 'inch', 'Ginger', 'finely', 'chopped', 'Dry', 'Red', 'Chilli', 'Tomato', 'Green', 'slit', '2', 'teaspoons', 'Coriander', 'Powder', 'Dhania', '1/2', 'Turmeric', 'powder', 'Haldi', 'Salt', 'tablespoon', 'Ghee', 'Lemon', 'juice', 'extracted', '1', '1/2', 'liter', 'Milk', '2', 'tablespoons', 'White', 'vinegar', 'cup', 'Sugar', 'Powder', 'Condensed', '4', 'Cardamom', 'Pods', 'Seeds', '3', 'Ghee', 'tablespoon', 'Pistachios', 'chopped', '1/8', 'teaspoon', 'Saffron', 'strands', 'or', 'Yellow', 'food', 'colour', '1', 'cup', 'All', 'Purpose', 'Flour', 'Maida', '2', 'tablespoons', 'Sunflower', 'Oil', '1/2', 'teaspoons', 'Ajwain', 'Carom', 'seeds', 'Green', 'peas', 'Matar', 'Paneer', 'Homemade', 'Cottage', 'Cheese', 'crumbled', 'teaspoon', 'Coriander', 'Powder', 'Dhania', 'Red', 'Chilli', 'Amchur', 'Dry', 'Mango', 'Turmeric', 'powder', 'Haldi', 'Onion', 'chopped', 'tomato', 'puree', 'Ginger', 'Garlic', 'Paste', '12', 'Whole', 'cashews', 'Curd', 'Dahi', 'Yogurt', 'Cloves', 'Laung', 'Mace', 'Javitri', 'Cardamom', 'Elaichi', 'Pods', 'Seeds', 'inch', 'Cinnamon', 'Stick', 'Dalchini', 'Cumin', 'Jeera', 'Garam', 'masala', 'Kasuri', 'Methi', 'Dried', 'Fenugreek', 'Leaves', 'Sugar', '4', 'Phulka', '2', 'cup', 'Potato', 'Aloo', 'mashed', '2-3', 'Green', 'Chillies', 'finely', 'chopped', '1', 'Carrot', 'Gajjar', 'grated', '1/2', 'Sweet', 'corn', 'Onion', 'teaspoon', 'Red', 'Chilli', 'powder', 'tablespoon', 'Amchur', 'Dry', 'Mango', 'Powder', 'Black', 'pepper', 'flakes', 'Lemon', 'juice', 'Whole', 'Wheat', 'Bread', 'crumbs', 'Corn', 'flour', '1', 'cup', 'rice', '2', 'tablespoons', 'ghee', 'teaspoon', 'cumin', 'seeds', 'bay', 'leaf', 'lentil', 'sugar', '3', 'long', 'green', 'chillies', 'tablespoon', 'ginger', 'garlic', 'paste', 'onions', 'tomatoes', '1/2', 'capsicum', 'red', 'chilli', 'powder', 'turmeric', 'coriander', 'garam', 'masala', 'tofu', 'cut', 'salt', 'garnish', '1-1/2', 'cups', 'All', 'Purpose', 'Flour', 'Maida', 'whole', 'Wheat', '2', 'teaspoons', 'Active', 'dry', 'yeast', '1/2', 'Salt', 'Sugar', '1-1/4', 'Lukewarm', 'Water', 'tablespoons', 'Extra', 'Virgin', 'Olive', 'Oil', '6', 'Bhindi', 'Lady', 'Finger', 'Okra', '2', 'Tomato', 'roughly', 'chopped', 'Pearl', 'onions', 'Sambar', 'Onions', 'quartered', '4', 'Garlic', '1', 'cup', 'Tamarind', 'Water', 'teaspoon', 'Red', 'Chilli', 'powder', '1/2', 'Turmeric', 'Haldi', '1/4', 'Asafoetida', 'hing', 'Coriander', 'Powder', 'Dhania', 'Sugar', 'Salt', 'Ghee', 'Mustard', 'seeds', 'Cumin', 'Jeera', 'Methi', 'Seeds', 'Fenugreek', 'sprig', 'Curry', 'leaves', 'Dry', 'broken', 'into', 'half', '1/2', 'cup', 'Milk', '1', 'tablespoon', 'Sooji', 'Semolina', 'Rava', 'Powder', 'All', 'Purpose', 'Flour', 'Maida', '1/8', 'teaspoon', 'Baking', 'soda', 'Caster', 'Sugar', '2', 'cups', '2-1/2', 'Water', 'Cardamom', 'Elaichi', 'Pistachios', 'chopped', 'Ghee', 'Vegetable', 'oil', '10', 'Jackfruit', 'Seeds', '1', 'cup', 'Kala', 'Chana', 'teaspoon', 'Mustard', 'seeds', '1/2', 'Cumin', 'sprig', 'Curry', 'leaves', 'Tomato', 'Tamarind', 'Water', 'Turmeric', 'powder', '4', 'Dry', 'Red', 'Chillies', 'Coriander', '(Dhania)', '2', 'Cloves', '(Laung)', 'inch', 'Cinnamon', 'Stick', '(Dalchini)', 'Fresh', 'coconut', 'Ginger', 'cloves', 'Garlic', '2', 'cups', 'Ragi', 'Flour', 'Finger', 'Millet', 'Nagli', '1', 'Onion', 'finely', 'chopped', 'Green', 'Chillies', 'Carrot', 'Gajjar', 'grated', '1/2', 'cup', 'Dill', 'leaves', '1/4', 'Coriander', 'Dhania', 'Leaves', 'teaspoon', 'Cumin', 'seeds', 'Salt', 'Ghee', '2', 'cups', 'Cooked', 'rice', '1', 'Coriander', 'Dhania', 'Leaves', 'teaspoons', 'Whole', 'Black', 'Peppercorns', 'crushed', 'tablespoons', 'Lemon', 'juice', 'Rajma', 'Large', 'Kidney', 'Beans', 'Homemade', 'tomato', 'puree', 'Onion', 'chopped', '3', 'cloves', 'Garlic', 'teaspoon', 'Cumin', 'seeds', 'Jeera', 'roasted', 'Chipotle', 'Chillies', 'Peppers', 'Sunflower', 'Oil', 'Red', 'Bell', 'pepper', 'Capsicum', 'sliced', 'Green', 'Pepper', 'Yellow', 'Dried', 'oregano', '1/2', 'Chilli', 'flakes', 'Extra', 'Virgin', 'Olive', 'Del', 'Monte', 'Corn', 'Kernels', 'fire', 'Tomato', '3/4', 'cup', 'Cheddar', 'cheese', 'Lettuce', 'leaves', 'shredded', '1/4', 'olives', 'Guacamole', 'recipes', '4', 'Potatoes', 'Aloo', 'chopped', '1-1/2', 'cups', 'Curd', 'Dahi', 'Yogurt', '2', 'tablespoons', 'Gram', 'flour', 'besan', '1/3', 'teaspoon', 'Asafoetida', 'hing', '1', 'Cumin', 'seeds', 'Jeera', 'sprig', 'Curry', 'leaves', 'Onion', 'finely', '1/2', 'Ginger', 'Garlic', 'Green', 'Chillies', 'Red', 'Chilli', 'powder', 'Coriander', 'Powder', 'Dhania', 'Turmeric', 'Haldi', 'Sunflower', 'Oil', 'Leaves', 'garnish', '3/4', 'cup', 'Mango', 'Pulp', 'Puree', '1', 'Curd', 'Dahi', 'Yogurt', 'tablespoon', 'Sugar', 'honey', '2', 'pinch', 'Saffron', 'strands', '3', 'tablespoons', 'Badam', 'Almond', 'Milk', 'luke', 'warm', 'more', 'cold', 'milk', 'Ice', 'cubes', 'a', 'few', '1', 'cup', 'Badam', 'Almond', '1/2', 'Ghee', '3/4', 'Milk', 'tablespoon', 'Whole', 'Wheat', 'Flour', 'Sugar', '3', 'Saffron', 'strands', 'tablespoons', 'Slivered', 'Almonds', '200', 'grams', 'Bhindi', 'Lady', 'Finger', 'Okra', '1', 'Onion', 'finely', 'chopped', 'inch', 'Ginger', 'grated', 'cup', 'Curd', 'Dahi', 'Yogurt', '2', 'tablespoons', 'Gram', 'flour', 'besan', 'teaspoon', 'Garam', 'masala', 'powder', '1/2', 'Turmeric', 'Haldi', 'Red', 'Chilli', 'Salt', 'tablespoon', 'Caramelized', 'onions', 'Sunflower', 'Oil', 'Ghee', 'Cumin', 'seeds', 'Jeera', 'Dry', 'Chillies', 'Coriander', 'Dhania', 'Leaves', 'a', 'small', 'bunch', '250', 'grams', 'Elephant', 'yam', '1/2', 'green', 'chilli', '1', 'inch', 'ginger', '3', 'tablespoons', 'coriander', 'chopped', 'cup', 'curd', 'teaspoon', 'oil', 'asafetida', '1-1/2', 'Rye', 'Kali', 'Urad', 'Dal', 'Split', '1', 'raw', 'mango', 'cup', 'tamarind', 'water', 'tablespoon', 'jaggery', 'sambar', 'powder', 'teaspoon', 'turmeric', '1/2', 'salt', 'mustard', 'asafoetida', 'Sprig', 'Curry', 'leaves', '2', 'dry', 'red', 'chillies', 'oil', '1', 'cup', 'Bajra', 'Flour', '1/2', 'Whole', 'Wheat', 'teaspoon', 'Turmeric', 'powder', 'Black', 'pepper', 'inch', 'Ginger', 'grated', 'Green', 'Chilli', '4', 'sprig', 'Coriander', 'Leaves', 'Sunflower', 'Oil', '400', 'grams', 'Tindora', 'Dondakaya', 'Kovakkai', 'sliced', 'roundels', '2', 'teaspoons', 'Sunflower', 'Oil', '1/2', 'Mustard', 'seeds', 'Dry', 'Red', 'Chillies', 'sprig', 'Curry', 'leaves', 'tablespoons', 'Raw', 'Peanuts', 'Moongphali', 'coarsely', 'ground', 'Sesame', 'Til', 'roasted', 'Chilli', 'powder', '1', 'teaspoon', 'Coriander', 'Powder', 'Dhania', 'pinch', 'Turmeric', 'Haldi', 'Salt', '3', 'cups', 'Mango', 'Ripe', 'cut', 'into', 'pieces', '1/4', 'Water', 'Sugar', 'optional', '2', 'Whole', 'Eggs', '3', 'tablespoons', 'Roasted', 'Gram', 'Dal', 'Pottukadalai', 'Dry', 'Red', 'Chillies', '1', 'inch', 'Ginger', 'chopped', '4', 'cloves', 'Garlic', 'tablespoon', 'Black', 'Peppercorns', 'Salt', '200', 'grams', 'Curd', 'Dahi', 'Yogurt', '1', 'Carrot', 'Gajjar', 'Orange', '5', 'Walnuts', '6', 'Cashew', 'nuts', 'Salt', 'sugar', '1/4', 'Cumin', 'powder', 'Jeera', 'pinch', 'Raita', 'masala', '1', 'tablespoon', 'Green', 'Coffee', 'beans', 'Cardamom', 'Elaichi', 'Pods', 'Seeds', '2.5', 'cups', 'Water', '1/8', 'teaspoon', 'Saffron', 'strands', 'Rose', 'water', '10', 'Baby', 'corn', '3', 'tablespoons', 'Whole', 'Wheat', 'Bread', 'crumbs', '2', 'Corn', 'flour', '1/2', 'Extra', 'Virgin', 'Olive', 'Oil', '1', 'vinegar', 'Potato', '(Aloo)', 'boiled', 'and', 'mashed', 'Coriander', '(Dhania)', 'Leaves', 'chopped', 'teaspoon', 'Pizza', 'seasoning', 'Garlic', 'paste', 'tablespoon', 'Red', 'Chilli', 'powder', 'Green', 'Paste', 'Ginger', 'Salt', 'Sunflower', 'for', 'frying', '300', 'grams', 'Vivatta', 'Maida', '75', 'Sugar', '175', 'Butter', 'unsalted', '15', 'Milk', 'Powder', '1', 'pinch', 'Baking', 'powder', '1/2', 'teaspoon', 'Vanilla', 'Extract', '3', 'Carrots', 'Gajjar', 'cups', 'Cabbage', 'Patta', 'Gobi', 'Muttaikose', '1', 'Green', 'Bell', 'Pepper', 'Capsicum', '1/2', 'teaspoon', 'Turmeric', 'powder', 'Haldi', 'Sugar', 'Lemon', 'juice', 'Salt', 'Sunflower', 'Oil', 'Mustard', 'seeds', '1/4', 'Asafoetida', 'hing', 'sprig', 'Curry', 'leaves', 'Chillies', 'slit', 'lengthwise', '2', 'cups', 'Rice', '4', 'tablespoons', 'Sunflower', 'Oil', '1', 'Onion', 'chopped', 'Tomato', 'tablespoon', 'Ginger', 'Garlic', 'Paste', '1/4', 'teaspoon', 'Red', 'Chilli', 'powder', 'cup', 'Carrots', 'Gajjar', 'Green', 'peas', 'Matar', 'steamed', 'Bell', 'Pepper', 'Capsicum', 'Potato', 'Aloo', 'cut', 'into', 'small', 'cubes', 'Cardamom', 'Elaichi', 'Pods', 'Seeds', 'Cloves', 'Laung', 'Garam', 'masala', 'Star', 'anise', 'inch', 'Cinnamon', 'Stick', 'Dalchini', 'Coriander', 'Dhania', 'Leaves', 'a', 'bunch', 'finely', 'Mint', 'Pudina', 'few', 'sprigs', 'Salt', '500', 'grams', 'Bhindi', 'Lady', 'Finger', 'Okra', '10', 'Pearl', 'onions', 'Sambar', 'Onions', '1/4', 'cup', 'Fresh', 'coconut', '2', 'Green', 'Chillies', '1', 'sprig', 'Curry', 'leaves', '1/2', 'teaspoon', 'Mustard', 'seeds', 'Turmeric', 'powder', 'Salt', 'Sunflower', 'Oil', '1', 'cup', 'Apricots', 'finely', 'chopped', '3/4', 'Whole', 'Wheat', 'Flour', 'Brown', 'Sugar', 'Demerara', '1/2', 'Butter', 'unsalted', 'cold', 'and', 'cut', 'in', 'a', 'small', 'chunks', 'teaspoon', 'Cinnamon', 'Powder', 'Dalchini', '4', 'tablespoon', 'Pecans', 'coarsely', '1-3/4', '125', 'grams', 'at', 'room', 'temperature', '1/4', 'Cocoa', '225', 'Dark', 'chocolate', 'Coffee', 'Decoction', '2', 'Eggs', 'Vanilla', 'Extract', 'Sour', 'cream', '1-1/2', 'Baking', 'powder', 'soda', '500', 'grams', 'Chicken', '2', 'Onion', 'chopped', '1', 'Tomato', '4', 'Green', 'Chillies', 'slit', 'inch', 'Ginger', 'finely', '6', 'cloves', 'Garlic', '1/2', 'teaspoon', 'Turmeric', 'powder', 'Haldi', 'Garam', 'masala', 'tablespoon', 'Sesame', 'Gingelly', 'Oil', '1/4', 'Methi', 'Seeds', 'Fenugreek', 'Coriander', 'Dhania', 'Dry', 'Red', 'Fennel', 'seeds', 'Saunf', 'cups', 'Sorrel', 'Leaves', 'Gongura', 'picked', 'and', '4', 'Hard', 'taco', 'shells', '1', 'cup', 'Hariyali', 'Chicken', 'Tikka', '1/2', 'Summer', 'Salad', 'Refried', 'beans', '2', 'tablespoons', 'Nutralite', 'Cheesy', 'Garlic', 'Mayo', '1/4', 'Tomato', 'Salsa', '250', 'grams', 'Fish', 'fillet', 'basa', 'Prawns', '15', 'Clamps', '5', 'Baby', 'Potatoes', '2', 'Carrots', 'Gajjar', '1', 'Onion', 'Tomato', 'Fresh', 'Red', 'chillies', 'cloves', 'Garlic', 'teaspoon', 'Cumin', 'powder', 'Jeera', 'Paprika', 'Salt', 'tablespoon', 'Lemon', 'juice', 'Black', 'pepper', '4', 'Coriander', 'Dhania', 'Leaves', 'Extra', 'Virgin', 'Olive', 'Oil', 'cup', 'Chicken', 'stock', '1/4', 'Coconut', 'milk', '1', 'cup', 'Raw', 'Peanuts', 'Moongphali', '2', 'tablespoons', 'Gram', 'flour', 'besan', 'tablespoon', 'Rice', '1/2', 'teaspoon', 'Red', 'Chilli', 'powder', 'Coriander', 'Powder', 'Dhania', 'pinch', 'Chaat', 'Masala', '1/4', 'Water', 'Black', 'pepper', 'Sunflower', 'Oil', 'Salt', 'to', 'fry', '2-1/2', 'cups', 'rice', 'cooked', '3', 'tomatoes', 'teaspoons', 'BC', 'Belle', 'Bhat', 'powder', '1', 'teaspoon', 'chickpea', 'lentils', '1/2', 'cumin', 'seeds', 'white', 'urad', 'dal', 'mustard', 'green', 'chilli', 'dry', 'red', '2', 'cashew', 'or', 'peanuts', '1-1/2', 'tablespoon', 'oil', 'asafoetida', '3-4', 'cups', 'Malabar', 'Spinach', 'Leaves', 'stalks', '1', 'cup', 'Kaddu', 'Parangikai', 'Pumpkin', '1/2', 'Mooli', 'Mullangi', 'Radish', 'Potato', 'Aloo', 'Brinjal', 'Baingan', 'Eggplant', 'teaspoon', 'Panch', 'Phoran', 'Masala', '2-3', 'Dry', 'Red', 'Chillies', '2', 'tablespoons', 'Mustard', 'oil', 'vegetable', 'Cumin', 'powder', 'Salt', 'Sugar', 'Turmeric', 'Haldi', '400', 'grams', 'Paneer', 'Homemade', 'Cottage', 'Cheese', '3', 'cloves', 'Garlic', 'chopped', '2', 'inch', 'Ginger', 'Fresh', 'Red', 'chillies', '1', 'teaspoon', 'Bell', 'pepper', 'Capsicum', 'Cumin', 'powder', 'Jeera', 'Coriander', 'Powder', 'Dhania', 'tablespoon', 'Garam', 'masala', '100', 'gram', 'Curd', 'Dahi', 'Yogurt', 'Butter', 'Onions', 'sliced', 'tablespoons', 'tomato', 'puree', 'Whole', 'cashews', 'almonds', 'paste', '50', 'cream', 'Leaves', 'to', 'garnish', 'Lemon', 'juice', '1/4', 'Turmeric', 'Haldi', '2', 'cups', 'Ridge', 'Gourd', 'Skin', 'Turai', 'Peerkangai', 'teaspoons', 'White', 'Urad', 'Dal', '5', 'Methi', 'Seeds', 'Fenugreek', '3', 'Dry', 'Red', 'Chillies', '10', 'Curry', 'leaves', '30', 'grams', 'Tamarind', '1/4', 'Mustard', 'seeds', 'Sunflower', 'Oil', 'Salt', '2', 'cups', 'fruit', 'pineapple', '1', '1/2', 'yogurt', '1/4', 'teaspoon', 'turmeric', 'powder', 'teaspoons', 'jaggery', 'salt', 'cup', 'coconut', 'green', 'chillies', 'mustard', 'dry', 'red', 'peppers', 'break', 'oil', 'sprig', 'curry', 'leaves', '1/2', 'cup', 'green', 'peas', '1', 'cheese', 'inch', 'ginger', 'chili', 'tsp', 'turmeric', 'powder', '2', 'red', 'mango', 'coriander', 'wheat', 'flour', 'water', 'lukewarm', '4', 'Tomatoes', '2', 'sprigs', 'Curry', 'leaves', 'Green', 'Chillies', '1/2', 'teaspoon', 'Turmeric', 'powder', '1', 'sprig', 'Coriander', 'Dhania', 'pinch', 'Sugar', '1', 'cup', 'Tindora', 'Dondakaya', 'Kovakkai', 'teaspoon', 'Red', 'Chilli', 'powder', '1/4', 'Split', 'Methi', 'Seeds', 'Kuria', '1/2', 'Mustard', 'Rai', 'Turmeric', 'Haldi', 'Asafoetida', 'hing', 'tablespoon', 'Sunflower', 'Oil', 'Lemon', 'juice', 'extracted', 'Salt', '1', 'cup', 'Barley', 'seeds', 'Broccoli', 'florets', '1/4', 'Green', 'peas', 'Matar', 'Sweet', 'corn', 'beans', 'French', 'Beans', '1/2', 'Carrots', 'Gajjar', 'Rocket', 'leaves', '2', 'Tomatoes', 'chopped', 'Onion', '4', 'cloves', 'Garlic', 'minced', 'tablespoon', 'Extra', 'Virgin', 'Olive', 'Oil', 'teaspoon', 'Basil', 'Fresh', 'Thyme', 'Red', 'Chilli', 'flakes', 'teaspoons', 'Corn', 'flour', 'Water', 'Sour', 'cream', '4', 'Tortillas', '1/4', 'cup', 'Black', 'beans', '6', 'to', '8', 'Spinach', 'Leaves', '1', 'Onion', 'chopped', 'Tomato', '2', 'cloves', 'Garlic', 'sprig', 'Coriander', 'Dhania', 'Rice', 'or', 'brown', 'rice', 'Lemon', 'juice', 'Spring', 'Greens', 'tablespoons', 'Cheddar', 'cheese', 'tablespoon', 'Hung', 'Curd', 'Greek', 'Yogurt', '300', 'grams', 'Small', 'Brinjal', 'Baingan', 'Eggplant', '200', 'Mustard', 'greens', '1', 'Onion', 'sliced', '4', 'cloves', 'Garlic', 'finely', 'chopped', 'inch', 'Ginger', '1/2', 'teaspoon', 'Cumin', 'seeds', 'Jeera', 'Red', 'Chilli', 'powder', 'Coriander', 'Powder', 'Dhania', 'Garam', 'masala', 'Amchur', 'Dry', 'Mango', 'Salt', '3', 'tablespoons', 'oil', 'for', 'cooking', '200', 'grams', 'Jackfruit', 'Raw', 'Kathal', '1', 'Onion', 'sliced', '4', 'cloves', 'Garlic', 'chopped', 'inch', 'Ginger', 'tablespoon', 'Cumin', 'powder', 'Jeera', 'teaspoon', 'Black', 'pepper', '1/2', 'Cinnamon', 'Powder', 'Dalchini', '2', 'Paprika', 'Turmeric', 'Haldi', 'cup', 'Rajma', 'Large', 'Kidney', 'Beans', 'soaked', 'boiled', 'Tomato', 'Red', 'Chilli', 'Sugar', '1/4', 'Cooked', 'rice', 'Dried', 'Thyme', 'Leaves', 'Bell', 'Capsicum', 'Yellow', 'Pepper', 'Green', 'Sour', 'cream', 'Salsa', 'Tortillas', '1/2', 'cup', 'Cauliflower', 'gobi', 'broken', 'into', 'small', 'florets', '1/4', 'Green', 'beans', 'French', 'cut', 'one-inch', 'pieces', 'Carrots', 'Gajjar', 'inch', 'long', '2', 'Potatoes', 'Aloo', 'cubes', '1', 'Onion', 'sliced', 'teaspoons', 'Sunflower', 'Oil', 'teaspoon', 'Mustard', 'seeds', 'sprig', 'Curry', 'leaves', 'Fresh', 'coconut', 'grated', 'Dry', 'Red', 'Chillies', 'Cumin', 'Jeera', 'Fennel', 'Saunf', '1', 'Brinjal', 'Baingan', 'Eggplant', '4', 'Tomatoes', '2', 'Onions', 'tablespoon', 'Ginger', 'Garlic', 'Paste', '20', 'grams', 'Tamarind', 'teaspoon', 'Mustard', 'seeds', 'Whole', 'Black', 'Peppercorns', '1/2', 'Jaggery', '1/4', 'Turmeric', 'powder', 'Red', 'Chilli', 'teaspoons', 'Sunflower', 'Oil', 'Salt', 'Coriander', 'Dhania', 'Leaves', '2-1', 'cups', 'coconut', 'milk', '1', 'cup', 'water', '1/4', 'roasted', 'chana', 'lentils', '6', 'green', 'chillies', 'teaspoon', 'oil', '1/2', 'mustard', 'small', 'spoon', 'turmeric', 'powder', 'cumin', 'seeds', 'curry', 'leaves', 'salt', 'coriander', '200', 'grams', 'Shrimps', 'prawns', '1', '1-1/2', 'cups', 'Basmati', 'rice', '4-5', 'Shallots', 'tablespoon', 'Ginger', 'paste', 'Garlic', '3', 'tablespoons', 'Fresh', 'coconut', 'grated', 'teaspoon', 'Green', 'Chilli', '1/2', 'cup', 'Hung', 'Curd', '(Greek', 'Yogurt)', '2', 'sprig', 'Curry', 'leaves', 'Sunflower', 'Oil', 'Ghee', 'Coriander', 'Powder', '(Dhania)', 'Red', 'powder', 'Turmeric', '(Haldi)', 'Garam', 'masala', '5-6', 'Whole', 'Black', 'Peppercorns', '4', 'Cardamom', '(Elaichi)', 'Pods/Seeds', 'cardamom', '(Badi', 'Elaichi)', 'inch', 'Cinnamon', 'Stick', '(Dalchini)', 'Bay', '(tej', 'patta)', '2-3', 'Dry', 'Cumin', 'seeds', '(Jeera)', '1', 'cup', 'Gram', 'flour', 'besan', '1/2', 'teaspoon', 'Ajwain', 'Carom', 'seeds', '1/4', 'Red', 'Chilli', 'powder', '2', 'tablespoons', 'Curd', 'Dahi', 'Yogurt', 'Sunflower', 'Oil', 'Green', 'Bell', 'Pepper', 'Capsicum', 'Cumin', 'Asafoetida', 'hing', 'Turmeric', 'Garam', 'masala', 'Amchur', 'Dry', 'Mango', 'Powder', 'Coriander', 'Dhania', '4', 'sprig', 'Leaves', 'chopped', '2', 'tablespoon', 'Extra', 'Virgin', 'Olive', 'Oil', 'Butter', 'unsalted', '1', 'Onion', 'finely', 'chopped', 'cups', 'Jasmine', 'Rice', 'teaspoon', 'Salt', 'cup', 'Sweet', 'corn', '1/4', 'Parsley', 'leaves', 'Parmesan', 'cheese', 'grated', 'Mozzarella', 'cut', 'into', 'small', 'cubes', 'All', 'Purpose', 'Flour', 'Maida', '3', 'Whole', 'Eggs', 'beaten', 'with', 'a', 'fork', 'Wheat', 'Bread', 'crumbs', 'Sunflower', 'for', 'deep', 'frying', '150', 'grams', 'Goond', 'Edible', 'Gum', '350', 'Ghee', '400', 'Whole', 'Wheat', 'Flour', 'Sugar', 'powdered', '50', 'Dry', 'coconut', 'kopra', 'Badam', 'Almond', 'chopped', 'Cashew', 'nuts', '10', 'Idli', '1', 'cup', 'Green', 'Bell', 'Pepper', 'Capsicum', 'Tomato', '2', 'Chillies', '1/4', 'teaspoon', 'Red', 'Chilli', 'powder', '1/2', 'Turmeric', '3', 'tablespoons', 'Ketchup', 'teaspoons', 'Sunflower', 'Oil', 'Salt', '600', 'grams', 'Aar', 'Maach', 'rohu', 'katla', '1', 'Tomato', '2', 'Bay', 'leaves', '1-1/2', 'tablespoons', 'Ginger', 'paste', '4', 'Green', 'Chillies', 'teaspoon', 'Cumin', 'powder', 'Coriander', 'Powder', 'Salt', '1/2', 'seeds', 'Turmeric', 'slit', 'lengthwise', '1-1/4', 'cups', 'Water', 'Sugar', 'tablespoon', 'Leaves', '1', 'cup', 'Whole', 'Wheat', 'Flour', 'Spinach', 'chopped', 'Kaddu', 'Parangikai', 'Pumpkin', 'grated', 'teaspoon', 'Red', 'Chilli', 'powder', '1/2', 'Turmeric', 'Haldi', 'Coriander', 'Powder', 'Dhania', 'Cumin', 'seeds', 'Jeera', '1/4', 'Salt', 'Water', 'Sunflower', 'Oil', '1', 'cup', 'rice', '2', 'water', 'tsp', 'ghee', 'cardamom', 'long', 'star', 'anise', '1/2', 'inch', 'cinnamon', 'whole', 'black', 'pepper', 'bay', 'leaf', '1/4', 'onion', 'sprig', 'green', 'coriander', 'mint', '200', 'grams', 'cottage', 'cheese', 'tomatoes', 'tablespoons', 'cream', 'ginger', '3', 'cloves', 'garlic', 'chili', 'powder', 'cumin', 'garam', 'masala', 'red', 'chilli', 'kasoori', 'methi', 'honey', 'tbsp', 'cashews', '1', 'Aar', 'Maach', 'Tomato', 'Bay', 'leaf', '2', 'tablespoons', 'Ginger', 'Garlic', 'Paste', '3', 'Green', 'Chillies', 'teaspoon', 'Cumin', 'seeds', 'Jeera', 'Coriander', 'Powder', 'Dhania', 'Red', 'Chilli', 'powder', '1/2', 'Turmeric', 'Haldi', 'Mustard', 'oil', 'Salt', 'Water', 'Leaves', 'Few', 'sprigs', '10', 'Potatoes', '1', 'teaspoon', 'Garlic', 'powder', 'Onion', 'Dried', 'oregano', 'tablespoon', 'Coriander', 'Leaves', 'finely', 'chopped', 'Red', 'Chilli', 'flakes', '2', 'All', 'Purpose', 'Flour', 'Maida', 'Rice', 'flour', 'Salt', 'Sunflower', 'Oil', 'for', 'deep', 'frying', 'the', 'tater', 'tots', '12', 'Kashmiri', 'dry', 'red', 'chillies', '1/4', 'teaspoon', 'Methi', 'Seeds', 'Fenugreek', '7', 'Garlic', 'cloves', '4', 'Shallots', 'peeled', '1/2', 'Cumin', 'seeds', 'Jeera', 'Turmeric', 'powder', 'Haldi', '2', 'Vinegar', '1/3', 'cup', 'Water', '3', 'Potatoes', 'Aloo', 'cleaned', 'Salt', 'tablespoon', 'Sunflower', 'Oil', '1', 'Mustard', '10', 'Curry', 'leaves', 'Sugar', '1', 'cup', 'Fresh', 'coconut', 'grated', '2-1/2', 'cups', 'Cooked', 'rice', 'teaspoon', 'Mustard', 'seeds', '2', 'teaspoons', 'White', 'Urad', 'Dal', 'Split', 'Chana', 'dal', 'Bengal', 'Gram', 'Raw', 'Peanuts', 'Moongphali', 'fistful', 'sprig', 'Curry', 'leaves', '3', 'or', '4', 'Green', 'Chillies', 'finely', 'chopped', 'Ginger', 'tablespoon', 'Coconut', 'Oil', 'Salt', '6', 'Whole', 'Wheat', 'Brown', 'Bread', '1/2', 'Green', 'zucchini', '1', 'Carrot', 'Gajjar', 'Red', 'Bell', 'pepper', 'Capsicum', 'cup', 'Spinach', 'Leaves', 'Palak', 'Button', 'mushrooms', 'Onion', '3', 'cloves', 'Garlic', '2', 'teaspoon', 'Extra', 'Virgin', 'Olive', 'Oil', '4', 'tablespoon', 'Dijon', 'Mustard', 'sprig', 'Fresh', 'Thyme', 'leaves', 'Black', 'powder', 'crushed', 'or', 'red', 'chilli', 'flakes', 'cups', 'Milk', 'Eggs', 'lightly', 'whisked', 'Cheddar', 'cheese', 'grated', 'and', 'for', 'topping', 'Butter', 'greasing', 'the', 'baking', 'dish', 'Salt', '1', 'cup', 'black', 'urad', 'dal', 'split', 'tablespoon', 'kidney', 'beans', '4', 'tomatoes', 'chopped', 'inch', 'ginger', 'grated', 'ghee', 'teaspoon', 'cumin', 'seeds', 'Kashmiri', 'red', 'chilli', 'powder', 'coriander', '1/2', 'garam', 'masala', 'salt', '1', 'cup', 'tamarind', 'paste', '1/2', 'jaggery', 'teaspoon', 'rasam', 'powder', 'red', 'chili', 'tablespoon', 'oil', 'fenugreek', 'seeds', '10', 'curry', 'leaves', 'mustard', 'asafoetida', 'Pinch', '4', 'to', '5', 'green', 'chillies', 'thin', 'and', 'straight', 'cut', '1', 'cup', 'almonds', '1/2', 'ghee', '3/4', 'milk', 'tablespoon', 'wheat', 'flour', 'sugar', '2', 'saffron', 'almond', 'silver', 'coating', '1/2', 'cup', 'Gram', 'flour', 'besan', '2', 'tablespoon', 'Rice', '1/4', 'Green', 'Moong', 'Sprouts', '1', 'Onion', 'Coriander', 'Dhania', 'Leaves', 'Chillies', 'teaspoon', 'Ginger', 'grated', 'Powder', 'Garam', 'masala', 'powder', 'Lemon', 'juice', 'Salt', 'Red', 'Chilli', 'Sunflower', 'Oil', 'to', 'deep', 'fry', '300', 'grams', 'Boneless', 'chicken', '2', 'Spring', 'Onion', 'Greens', 'finely', 'chopped', 'Green', 'Chillies', '1', 'teaspoon', 'Garlic', 'minced', 'tablespoons', 'Soy', 'sauce', 'tablespoon', 'Lemon', 'juice', 'Black', 'pepper', 'powder', '1/2', 'Red', 'Chilli', 'Cumin', '(Jeera)', 'Sweet', 'and', 'Spicy', 'Sauce', '(Tomato', 'Sauce)', 'Salt', '3', 'teaspoons', 'Sunflower', 'Oil', 'cups', 'Rice', 'soaked', 'for', '10', 'minutes', 'crushed', 'Ginger', 'slit', 'roasted', 'Bell', 'Pepper', '(Capsicum)', 'sliced', '(Bulb', '&', 'Greens)', 'Onions', 'cubed', 'Carrots', '(Gajjar)', 'Chinese', '5', 'Spice', 'Powder', 'White', '250', 'Egg', 'noodles', 'boiled', 'tossed', 'in', 'a', 'oil', 'cup', 'Classic', 'Mayonnaise', '(With', 'Egg)', 'Tomato', 'Ketchup', 'Vinegar', '1', 'cup', 'All', 'Purpose', 'Flour', 'Maida', 'tablespoon', 'Sunflower', 'Oil', 'Cabbage', 'Patta', 'Gobi', 'Muttaikose', 'shredded', '1/2', 'Green', 'peas', 'Matar', '2', 'sprig', 'Spring', 'Onion', 'Bulb', 'Greens', 'chopped', 'Soy', 'sauce', 'Red', 'Chilli', 'teaspoon', 'Honey', 'Salt', '4', 'Sesame', 'Gingelly', 'seeds', 'Til', '5', '1/3', 'Water', 'tablespoons', 'Brown', 'Sugar', 'Demerara', 'inch', 'Cinnamon', 'Stick', 'Dalchini', 'Star', 'anise', 'Ginger', '500', 'grams', 'Hakka', 'Noodles', '1/2', 'teaspoon', 'Salt', '1', 'tablespoon', 'Sunflower', 'Oil', 'Onion', 'Green', 'Bell', 'Pepper', 'Capsicum', '15', 'cloves', 'Garlic', 'Soy', 'sauce', 'Red', 'Chilli', 'White', 'vinegar', 'Tomato', 'Ketchup', '3', 'Dry', 'Chillies', 'crushed', 'Black', 'pepper', 'powder', '1-1/2', 'cups', 'Basmati', 'rice', '1', 'cup', 'Button', 'mushrooms', 'Soy', 'Chunks', 'Onion', 'sliced', 'inch', 'Ginger', '1/2', 'Curd', 'Dahi', 'Yogurt', '2', 'tablespoons', 'Biryani', 'Masala', '3', 'cloves', 'Garlic', 'teaspoon', 'Turmeric', 'powder', 'Haldi', 'Garam', 'masala', 'Red', 'Chilli', '1/4', 'Mint', 'Leaves', 'Pudina', 'Ghee', 'Green', 'Chillies', 'Ajwain', 'Carom', 'seeds', 'Bay', 'leaf', 'tej', 'patta', 'Star', 'anise', 'Cardamom', 'Pods', 'Seeds', 'Cloves', 'Laung', 'Cinnamon', 'Stick', 'Dalchini', '1', 'cup', 'Broken', 'Wheat', 'Dalia', 'Godumai', 'Rava', 'Salt', '1/2', 'teaspoon', 'Sunflower', 'Oil', '1/3', 'Gram', 'flour', 'besan', 'Onion', 'finely', 'chopped', '1/4', 'Coriander', 'Dhania', 'Leaves', 'Green', 'Chilli', 'Turmeric', 'powder', 'Haldi', 'Cumin', 'seeds', 'Jeera', 'Ajwain', 'Carom', 'tablespoon', 'Water', 'Enos', 'fruit', 'salt', '3', 'Oranges', '2', 'tablespoons', 'Orange', 'Zest', 'Sugar', '6', 'Whole', 'Eggs', '175', 'grams', 'Caster', '150', 'Almond', 'Meal', 'Badam', 'Powder', '100', 'Hazelnut', '1', 'teaspoon', 'Baking', 'powder', '200', 'Britannia', 'Cream', 'Cheese', 'Heavy', 'whipping', 'cream', 'Fresh', 'orange', 'juice', '75', 'Icing', '1', 'tablespoon', 'Cumin', 'seeds', 'Jeera', 'Cinnamon', 'Stick', 'Dalchini', 'Dry', 'ginger', 'powder', 'Turmeric', 'Haldi', '2', 'teaspoons', 'Red', 'Chilli', 'Coriander', 'Dhania', 'Seeds', 'Fennel', 'Saunf', 'Whole', 'Black', 'Peppercorns', '4', 'cloves', 'Garlic', 'teaspoon', 'Cardamom', 'Elaichi', 'Pods', 'Mace', 'Javitri', 'cups', 'Jasmine', 'Rice', 'cup', 'Coconut', 'milk', '1/2', 'Salt', 'tablespoons', 'Oil', 'Onion', 'diced', 'Bell', 'pepper', 'Capsicum', 'sliced', 'thin', '10', 'Gawar', 'Phali', 'Kothavarangai', 'Cluster', 'beans', 'chopped', 'into', 'half', 'inch', 'Ginger', 'minced', 'Stalks', 'Lemongrass', 'fresh', 'Lemon', 'juice', 'Jaggery', 'Thai', 'basil', 'leaves', 'garnish', '1', '1/2', 'cup', 'Red', 'matta', 'rice', '3', '4', 'Basmati', 'White', 'Urad', 'Dal', 'Split', 'Coconut', 'milk', 'tablespoon', 'Sugar', 'teaspoon', 'Active', 'dry', 'yeast', 'Salt', 'Fresh', 'coconut', 'Grated', 'Jaggery', 'Cardamom', 'Elaichi', 'Pods/Seeds', '500', 'grams', 'Baby', 'Potatoes', '2', 'Dry', 'Red', 'Chillies', 'teaspoons', 'Sesame', 'seeds', '1', 'teaspoon', 'Cumin', 'Fennel', '1/4', 'Asafoetida', 'hing', '1/2', 'Turmeric', 'powder', 'Kashmiri', 'Chilli', 'Powder', 'tablespoons', 'flakes', 'Amchur', 'Mango', 'Coriander', 'Dhania', 'Leaves', 'finely', 'chopped', 'tablespoon', 'Sunflower', 'Oil', 'Salt', '5', 'Potatoes', 'Aloo', '2', 'teaspoon', 'Fennel', 'seeds', 'Saunf', 'Red', 'Chilli', 'powder', '1', 'Turmeric', 'Haldi', '1/4', 'cup', 'Fresh', 'cream', 'or', '1/2', '4', 'sprig', 'Coriander', 'Dhania', 'Leaves', '6', 'Whole', 'Wheat', 'Brown', 'Bread', '1', 'cup', 'Carrot', 'Gajjar', 'grated', 'Green', 'peas', 'Matar', 'boiled', '5', 'cloves', 'Garlic', 'finely', 'chopped', '2', 'Chillies', '1/2', 'teaspoon', 'Black', 'pepper', 'powder', 'Chaat', 'Masala', 'Powder', '1/4', 'Cheese', 'Salt', '1', 'cup', 'Whole', 'Wheat', 'Flour', '1/4', 'teaspoon', 'Salt', 'tablespoon', 'Ghee', '1/2', 'Lukewarm', 'Water', 'Caster', 'Sugar', 'Sunflower', 'Oil', '8', 'Whole', 'Wheat', 'Brown', 'Bread', '2', 'Tomatoes', 'sliced', 'thin', 'into', 'rounds', '1', 'Cucumber', 'peeled', 'and', 'Salt', 'Black', 'pepper', 'powder', 'Chaat', 'Masala', 'Powder', 'tablespoons', 'Butter', '4', 'Green', 'Chutney', '(Coriander', '&', 'Mint)', 'Tomato', 'Ketchup', '1', 'chakundar', 'cup', 'arhar', 'dal', '1-1/2', 'tamarind', 'water', 'tablespoon', 'sambar', 'powder', 'teaspoon', 'mustard', 'asafoetida', '5', 'curry', 'leaves', 'dry', 'red', 'chili', 'sesame', 'oil', '4', 'sprig', 'coriander', 'salt', '1', 'cup', 'Whole', 'Wheat', 'Flour', 'Salt', 'Water', 'Ghee', '1', 'cup', 'Ragi', 'Flour', 'Finger', 'Millet', 'Nagli', 'Water', 'Salt', 'teaspoon', 'Sunflower', 'Oil', 'Ghee', 'Rice', 'flour', '1', 'cup', 'Basil', 'leaves', '1/2', 'Mint', 'Leaves', 'Pudina', 'tablespoon', 'Spirulina', 'Badam', 'Almond', 'blanched', '4', 'cloves', 'Garlic', 'Tofu', 'teaspoon', 'Black', 'pepper', 'powder', '2', 'Salt', '1/4', 'Extra', 'Virgin', 'Olive', 'Oil', 'Pasta', 'chopped', 'Green', 'zucchini', 'diced', 'Yellow', 'Bell', 'Pepper', 'Capsicum', 'Tomato', 'Red', 'Chilli', 'flakes', 'Dried', 'oregano', '2', 'Submarine', 'Bread', '1/2', 'cup', 'Green', 'Moong', 'Sprouts', '1', 'Beetroot', 'cloves', 'Garlic', 'Hung', 'Curd', 'Greek', 'Yogurt', 'tablespoon', 'Coriander', 'Dhania', 'Leaves', 'Tomatoes', 'Stalks', 'Spring', 'Onion', 'Bulb', 'Greens', 'Tabasco', 'Original', 'Hot', 'Sauce', 'Salt', 'and', 'Pepper', '300', 'grams', 'Boneless', 'chicken', '1-1/2', 'teaspoons', 'Ginger', 'Garlic', 'Paste', 'Red', 'Chilli', 'powder', '1', 'teaspoon', 'Coriander', 'Powder', '(Dhania)', '1/2', 'Black', 'pepper', '2', 'Green', 'Chillies', '-', 'slit', 'sprig', 'Curry', 'leaves', 'Whole', 'Egg', 'tablespoon', 'Gram', 'flour', '(besan)', 'Corn', 'Salt', 'to', 'taste', 'Sunflower', 'Oil', 'deep', 'fry', '1', 'cup', 'Kabuli', 'Chana', 'boiled', '3', 'Potatoes', 'Aloo', 'Onion', 'finely', 'chopped', 'Tomato', 'Green', 'Chilli', 'tablespoon', 'Ginger', 'Garlic', 'Paste', 'teaspoon', 'Red', 'powder', '1/2', 'Turmeric', 'Haldi', '2', 'teaspoons', 'Coriander', 'Powder', 'Dhania', 'Garam', 'masala', 'Amchur', 'Dry', 'Mango', 'Cumin', 'seeds', 'Jeera', '4', 'sprig', 'Leaves', 'inch', 'cut', 'in', 'juliennes', 'long', 'thin', 'strips', 'Sunflower', 'Oil', 'Salt', '300', 'ml', 'Pomegranate', 'juice', 'freshly', 'squeezed', '1/4', 'cup', 'Fresh', 'orange', '1', '2', 'Lemon', '10', 'to', '12', 'Ice', 'cubes', 'Fruit', 'Kernels', 'for', 'garnish', 'Salt', 'rimming', 'the', 'glass', 'Margarita', '400', '1/3', 'Tequila', '1/8', 'Triple', 'sec', '2', 'cups', 'Basmati', 'rice', '8', 'Water', 'Salt', '1/4', 'Soy', 'Chunks', 'Nuggets', 'Carrots', 'Gajjar', 'Green', 'beans', 'French', 'Beans', 'peas', 'Matar', 'Cauliflower', 'gobi', 'Bell', 'Pepper', 'Capsicum', '3', 'Potatoes', 'Aloo', 'Tomatoes', '4', 'Onions', 'tablespoons', 'Ginger', 'Garlic', 'Paste', 'Sunflower', 'Oil', '1', 'inch', 'Cinnamon', 'Stick', 'Dalchini', 'Cardamom', 'Pods/Seeds', 'Cloves', 'Laung', 'teaspoon', 'Cumin', 'seeds', 'Jeera', '1-1/2', 'Spinach', 'Leaves', 'Palak', 'bunch', '1/2', 'Coriander', 'Dhania', 'Mint', 'Pudina', 'Chillies', '5', 'Badam', 'Almond', 'Elaichi', 'Black', 'cardamom', 'Badi', 'Bay', 'leaf', 'tej', 'patta', 'Ajwain', 'Carom', 'Mace', 'Javitri', 'Turmeric', 'powder', 'Haldi', 'Red', 'Chilli', 'Powder', 'Garam', 'masala', 'sliced', 'chopped', 'roughly', 'torn', 'cup', 'Milk', '7', 'Saffron', 'strands', 'Ghee', '250', 'grams', 'Chicken', 'Sunflower', 'Oil', '2', 'tablespoons', 'Garlic', 'minced', '1', 'Ginger', 'Green', 'Chillies', 'slit', 'Onion', 'sliced', 'Bell', 'Pepper', 'Capsicum', 'Soy', 'sauce', '1/2', 'teaspoon', 'Vinegar', 'Black', 'pepper', 'powder', 'Red', 'Chilli', 'Sauce', 'Roasted', 'tomato', 'pasta', 'Corn', 'flour', 'Water', '1-1/2', 'tablespoon', '2-1/2', 'All', 'Purpose', 'Flour', 'Maida', '4', 'papad', 'urad', 'dal', 'tamarind', '1', 'tablespoon', 'sambar', 'powder', '1/4', 'teaspoon', 'turmeric', 'horse-powder', 'mustard', '1/2', 'gram', 'lentils', 'pinch', 'Asafoetida', 'dry', 'red', 'chili', 'curry', 'leaves', '3', 'teaspoons', 'sesame', 'oil', 'salt', '1/2', 'cup', 'Coriander', 'Dhania', 'Leaves', 'chopped', '4', 'Green', 'Chillies', '1', 'inch', 'Ginger', 'Salt', 'Lemon', 'juice', 'extracted', '2', 'cups', 'Kabuli', 'Chana', 'White', 'Chickpeas', 'soaked', 'overnight', 'tablespoon', 'Ghee', 'Onion', 'finely', '3', 'cloves', 'Garlic', 'Cinnamon', 'Stick', 'Dalchini', 'Bay', 'leaf', 'tej', 'patta', 'Brown', 'cardamom', 'Badi', 'Elaichi', 'teaspoon', 'Black', 'Kala', 'Namak', '1/4', 'Garam', 'masala', 'powder', 'Powder', '1', 'Chicken', 'breasts', 'Red', 'Bell', 'pepper', 'Capsicum', 'Onion', 'Lemon', 'juice', 'teaspoon', 'Dried', 'Thyme', 'Leaves', 'Chilli', 'flakes', 'Black', 'powder', '2', 'tablespoon', 'Extra', 'Virgin', 'Olive', 'Oil', 'Salt', '1/2', 'cup', 'Black', 'Urad', 'Dal', '1-2', 'Green', 'Chillies', '1', 'inch', 'Ginger', 'Salt', 'pinch', 'Enos', 'fruit', 'salt', '1/4', 'teaspoon', 'Lemon', 'juice', '200', 'grams', 'Spinach', 'Curd', 'Dahi', 'Yogurt', 'tablespoon', 'Mustard', 'oil', 'Dry', 'Red', 'Chilli', '2', 'Cloves', 'Laung', 'Cinnamon', 'Stick', 'Dalchini', 'Cardamom', 'Elaichi', 'Pods/Seeds', 'Bay', 'leaf', 'tej', 'patta', 'Cumin', 'seeds', 'Jeera', 'Asafoetida', 'hing', 'Coriander', 'Powder', 'Dhania', 'powder', 'Fennel', 'pepper', 'freshly', 'crushed', 'Dill', 'leaves', '1/2', 'cup', 'Yellow', 'Moong', 'Dal', '1', 'Cucumber', 'finely', 'chopped', 'Carrot', 'Gajjar', 'grated', '1/4', 'Fresh', 'coconut', '2', 'tablespoon', 'Lemon', 'juice', 'teaspoon', 'Sunflower', 'Oil', 'Mustard', 'seeds', 'Green', 'Chillies', 'slit', 'Asafoetida', 'hing', 'sprig', 'Curry', 'leaves', 'roughly', 'torn', 'Coriander', 'Dhania', 'Leaves', '1/2', 'cup', 'Bajra', 'Flour', 'Jowar', 'Whole', 'Wheat', '2', 'cups', 'Methi', 'Leaves', 'inch', 'Ginger', '3', 'Green', 'Chillies', '1', 'tablespoon', 'Sesame', 'seeds', 'teaspoons', 'Red', 'Chilli', 'powder', 'Turmeric', '1/4', 'teaspoon', 'Asafoetida', '5', 'tablespoons', 'Curd', 'Sugar', 'Sunflower', 'Oil', '1/2', 'cup', 'Gram', 'flour', 'besan', 'Whole', 'Wheat', 'Flour', '1/4', 'Rice', '1', 'Cucumber', 'peeled', 'and', 'grated', 'teaspoon', 'Turmeric', 'powder', 'Haldi', 'Cumin', 'Jeera', 'Coriander', 'Powder', 'Dhania', 'Red', 'Chilli', '2', 'Green', 'Chillies', 'finely', 'chopped', 'Leaves', '5', 'cloves', 'Garlic', 'Salt', 'Ghee', 'for', 'smearing', 'on', 'thalipeeth', '1-1/2', 'cups', 'Chana', 'dal', 'Bengal', 'Gram', 'Dal', '1', 'Onion', '3', 'cloves', 'Garlic', '2', 'Green', 'Chillies', '1/2', 'teaspoon', 'Ajwain', 'Carom', 'seeds', 'Coriander', 'Dhania', 'Leaves', 'Salt', '3', 'Green', 'zucchini', 'Salt', 'Extra', 'Virgin', 'Olive', 'Oil', '1/2', 'cup', 'Mozzarella', 'cheese', '1-1/2', 'finely', 'chopped', 'Red', 'Bell', 'pepper', 'Onion', '4', 'cloves', 'Garlic', 'diced', '1', 'teaspoon', 'Dried', 'Thyme', 'Leaves', 'Rosemary', 'Chilli', 'flakes', '500', 'grams', 'Tomatoes', '8', '2', 'teaspoons', 'Black', 'corns', 'crushed', 'Sugar', '1/4', 'Basil', 'leaves', '2', 'trumpet', '1/2', 'teaspoon', 'mustard', 'cumin', 'seeds', '1', 'ginger', 'tomatoes', 'turmeric', 'powder', 'red', 'chilli', 'small', 'Spoon', 'coriander', 'jaggery', 'tablespoon', 'oil', '1/4', 'cup', 'water', '2', 'cups', 'All', 'Purpose', 'Flour', 'Maida', '1/4', 'Ghee', 'melted', 'teaspoon', 'Ajwain', 'Carom', 'seeds', 'Green', 'Peas', 'Matar', '1', 'cup', 'Sweet', 'corn', 'Chillies', 'finely', 'chopped', 'inch', 'Ginger', 'grated', 'teaspoons', 'Fennel', 'Saunf', 'Garam', 'masala', 'powder', '1/2', 'Chaat', 'Masala', 'Powder', 'Coriander', 'Dhania', 'Leaves', 'small', 'bunch', '4', 'Potatoes', 'Aloo', '50', 'grams', 'Mozzarella', 'cheese', '1', 'teaspoon', 'Mustard', 'seeds', 'inch', 'Ginger', 'grated', 'Onion', 'finely', 'chopped', '2', 'Green', 'Chillies', '1/4', 'Asafoetida', 'hing', '1/2', 'Turmeric', 'powder', 'Haldi', 'Coriander', 'Dhania', 'Leaves', 'small', 'bunch', 'Sunflower', 'Oil', 'cup', 'Gram', 'flour', 'besan', 'Salt']\n"
          ]
        }
      ],
      "source": [
        "# initialise the dataset_name\n",
        "dataset_name = 'Training'\n",
        "flat_X_train = flatten_list(X_train)\n",
        "flat_y_train = flatten_list(y_train)\n",
        "\n",
        "print(f\" Flattened '{dataset_name}' dataset:\")\n",
        "print(f\" Total tokens  : {len(flat_X_train)}\")\n",
        "print(f\" Total labels  : {len(flat_y_train)}\")\n",
        "print( flat_X_train)"
      ]
    },
    {
      "cell_type": "markdown",
      "metadata": {
        "id": "eGOqhd8OOr1E"
      },
      "source": [
        "#### **4.2** *Extract and validate the tokens after using the flattening technique* <font color = red>[2 marks]</font> <br>\n",
        "\n",
        "Define a function named ***extract_and_validate_tokens*** with parameters dataframe and dataset_name (Training/Validation), validate the length of input_tokens and pos_tokens from dataframe and display first 10 records for both the input_tokens and pos_tokens. Execute this function\n",
        "\n",
        "\n"
      ]
    },
    {
      "cell_type": "code",
      "execution_count": 28,
      "metadata": {
        "id": "H3GMX83xP7ja"
      },
      "outputs": [],
      "source": [
        "# define a extract_and_validate_tokens with parameters (df, dataset_name)\n",
        "# call the flatten_list and apply it on input_tokens and pos_tokens\n",
        "# validate their length and display first 10 records having input and pos tokens\n",
        "def extract_and_validate_tokens(dataframe, dataset_name=\"Dataset\"):\n",
        "    \"\"\"\n",
        "    Validates and displays input_tokens and pos_tokens from the given dataframe.\n",
        "    Returns:\n",
        "        None\n",
        "    \"\"\"\n",
        "    print(f\"\\n Validating {dataset_name} Dataset\")\n",
        "\n",
        "    # Check length equality for each row\n",
        "    length_mismatches = dataframe[\n",
        "        dataframe['input_tokens'].apply(len) != dataframe['pos_tokens'].apply(len)\n",
        "    ]\n",
        "\n",
        "    if length_mismatches.empty:\n",
        "        print(f\" All rows in {dataset_name} dataset have matching input and pos token lengths.\")\n",
        "    else:\n",
        "        print(f\" Found {len(length_mismatches)} rows with mismatched lengths in {dataset_name} dataset.\")\n",
        "        print(length_mismatches[['input_tokens', 'pos_tokens']])\n",
        "\n",
        "    # Display first 10 records\n",
        "    print(f\"\\n First 10 input_tokens in {dataset_name} dataset:\")\n",
        "    print(dataframe['input_tokens'].head(10).to_list())\n",
        "\n",
        "    print(f\"\\n First 10 pos_tokens in {dataset_name} dataset:\")\n",
        "    print(dataframe['pos_tokens'].head(10).to_list())"
      ]
    },
    {
      "cell_type": "code",
      "execution_count": 29,
      "metadata": {
        "id": "ajdbYMgeLpf9"
      },
      "outputs": [
        {
          "name": "stdout",
          "output_type": "stream",
          "text": [
            "\n",
            " Validating Training Dataset\n",
            " All rows in Training dataset have matching input and pos token lengths.\n",
            "\n",
            " First 10 input_tokens in Training dataset:\n",
            "[['250', 'grams', 'Okra', 'Oil', '1', 'Onion', 'finely', 'chopped', 'Tomato', 'Grated', 'teaspoon', 'Ginger', '2', 'Garlic', 'Finely', '1/2', 'Cumin', 'seeds', '1/4', 'Teaspoon', 'asafoetida', 'cup', 'cottage', 'cheese', 'pinched', 'coriander', 'powder', 'mango', 'red', 'chilli', 'turmeric'], ['200', 'grams', 'Paneer', 'Homemade', 'Cottage', 'Cheese', '2', 'Potato', 'Aloo', 'Bay', 'leaf', 'tej', 'patta', 'Dry', 'Red', 'Chilli', '1', 'tablespoon', 'Panch', 'Phoran', 'Masala', 'roasted', 'and', 'powdered', 'Tomato', 'big', 'sized', 'teaspoon', 'Turmeric', 'powder', 'Haldi', 'Cumin', 'seeds', 'Jeera', 'Ginger', 'grated', 'Salt', '1/2', 'Sugar', 'Sunflower', 'Oil'], ['500', 'grams', 'Cabbage', 'Patta', 'Gobi', 'Muttaikose', '1', 'teaspoon', 'Mustard', 'seeds', '1-1/2', 'White', 'Urad', 'Dal', 'Split', 'sprig', 'Curry', 'leaves', 'Green', 'Chilli', '1/4', 'cup', 'Fresh', 'coconut', 'Salt'], ['500', 'grams', 'Fresh', 'Figs', '1/4', 'cup', 'Lemon', 'juice', '1', 'teaspoon', 'zest', '2', 'Red', 'Chilli', 'flakes', '1/2', 'Honey', 'Brown', 'Sugar', '(Demerara', 'Sugar)'], ['2', 'cups', 'Water', '1', 'teaspoon', 'Tea', 'leaves', '1/4', 'Milk', '10', 'Saffron', 'strands'], ['1', 'cup', 'Rice', '1/2', 'Green', 'peas', '3', 'Potatoes', 'Aloo', 'Onion', 'tablespoon', 'Ginger', 'Garlic', 'Paste', '2', 'Chillies', 'Black', 'cardamom', 'Badi', 'Elaichi', 'Bay', 'leaf', 'tej', 'patta', 'Cardamom', 'Pods/Seeds', 'inch', 'Cinnamon', 'Stick', 'Dalchini', 'Cloves', 'Laung', 'teaspoon', 'Cumin', 'seeds', 'Jeera', 'Coriander', 'Powder', 'Dhania', 'powder', 'pepper', 'Red', 'Chilli', 'Ghee', 'Leaves', 'finely', 'chopped', 'garnish'], ['2', 'Carrot', 'Gajjar', '3/4', 'cup', 'Sweet', 'corn', '1', 'Whole', 'Wheat', 'Flour', 'Onion', 'finely', 'chopped', '5', 'tablespoons', 'Del', 'Monte', 'Sandwich', 'Spread', '1/4', 'Coriander', 'Dhania', 'Leaves', '3', 'Eggs', 'teaspoon', 'Baking', 'powder', 'soda', 'Green', 'Chillies'], ['3', 'Mooli', 'Mullangi', 'Radish', '2', 'Potato', 'Aloo', '1', 'Onion', 'Green', 'Chilli', 'tablespoons', 'Kasundi', 'mustard', 'sauce', 'teaspoon', 'Red', 'powder', '1/2', 'Turmeric', 'Haldi', 'Mustard', 'seeds', 'Cumin', 'Jeera', 'Kalonji', 'Nigella', 'Seeds', 'tablespoon', 'oil', 'Sugar', 'Salt'], ['1/2', 'Chicken', 'Thighs', 'Wings', '2', 'Tablespoon', 'Soy', 'sauce', '1.5', 'Honey', 'Vinegar', '1', 'teaspoon', 'Garlic', 'Minced', 'Ginger', 'Grated', 'Sesame', 'Gingelly', 'Oil', 'Olive', 'Black', 'pepper', 'powder', 'seeds', 'Til'], ['7', 'Potatoes', '350', 'gms', 'Cheese', '5', 'Tomatoes', '2', 'inch', 'Ginger', 'Grated', 'Green', 'Chillies', '1', 'teaspoon', 'Red', 'Chilli', 'Powder', 'Coriander', 'Cumin', 'Salt', 'oil', 'coriander', 'Finely', 'chopped']]\n",
            "\n",
            " First 10 pos_tokens in Training dataset:\n",
            "[['quantity', 'unit', 'ingredient', 'ingredient', 'quantity', 'ingredient', 'ingredient', 'ingredient', 'ingredient', 'ingredient', 'unit', 'ingredient', 'quantity', 'ingredient', 'ingredient', 'quantity', 'ingredient', 'ingredient', 'quantity', 'unit', 'ingredient', 'unit', 'ingredient', 'ingredient', 'ingredient', 'ingredient', 'ingredient', 'ingredient', 'ingredient', 'ingredient', 'ingredient'], ['quantity', 'unit', 'ingredient', 'ingredient', 'ingredient', 'ingredient', 'quantity', 'ingredient', 'ingredient', 'ingredient', 'ingredient', 'ingredient', 'ingredient', 'ingredient', 'ingredient', 'ingredient', 'quantity', 'unit', 'ingredient', 'ingredient', 'ingredient', 'ingredient', 'ingredient', 'ingredient', 'ingredient', 'ingredient', 'ingredient', 'unit', 'ingredient', 'ingredient', 'ingredient', 'ingredient', 'ingredient', 'ingredient', 'ingredient', 'ingredient', 'ingredient', 'quantity', 'ingredient', 'ingredient', 'ingredient'], ['quantity', 'unit', 'ingredient', 'ingredient', 'ingredient', 'ingredient', 'quantity', 'unit', 'ingredient', 'ingredient', 'quantity', 'ingredient', 'ingredient', 'ingredient', 'ingredient', 'unit', 'ingredient', 'ingredient', 'ingredient', 'ingredient', 'quantity', 'unit', 'ingredient', 'ingredient', 'ingredient'], ['quantity', 'unit', 'ingredient', 'ingredient', 'quantity', 'unit', 'ingredient', 'ingredient', 'quantity', 'unit', 'ingredient', 'quantity', 'ingredient', 'ingredient', 'ingredient', 'quantity', 'ingredient', 'ingredient', 'ingredient', 'ingredient', 'ingredient'], ['quantity', 'unit', 'ingredient', 'quantity', 'unit', 'ingredient', 'ingredient', 'quantity', 'ingredient', 'quantity', 'ingredient', 'ingredient'], ['quantity', 'unit', 'ingredient', 'quantity', 'ingredient', 'ingredient', 'quantity', 'ingredient', 'ingredient', 'ingredient', 'unit', 'ingredient', 'ingredient', 'ingredient', 'quantity', 'ingredient', 'ingredient', 'ingredient', 'ingredient', 'ingredient', 'ingredient', 'ingredient', 'ingredient', 'ingredient', 'ingredient', 'ingredient', 'unit', 'ingredient', 'ingredient', 'ingredient', 'ingredient', 'ingredient', 'unit', 'ingredient', 'ingredient', 'ingredient', 'ingredient', 'ingredient', 'ingredient', 'ingredient', 'ingredient', 'ingredient', 'ingredient', 'ingredient', 'ingredient', 'ingredient', 'ingredient', 'ingredient'], ['quantity', 'ingredient', 'ingredient', 'quantity', 'unit', 'ingredient', 'ingredient', 'quantity', 'ingredient', 'ingredient', 'ingredient', 'ingredient', 'ingredient', 'ingredient', 'quantity', 'unit', 'ingredient', 'ingredient', 'ingredient', 'ingredient', 'quantity', 'ingredient', 'ingredient', 'ingredient', 'quantity', 'ingredient', 'unit', 'ingredient', 'ingredient', 'ingredient', 'ingredient', 'ingredient'], ['quantity', 'ingredient', 'ingredient', 'ingredient', 'quantity', 'ingredient', 'ingredient', 'quantity', 'ingredient', 'ingredient', 'ingredient', 'unit', 'ingredient', 'ingredient', 'ingredient', 'unit', 'ingredient', 'ingredient', 'quantity', 'ingredient', 'ingredient', 'ingredient', 'ingredient', 'ingredient', 'ingredient', 'ingredient', 'ingredient', 'ingredient', 'unit', 'ingredient', 'ingredient', 'ingredient'], ['quantity', 'ingredient', 'ingredient', 'ingredient', 'quantity', 'unit', 'ingredient', 'ingredient', 'quantity', 'ingredient', 'ingredient', 'quantity', 'unit', 'ingredient', 'ingredient', 'ingredient', 'ingredient', 'ingredient', 'ingredient', 'ingredient', 'ingredient', 'ingredient', 'ingredient', 'ingredient', 'ingredient', 'ingredient'], ['quantity', 'ingredient', 'quantity', 'unit', 'ingredient', 'quantity', 'ingredient', 'quantity', 'unit', 'ingredient', 'ingredient', 'ingredient', 'ingredient', 'quantity', 'unit', 'ingredient', 'ingredient', 'ingredient', 'ingredient', 'ingredient', 'ingredient', 'ingredient', 'ingredient', 'ingredient', 'ingredient']]\n"
          ]
        }
      ],
      "source": [
        "# extract the tokens and its pos tags\n",
        "extract_and_validate_tokens(train_df, \"Training\")"
      ]
    },
    {
      "cell_type": "markdown",
      "metadata": {
        "id": "htZVn5wcQSok"
      },
      "source": [
        "#### **4.3** *Categorise tokens into labels (unit, ingredient, quantity)* <font color = red>[2 marks]</font> <br>\n",
        "\n",
        "Define a function ***categorize_tokens*** to categorise tokens into ingredients, units and quantities by using extracted tokens in the previous code and return a list of ingredients, units and quantities. Execute this function to get the list.\n",
        "\n"
      ]
    },
    {
      "cell_type": "code",
      "execution_count": 30,
      "metadata": {
        "id": "7xq0a4L7Quct"
      },
      "outputs": [],
      "source": [
        "# define a categorize_tokens function and provide the tokens and pos_tags as parameters and create ingredient, unit and quantity list and return it\n",
        "# validate the list that it comprised of these labels, if not return empty arrays\n",
        "\n",
        "def categorize_tokens(tokens, labels):\n",
        "    \"\"\"\n",
        "    Categorizes tokens into ingredients, units, and quantities based on corresponding labels.\n",
        "\n",
        "    Args:\n",
        "        tokens (List[str]): flattened list of input tokens (words).\n",
        "        labels (List[str]): The corresponding NER labels for each token.\n",
        "\n",
        "    Returns:\n",
        "        Tuple[List[str], List[str], List[str]]: Lists of ingredients, units, and quantities.\n",
        "    \"\"\"\n",
        "    ingredients = []\n",
        "    units = []\n",
        "    quantities = []\n",
        "\n",
        "    for token, label in zip(tokens, labels):\n",
        "        if label == \"ingredient\":\n",
        "            ingredients.append(token)\n",
        "        elif label == \"unit\":\n",
        "            units.append(token)\n",
        "        elif label == \"quantity\":\n",
        "            quantities.append(token)\n",
        "\n",
        "    return ingredients, units, quantities"
      ]
    },
    {
      "cell_type": "code",
      "execution_count": 31,
      "metadata": {
        "id": "evcsigvUL7bM"
      },
      "outputs": [
        {
          "name": "stdout",
          "output_type": "stream",
          "text": [
            " Ingredients: ['Okra', 'Oil', 'Onion', 'finely', 'chopped', 'Tomato', 'Grated', 'Ginger', 'Garlic', 'Finely', 'Cumin', 'seeds', 'asafoetida', 'cottage', 'cheese', 'pinched', 'coriander', 'powder', 'mango', 'red', 'chilli', 'turmeric', 'Paneer', 'Homemade', 'Cottage', 'Cheese', 'Potato', 'Aloo', 'Bay', 'leaf', 'tej', 'patta', 'Dry', 'Red', 'Chilli', 'Panch', 'Phoran', 'Masala', 'roasted', 'and', 'powdered', 'Tomato', 'big', 'sized', 'Turmeric', 'powder', 'Haldi', 'Cumin', 'seeds', 'Jeera', 'Ginger', 'grated', 'Salt', 'Sugar', 'Sunflower', 'Oil', 'Cabbage', 'Patta', 'Gobi', 'Muttaikose', 'Mustard', 'seeds', 'White', 'Urad', 'Dal', 'Split', 'Curry', 'leaves', 'Green', 'Chilli', 'Fresh', 'coconut', 'Salt', 'Fresh', 'Figs', 'Lemon', 'juice', 'zest', 'Red', 'Chilli', 'flakes', 'Honey', 'Brown', 'Sugar', '(Demerara', 'Sugar)', 'Water', 'Tea', 'leaves', 'Milk', 'Saffron', 'strands', 'Rice', 'Green', 'peas', 'Potatoes', 'Aloo', 'Onion', 'Ginger', 'Garlic', 'Paste', 'Chillies', 'Black', 'cardamom', 'Badi', 'Elaichi', 'Bay', 'leaf', 'tej', 'patta', 'Cardamom', 'Pods/Seeds', 'Cinnamon', 'Stick', 'Dalchini', 'Cloves', 'Laung', 'Cumin', 'seeds', 'Jeera', 'Coriander', 'Powder', 'Dhania', 'powder', 'pepper', 'Red', 'Chilli', 'Ghee', 'Leaves', 'finely', 'chopped', 'garnish', 'Carrot', 'Gajjar', 'Sweet', 'corn', 'Whole', 'Wheat', 'Flour', 'Onion', 'finely', 'chopped', 'Del', 'Monte', 'Sandwich', 'Spread', 'Coriander', 'Dhania', 'Leaves', 'Eggs', 'Baking', 'powder', 'soda', 'Green', 'Chillies', 'Mooli', 'Mullangi', 'Radish', 'Potato', 'Aloo', 'Onion', 'Green', 'Chilli', 'Kasundi', 'mustard', 'sauce', 'Red', 'powder', 'Turmeric', 'Haldi', 'Mustard', 'seeds', 'Cumin', 'Jeera', 'Kalonji', 'Nigella', 'Seeds', 'oil', 'Sugar', 'Salt', 'Chicken', 'Thighs', 'Wings', 'Soy', 'sauce', 'Honey', 'Vinegar', 'Garlic', 'Minced', 'Ginger', 'Grated', 'Sesame', 'Gingelly', 'Oil', 'Olive', 'Black', 'pepper', 'powder', 'seeds', 'Til', 'Potatoes', 'Cheese', 'Tomatoes', 'Ginger', 'Grated', 'Green', 'Chillies', 'Red', 'Chilli', 'Powder', 'Coriander', 'Cumin', 'Salt', 'oil', 'coriander', 'Finely', 'chopped', 'Whole', 'Wheat', 'Brown', 'Bread', 'Milk', 'Khoya', 'Mawa', 'Sugar', 'Badam', 'Almond', 'finely', 'chopped', 'Ghee', 'for', 'deep', 'frying', 'All', 'Purpose', 'Flour', 'Maida', 'Ghee', 'Salt', 'Sunflower', 'Oil', 'for', 'deep', 'frying', 'Cumin', 'seeds', 'Jeera', 'Green', 'Chilli', 'Sauce', 'Cinnamon', 'Powder', 'Dalchini', 'Garam', 'masala', 'powder', 'Red', 'Amchur', 'Dry', 'Mango', 'peas', 'Matar', 'steamed', 'and', 'mashed', 'Water', 'Brown', 'Rice', 'Rolled', 'Oats', 'Or', 'Instant', 'Whole', 'Eggs', 'Spring', 'Onion', 'Greens', 'finely', 'chopped', 'Carrots', 'Gajjar', 'Green', 'beans', 'French', 'Beans', 'Cabbage', 'Patta', 'Gobi', 'Muttaikose', 'Sunflower', 'Oil', 'Salt', 'and', 'Pepper', 'Rice', 'flour', 'Salt', 'Sunflower', 'Oil', 'Bok', 'Choy', 'sliced', 'Carrot', 'Gajjar', 'thinly', 'Cabbage', 'Patta', 'Gobi', 'Muttaikose', 'Button', 'mushrooms', 'quartered', 'Corn', 'Dark', 'soy', 'sauce', 'Bean', 'Paste', 'Red', 'Chilli', 'Sugar', 'Chicken', 'thighs', 'Onion', 'diced', 'Garlic', 'chopped', 'Ginger', 'grated', 'Tomatoes', 'desseded', 'Coriander', '(Dhania)', 'Leaves', 'Green', 'Chillies', 'slit', 'Kasuri', 'Methi', '(Dried', 'Fenugreek', 'Leaves)', 'Turmeric', 'powder', '(Haldi)', 'Kashmiri', 'Red', 'Chilli', 'Powder', 'Garam', 'masala', 'Sunflower', 'Oil', 'Salt', 'Oreo', 'biscuits', 'Vanilla', 'Ice', 'cream', 'Milk', 'Chocolate', 'sauce', 'Heavy', 'whipping', 'Paneer', 'Homemade', 'Cottage', 'Cheese', 'cut', 'into', 'cubes', 'Green', 'Chilli', 'finely', 'chopped', 'Ginger', 'Raisins', 'Cashew', 'nuts', 'Badam', 'Almond', 'Pistachios', 'Turmeric', 'powder', 'Gram', 'flour', 'Cardamom', 'Powder', 'Sunflower', 'Oil', 'Bay', 'leaf', 'tej', 'patta', 'Pods', 'Seeds', 'Cinnamon', 'Stick', 'Dalchini', 'Cloves', 'Laung', 'Mace', 'Javitri', 'Star', 'anise', 'tomato', 'puree', 'cloves', 'Garlic', 'Onion', 'roughly', 'Coriander', 'Dhania', 'Red', 'soaked', 'and', 'grind', 'to', 'a', 'smooth', 'paste', 'Curd', 'Dahi', 'Yogurt', 'Kasuri', 'Methi', 'Dried', 'Fenugreek', 'Leaves', 'Honey', 'Fresh', 'cream', 'coconut', 'oil', 'curry', 'leaves', 'garlic', 'ginger', 'onion', 'tomatoes', 'turmeric', 'powder', 'garam', 'masala', 'red', 'chilli', 'coriander', 'chicken', 'breast', 'water', 'bay', 'leaves', 'coriander', 'seeds', 'whole', 'pepper', 'celery', 'cumin', 'cardamom', 'large', 'mace', 'stone', 'flowers', 'star', 'anis', 'small', 'Nutmeg', 'Powder', 'Cinnamon', 'Long', 'Lemon', 'juice', 'Curd', 'Dahi', 'Yogurt', 'Sugar', 'powdered', 'Fresh', 'cream', 'Turmeric', 'powder', 'Vanilla', 'Extract', 'Orange', 'Zest', 'Rind', 'Brinjal', 'Baingan', 'Eggplant', 'Onion', 'chopped', 'Cumin', 'seeds', 'Jeera', 'Mustard', 'Ginger', 'grated', 'Garlic', 'Turmeric', 'powder', 'Haldi', 'Coriander', 'Powder', 'Dhania', 'Red', 'Chilli', 'Amchur', 'Dry', 'Mango', 'Tomato', 'Salt', 'Leaves', 'Fennel', 'Saunf', 'Kalonji', 'Nigella', 'Seeds', 'Ajwain', 'Carom', 'Methi', 'Fenugreek', 'Chillies', 'Sunflower', 'Oil', 'cooking', 'Whole', 'Wheat', 'Brown', 'Bread', 'Paneer', 'Homemade', 'Cottage', 'Cheese', 'grated', 'Green', 'Bell', 'Pepper', 'Capsicum', 'finely', 'chopped', 'Chilli', 'Chaat', 'Masala', 'Powder', 'Black', 'pepper', 'powder', 'Butter', 'Salt', 'Sooji', 'Semolina', 'Rava', 'Curd', 'Dahi', 'Yogurt', 'Onion', 'powder', 'finely', 'chopped', 'Green', 'Bell', 'Pepper', 'Capsicum', 'Coriander', 'Dhania', 'Leaves', 'Chilli', 'Black', 'pepper', 'Salt', 'Sunflower', 'Oil', 'Vivatta', 'Maida', 'Mango', 'Pulp', '(Puree)', 'Baking', 'powder', 'soda', 'Sunflower', 'Oil', 'Sugar', 'Salt', 'Vanilla', 'Extract', 'Dark', 'chocolate', '-', 'chopped', 'Fresh', 'cream', 'Cocoa', 'Powder', 'powdered', 'Arhar', 'dal', 'Water', 'Turmeric', 'powder', 'Green', 'Chillies', 'Tamarind', 'Lemon', 'juice', 'Ghee', 'Mustard', 'seeds', 'Asafoetida', 'hing', 'Curry', 'leaves', 'Handful', 'Coriander', 'Dhania', 'Leaves', 'Rice', 'Vermicelli', 'Noodles', 'Thin', 'Onion', 'sliced', 'Carrots', 'Gajjar', 'chopped', 'Green', 'peas', 'Matar', 'Chillies', 'Asafoetida', 'hing', 'Mustard', 'seeds', 'White', 'Urad', 'Dal', 'Split', 'Ghee', 'Curry', 'leaves', 'Salt', 'Lemon', 'juice', 'Whole', 'Wheat', 'Flour', 'Spinach', 'Leaves', 'Palak', 'Potatoes', 'Aloo', 'boiled', 'mashed', 'Paneer', 'Homemade', 'Cottage', 'Cheese', 'crumbled', 'grated', 'Coriander', 'Dhania', 'Garam', 'masala', 'powder', 'Salt', 'Cumin', 'Jeera', 'Red', 'Chilli', 'chopped', 'green', 'chillies', 'Mixed', 'nuts', 'Raisins', 'Ghee', 'to', 'smear', 'Basmati', 'rice', 'Yellow', 'Bell', 'Pepper', 'Capsicum', 'Red', 'Green', 'Chillies', 'chopped', 'Ginger', 'grated', 'Butter', 'Sesame', 'seeds', 'Til', 'Salt', 'bottle', 'gourd', 'onion', 'garlic', 'ginger', 'green', 'chillies', 'cumin', 'seeds', 'mustard', 'methi', 'fenugreek', 'turmeric', 'powder', 'red', 'chilli', 'coriander', 'tamarind', 'water', 'tomatoes', 'leaves', 'roasted', 'peanuts', 'sesame', 'fresh', 'coconut', 'small', 'potatoes', 'turmeric', 'powder', 'cardamom', 'cinnamon', 'long', 'bay', 'leaf', 'tomato', 'puree', 'garam', 'masala', 'yogurt', 'red', 'chilli', 'coriander', 'sugar', 'salt', 'stock', 'green', 'onion', 'ginger', 'cloves', 'garlic', 'chillies', 'Rice', 'Yellow', 'Moong', 'Dal', 'Carrot', 'Gajjar', 'Green', 'beans', 'French', 'Beans', 'Ghee', 'Cumin', 'seeds', 'Asafoetida', 'hing', 'Salt', 'Gingelly', 'oil', 'Mustard', 'seeds', 'Methi', 'Seeds', 'Fenugreek', 'Dry', 'Red', 'Chillies', 'Pearl', 'onions', 'Sambar', 'Onions', 'halved', 'Curry', 'leaves', 'Urad', 'dal', 'papad', 'broken', 'in', 'to', 'quarters', 'Tamarind', 'Water', 'Powder', 'Jaggery', 'Turmeric', 'powder', 'Haldi', 'Salt', 'as', 'needed', 'Instant', 'Oats', 'Oatmeal', 'Wheat', 'Flakes', 'Cereal', 'Pine', 'nuts', 'Pumpkin', 'seeds', 'Dates', 'dried', 'ones', 'finely', 'chopped', 'Dried', 'raspberries', 'Raisins', 'sultana', 'Badam', 'Almond', 'Walnuts', 'Cinnamon', 'Powder', 'Dalchini', 'Nutmeg', 'powder', 'Vanilla', 'Extract', 'Sunflower', 'Oil', 'Honey', 'Jowar', 'Flour', 'Sorghum', 'Bajra', 'Pearl', 'Millet', 'Whole', 'Wheat', 'Sunflower', 'Oil', 'Homemade', 'Hummus', 'Butter', 'Broccoli', 'cut', 'into', 'small', 'florets', 'Cherry', 'tomatoes', 'slit', 'half', 'Onion', 'sliced', 'Garlic', 'finely', 'chopped', 'Sugar', 'Black', 'pepper', 'powder', 'Cumin', 'Jeera', 'Karela', 'Bitter', 'Gourd', 'Pavakkai', 'sliced', 'into', 'rounds', 'Coriander', 'Powder', 'Dhania', 'Red', 'Chilli', 'powder', 'Asafoetida', 'hing', 'Gram', 'flour', 'besan', 'Black', 'Salt', 'Kala', 'Namak', 'Sunflower', 'Oil', 'Hung', 'Curd', 'Greek', 'Yogurt', 'Chaat', 'Masala', 'Sweet', 'Chutney', 'Date', 'Tamarind', 'Sev', 'Aloo', 'Bhujia', 'Dates', 'Leaves', 'small', 'bunch', 'cheese', 'spinach', 'green', 'chillies', 'onion', 'tomato', 'garlic', 'cumin', 'red', 'chilli', 'powder', 'garam', 'masala', 'mango', 'butter', 'salt', 'oil', 'Chicken', 'breasts', 'cut', 'into', 'thin', 'strips', 'Coriander', 'Powder', '(Dhania)', 'Red', 'Chilli', 'powder', 'Cumin', 'Black', 'pepper', 'Turmeric', 'Haldi', 'Ginger', 'Garlic', 'Paste', 'Extra', 'Virgin', 'Olive', 'Oil', 'Salt', 'Whole', 'Wheat', 'Flour', 'Active', 'dry', 'yeast', 'Milk', 'Sugar', 'Cucumber', 'julienne', 'Carrot', '(Gajjar)', 'Tomato', 'pulp', 'removed', 'vinegar', 'Homemade', 'Hummus', 'Tzatziki', 'Onion', 'chopped', 'Cauliflower', 'gobi', 'Garlic', 'sliced', 'Cumin', 'seeds', 'Jeera', 'roasted', 'and', 'crushed', 'Coriander', 'Powder', 'Dhania', 'Black', 'pepper', 'powder', 'or', 'red', 'chilli', 'Extra', 'Virgin', 'Olive', 'Oil', 'Anardana', 'Pomegranate', 'Seed', 'molasses', 'honey', 'Fresh', 'Herbs', 'Handful', 'of', 'herbs', 'choice', 'like', 'basil', 'Salt', 'Carrot', 'Gajjar', 'Green', 'beans', 'French', 'Beans', 'Tofu', 'Red', 'Bell', 'pepper', 'Capsicum', 'Pepper', 'Ginger', 'Garlic', 'Dry', 'Chillies', 'Soy', 'sauce', 'Chilli', 'vinegar', 'Sugar', 'Vegetable', 'stock', 'Corn', 'flour', 'water', 'Sunflower', 'Oil', 'Salt', 'and', 'Sundkai', 'fenugreek', 'Arhar', 'dal', 'boiled', 'mashed', 'Tomato', 'Tamarind', 'Turmeric', 'Powder', 'Sambar', 'Coriander', 'mustard', 'cumin', 'seeds', 'dry', 'red', 'chili', 'asafoetida', 'oil', 'salt', 'water', 'Chicken', 'Onion', 'Tomato', 'Curry', 'leaves', 'Ginger', 'Garlic', 'Paste', 'Turmeric', 'powder', 'Haldi', 'Cumin', 'Jeera', 'roasted', 'Fennel', 'Powder', 'Coriander', 'Dhania', 'Black', 'pepper', 'Salt', 'Sunflower', 'Oil', 'Water', 'Leaves', 'yogurt', 'banana', 'fried', 'pomegranate', 'red', 'chili', 'powder', 'sugar', 'cumin', 'Dijon', 'mustard', 'salt', 'Dark', 'chocolate', 'Sprig', 'Extract', 'of', 'Natural', 'Bourbon', 'Vanilla', 'Egg', 'yolks', 'whites', 'Caster', 'Sugar', 'Fresh', 'cream', 'chilled', 'and', 'strained', 'from', 'water', 'Kataifi', 'dough', 'Butter', 'Sugar', 'Rose', 'water', 'Water', 'Lemon', 'juice', 'Saffron', 'strands', 'Paneer', '(Homemade', 'Cottage', 'Cheese)', 'Mango', 'Pulp', '(Puree)', 'Icing', 'Thandai', 'Masala', 'Heavy', 'whipping', 'cream', 'Fresh', 'Pistachios', '-', 'crushed', 'Dried', 'rose', 'petals', 'Green', 'Amaranth', 'Leaves', 'Tamarind', 'Onion', 'Tomato', 'Garlic', 'Mustard', 'seeds', 'Asafoetida', 'hing', 'Curry', 'leaves', 'Sambar', 'Powder', 'Methi', 'Fenugreek', 'Sesame', 'Gingelly', 'Oil', 'Salt', 'Chicken', 'sausage', 'Butter', 'Dry', 'beans', 'Extra', 'Virgin', 'Olive', 'Oil', 'Onion', 'finely', 'chopped', 'Garlic', 'grated', 'Tomatoes', 'pureed', 'Honey', 'Cumin', 'powder', 'Jeera', 'Dried', 'oregano', 'Red', 'Chilli', 'cayenne', 'pepper', 'Salt', 'and', 'Pepper', 'Broccoli', 'cut', 'into', 'small', 'florets', 'Thyme', 'Leaves', 'Black', 'for', 'seasoning', 'Moth', 'Sprouts', 'Matki', 'White', 'Urad', 'Dal', 'Split', 'Green', 'Chillies', 'Fennel', 'seeds', 'Saunf', 'Ginger', 'Spinach', 'Leaves', 'Palak', 'Turmeric', 'powder', 'Haldi', 'Sunflower', 'Oil', 'Paneer', 'Homemade', 'Cottage', 'Cheese', 'Potatoes', 'Aloo', 'Onion', 'julienned', 'Ginger', 'grated', 'Garlic', 'Green', 'Bell', 'Pepper', 'Capsicum', 'Tomatoes', 'finely', 'chopped', 'Pav', 'bhaji', 'masala', 'Coriander', 'Dhania', 'Leaves', 'French', 'bread', 'or', 'rye', 'to', 'make', 'sandwiches', 'Rocket', 'leaves', 'salad', 'for', 'the', 'sandwich', 'Pointed', 'gourd', 'Parval', 'cut', 'into', 'wedges', 'Potatoes', 'Aloo', 'skin', 'peeled', 'Methi', 'Seeds', 'Fenugreek', 'Cumin', 'seeds', 'Jeera', 'Fennel', 'Saunf', 'Cloves', 'Laung', 'Cinnamon', 'Stick', 'Dalchini', 'Dry', 'Red', 'Chilli', 'Ginger', 'finely', 'chopped', 'Fresh', 'coconut', 'grated', 'Poppy', 'powder', 'Turmeric', 'Haldi', 'Green', 'Chillies', 'Sugar', 'Salt', 'Mustard', 'oil', 'for', 'cooking', 'Chicken', 'cut', 'into', 'pieces', 'Ginger', 'paste', 'Garlic', 'Fresh', 'cream', 'Badam', 'Almond', 'Lemon', 'juice', 'Black', 'pepper', 'powder', 'Salt', 'Onion', 'sliced', 'Milk', 'Cardamom', 'Powder', 'Elaichi', 'Cinnamon', 'Stick', 'Dalchini', 'Bay', 'leaf', 'tej', 'patta', 'Kasuri', 'Methi', 'Dried', 'Fenugreek', 'Leaves', 'Ghee', 'Snake', 'gourd', 'pudulangai', 'finely', 'chopped', 'Curd', 'Dahi', 'Yogurt', 'Fresh', 'coconut', 'grated', 'Sunflower', 'Oil', 'Turmeric', 'powder', 'Haldi', 'Dry', 'Red', 'Chilli', 'broken', 'into', 'pieces', 'Cumin', 'seeds', 'Jeera', 'Mustard', 'Asafoetida', 'hing', 'Tamarind', 'Water', 'Arhar', 'dal', 'Split', 'Toor', 'Dal', 'Asafoetida', 'hing', 'Salt', 'Mustard', 'seeds', 'Cumin', 'Jeera', 'Methi', 'Seeds', 'Fenugreek', 'Curry', 'leaves', 'Sunflower', 'Oil', 'for', 'cooking', 'Chicken', 'legs', 'Hung', 'Curd', '(Greek', 'Yogurt)', 'Turmeric', 'powder', '(Haldi)', 'Salt', 'Sunflower', 'Oil', 'Onion', '-', 'sliced', 'Garlic', 'Ginger', 'Fresh', 'coconut', 'grated', 'Cumin', 'seeds', '(Jeera)', 'Coriander', '(Dhania)', 'Seeds', 'Methi', '(Fenugreek', 'Seeds)', 'Kalonji', '(Onion', 'Nigella', 'Whole', 'Black', 'Peppercorns', 'Dry', 'Red', 'Chillies', 'Fennel', '(Saunf)', 'Cinnamon', 'Stick', '(Dalchini)', 'Cloves', '(Laung)', 'Cardamom', '(Elaichi)', 'Pods/Seeds', 'Mustard', 'Ghee', 'Tamarind', 'Paste', 'Jaggery', 'Curry', 'leaves', 'Sunflower', 'Oil', 'All', 'Purpose', 'Flour', 'Maida', 'Baking', 'powder', 'Water', 'Honey', 'Sugar', 'Sesame', 'seeds', 'Til', 'Vanilla', 'Extract', 'Onions', 'cut', 'into', 'thin', 'rings', 'Lemon', 'juice', 'extracted', 'Black', 'Salt', 'Kala', 'Namak', 'Red', 'Chilli', 'powder', 'Chaat', 'Masala', 'Powder', 'Baby', 'corn', 'into', 'length', 'wise', 'Tofu', 'or', 'paneer', 'Water', 'Corn', 'flour', 'Rice', 'Red', 'Yellow', 'and', 'Green', 'Bell', 'Peppers', 'Capsicum', 'sliced', 'Light', 'soy', 'sauce', 'Garlic', 'paste', 'Fresh', 'Chilli', 'Vinegar', 'Honey', 'Salt', 'Sunflower', 'Oil', 'Onion', 'minced', 'Raw', 'Peanuts', 'Moongphali', 'salted', 'powdered', 'orange', 'juice', 'Orange', 'marmalade', 'jam', 'Paprika', 'powder', 'Spring', 'Bulb', 'Greens', 'finely', 'chopped', 'Sesame', 'seeds', 'Til', 'roasted', 'Whole', 'Wheat', 'Flour', 'Salt', 'Ghee', 'Paneer', 'Homemade', 'Cottage', 'Cheese', 'Hung', 'Curd', 'Greek', 'Yogurt', 'Ginger', 'Garlic', 'Kasuri', 'Methi', 'Dried', 'Fenugreek', 'Leaves', 'Turmeric', 'powder', 'Chaat', 'Masala', 'Powder', 'Garam', 'masala', 'Mint', 'Pudina', 'Coal', 'Onion', 'Lemon', 'juice', 'Fresh', 'coconut', 'grated', 'Palm', 'jaggery', 'use', 'date', 'Poha', 'Flattened', 'rice', 'All', 'Purpose', 'Flour', 'Maida', 'Sooji', 'Semolina', 'Rava', 'Milk', 'warm', 'palm', 'Mango', 'Ripe', 'Sugar', 'Saffron', 'strands', 'Cinnamon', 'Powder', 'Dalchini', 'Gunde', 'bird', 'lime', 'Methi', 'Seeds', 'Fenugreek', 'Cumin', 'seeds', 'Jeera', 'Asafoetida', 'hing', 'Fennel', 'Saunf', 'Mustard', 'Turmeric', 'powder', 'Haldi', 'Red', 'Chilli', 'Amchur', 'Dry', 'Mango', 'Powder', 'Coriander', 'Dhania', 'Leaves', 'few', 'Whole', 'Wheat', 'Flour', 'Salt', 'Italian', 'seasoning', 'Cheese', 'spread', 'flavoured', 'Broccoli', 'cut', 'into', 'florets', 'Onion', 'thinly', 'sliced', 'Red', 'Bell', 'pepper', 'Capsicum', 'diced', 'Parsley', 'leaves', 'roughly', 'chopped', 'Tender', 'coconut', 'water', 'Fresh', 'cream', 'Sugar', 'granulated', 'meat', 'extra', 'Condensed', 'Milk', 'Honey', 'glazing', 'Optional', 'Ice', 'cone', 'Banana', 'flower', 'Vazhaipoo', 'Coconut', 'milk', 'Rice', 'Chana', 'dal', 'Bengal', 'Gram', 'Onion', 'Cardamom', 'Elaichi', 'Pods/Seeds', 'Sugar', 'Salt', 'Water', 'Curd', 'Vada', 'Papdi', 'puris', 'Sweet', 'Chutney', 'Date', 'Tamarind', 'Green', 'Coriander', 'Mint', 'Onions', 'finely', 'chopped', 'Carrot', 'Gajjar', 'grated', 'Anardana', 'Powder', 'Pomegranate', 'Seed', 'Raw', 'Peanuts', 'Moongphali', 'roasted', 'and', 'halved', 'Boondi', 'or', 'sev', 'Dhania', 'Leaves', 'Whole', 'Wheat', 'Flour', 'All', 'Purpose', 'Maida', 'Ajwain', 'Carom', 'seeds', 'Cumin', 'Jeera', 'Ghee', 'Salt', 'Chana', 'dal', 'Bengal', 'Gram', 'Dal', 'Turmeric', 'powder', 'Haldi', 'Garam', 'masala', 'Red', 'Chilli', 'Amchur', 'Dry', 'Mango', 'Powder', 'Sugar', 'Asafoetida', 'hing', 'Green', 'Chillies', 'slit', 'Curry', 'leaves', 'Sweet', 'Chutney', 'Date', 'Tamarind', 'Coriander', 'Mint', 'Onion', 'finely', 'chopped', 'Fresh', 'Pomegranate', 'Fruit', 'Kernels', 'Sev', 'Tofu', 'crumbled', 'Onion', 'chopped', 'Red', 'Bell', 'pepper', 'Capsicum', 'Tomato', 'Green', 'Chilli', 'Cumin', 'seeds', 'Jeera', 'powder', 'Black', 'Turmeric', 'Haldi', 'Coriander', 'Dhania', 'Leaves', 'Salt', 'Sunflower', 'Oil', 'lentil', 'water', 'long', 'whole', 'black', 'peppers', 'cumin', 'mustard', 'bay', 'leaf', 'curry', 'leaves', 'Jaggery', 'grated', 'tamarind', 'paste', 'goda', 'masala', 'oil', 'coriander', 'salt', 'lentils', 'green', 'peas', 'onion', 'finely', 'chopped', 'tomato', 'ginger', 'grated', 'garlic', 'chillies', 'Cut', 'turmeric', 'powder', 'salt', 'mustard', 'fenugreek', 'seeds', 'cumin', 'aniseed', 'Kalonji', 'garam', 'masala', 'oil', 'asafetida', 'a', 'pinch', 'Karela', 'Bitter', 'Gourd', 'Pavakkai', 'Salt', 'Onion', 'Gram', 'flour', 'besan', 'Turmeric', 'powder', 'Haldi', 'Red', 'Chilli', 'Cumin', 'seeds', 'Jeera', 'Coriander', 'Powder', 'Dhania', 'Amchur', 'Dry', 'Mango', 'Sunflower', 'Oil', 'Baby', 'Potatoes', 'Dry', 'Red', 'Chilli', 'Cumin', 'seeds', 'Curry', 'leaves', 'Coriander', 'Powder', 'Turmeric', 'powder', 'Garam', 'masala', 'Amchur', 'Mango', 'Lemon', 'juice', 'Leaves', 'chopped', 'oil', 'mustard', 'capsicum', 'yellow', 'cut', 'red', 'green', 'onion', 'curry', 'leaves', 'Salt', 'peanuts', 'roast', 'coconut', 'dry', 'chillies', 'cloves', 'garlic', 'unpeeled', 'cumin', 'seeds', 'coridander', 'chopped', 'Baby', 'Potatoes', 'Cumin', 'powder', 'Jeera', 'Black', 'pepper', 'Garam', 'masala', 'Lemon', 'juice', 'Sesame', 'seeds', 'Til', 'Ghee', 'or', 'clarified', 'butter', 'Rock', 'Salt', 'Coriander', 'Dhania', 'Leaves', 'roughly', 'chopped', 'Ginger', 'Green', 'Chilli', 'Aam', 'Papad', 'pieces', 'Mint', 'Leaves', 'Pudina', 'Coriander', 'Dhania', 'Green', 'Chillies', 'Sugar', 'Salt', 'Hot', 'water', 'Button', 'mushrooms', 'chopped', 'Green', 'peas', 'Matar', 'boiled', 'Cumin', 'seeds', 'Jeera', 'Mustard', 'Asafoetida', 'hing', 'Onion', 'paste', 'Tomato', 'Ginger', 'Garlic', 'Paste', 'Chilli', 'Red', 'powder', 'Turmeric', 'Haldi', 'Coriander', 'Powder', 'Dhania', 'Garam', 'masala', 'Leaves', 'jackfruit', 'seeds', 'tamarind', 'water', 'garlic', 'mustard', 'cumin', 'curry', 'leaves', 'turmeric', 'powder', 'red', 'chilli', 'sambar', 'asafoetida', 'coriander', 'sunflower', 'oil', 'fresh', 'coconut', 'black', 'peppercorns', 'dry', 'chillies', 'onion', 'chopped', 'tomato', 'Gram', 'flour', 'besan', 'Coconut', 'milk', 'Water', 'Ginger', 'grated', 'Garlic', 'Ajwain', 'Carom', 'seeds', 'Asafoetida', 'hing', 'Turmeric', 'powder', 'Baking', 'soda', 'Green', 'Chillies', 'finely', 'chopped', 'Onion', 'Tomato', 'Coriander', 'Dhania', 'Leaves', 'Salt', 'Sunflower', 'Oil', 'Pheni', 'roll', 'Milk', 'Sugar', 'Ghee', 'Cashew', 'nuts', 'Raisins', 'Almond', 'Meal', 'Badam', 'Powder', 'green', 'beans', 'chopped', 'steam', 'carrots', 'cabbage', 'steamed', 'potatoes', 'boiled', 'garlic', 'ginger', 'onion', 'chilies', 'rice', 'wash', 'tomato-puree', 'curd', 'cinnamon', 'cardamom', 'bay', 'leaves', 'turmeric', 'powder', 'red', 'chilli', 'coriander', 'salt', 'oil', 'cut', 'mint', 'finely', 'cook', 'till', 'it', 'turns', 'brown', 'cumin', 'seeds', 'asafoetida', 'onion', 'finely', 'chopped', 'green', 'chillies', 'little', 'gram', 'flour', 'coriander', 'red', 'chilli', 'powder', 'turmeric', 'salt', 'Button', 'mushrooms', 'Potato', 'Aloo', 'Onion', 'Green', 'Chilli', 'Ginger', 'Sunflower', 'Oil', 'All', 'Purpose', 'Flour', 'Maida', 'Burger', 'buns', 'Pickled', 'Jalapenos', 'sliced', 'Cheese', 'Slices', 'Potatoes', 'Aloo', 'pressure', 'cooked', 'Onion', 'chopped', 'Red', 'Chilli', 'powder', 'Salt', 'Whole', 'Egg', 'Wheat', 'Bread', 'crumbs', 'Garlic', 'Onions', 'Tomatoes', 'Homemade', 'tomato', 'puree', 'Green', 'Bell', 'Pepper', 'Capsicum', 'Soy', 'granules', 'flakes', 'Cumin', 'Jeera', 'Dried', 'oregano', 'Tabasco', 'Original', 'Hot', 'Sauce', 'Honey', 'Sunflower', 'Oil', 'Fresh', 'orange', 'juice', 'Ginger', 'grated', 'Tea', 'Monk', 'Seiki', 'Peppermint', 'Green', 'Chilled', 'water', 'Idli', 'Dosa', 'Batter', 'Rice', 'parboiled', 'Poha', 'Flattened', 'rice', 'thick', 'Buttermilk', 'sour', 'Cooking', 'soda', 'Butter', 'loni', 'white', 'Beetroot', 'peeled', 'to', 'Curry', 'leaves', 'Green', 'Chilli', 'Paste', 'Salt', 'Sesame', 'Gingelly', 'Oil', 'Green', 'beans', 'Garlic', 'Soy', 'sauce', 'Thai', 'Sweet', 'Chilli', 'Sauce', 'Lemon', 'Rice', 'Wine', 'Vinegar', 'Roasted', 'Peanuts', 'Salt', 'Sesame', 'Gingelly', 'Oil', 'Mooli', 'Mullangi', 'Radish', 'Paneer', 'Homemade', 'Cottage', 'Cheese', 'Green', 'Chilli', 'Garlic', 'Ginger', 'Cumin', 'powder', 'Sunflower', 'Oil', 'Salt', 'Turmeric', 'Haldi', 'Whole', 'Wheat', 'Flour', 'Ghee', 'chana', 'dal', 'white', 'urad', 'red', 'chillies', 'coriander', 'seeds', 'ginger', 'onion', 'tomato', 'mustard', 'asafoetida', 'curry', 'Sooji', 'Semolina', 'Rava', 'Curd', 'Dahi', 'Yogurt', 'Saffron', 'strands', 'Cardamom', 'Powder', 'Elaichi', 'Baking', 'powder', 'Caster', 'Sugar', 'Cashew', 'nuts', 'Raisins', 'Ghee', 'All', 'Purpose', 'Flour', 'Maida', 'Sugar', 'Dark', 'chocolate', 'Cocoa', 'Powder', 'Salted', 'butter', 'Milk', 'Baking', 'powder', 'soda', 'Vanilla', 'Extract', 'Britannia', 'Cream', 'Cheese', 'Caster', 'Fresh', 'raspberries', 'rice', 'cooked', 'tomatoes', 'finely', 'chopped', 'onion', 'thinly', 'sliced', 'red', 'chilli', 'powder', 'green', 'slit', 'mint', 'leaves', 'pudina', 'fistful', 'coriander', 'dhania', 'small', 'bunch', 'cinnamon', 'stick', 'dalchini', 'cloves', 'laung', 'sprig', 'curry', 'ghee', 'salt', 'inch', 'ginger', 'roughly', 'to', 'garlic', 'fennel', 'seeds', 'saunf', 'prawns', 'soy', 'sauce', 'sesame', 'gingelly', 'oil', 'cloves', 'garlic', 'finely', 'chopped', 'green', 'chillies', 'coriander', 'dhania', 'leaves', 'whole', 'black', 'peppercorns', 'crushed', 'sunflower', 'salt', 'drops', 'lemon', 'juice', 'Gawar', 'Phali', 'Kothavarangai', 'Cluster', 'beans', 'Ginger', 'Garlic', 'Green', 'Chillies', 'Roasted', 'Peanuts', 'Moongphali', 'Coriander', 'Dhania', 'Seeds', 'Cumin', 'seeds', 'Jeera', 'Tamarind', 'Salt', 'Mustard', 'White', 'Urad', 'Dal', 'Split', 'Asafoetida', 'hing', 'Chana', 'dal', 'Bengal', 'Gram', 'Dal', 'Dry', 'Red', 'Chillies', 'Fennel', 'seeds', 'Salt', 'Sunflower', 'Oil', 'Onion', 'finely', 'chopped', 'Tomato', 'Green', 'cloves', 'Garlic', 'Coriander', 'Powder', 'Chilli', 'powder', 'Cinnamon', 'Stick', 'Bay', 'leaf', 'Cardamom', 'Pods', 'Seeds', 'Curry', 'leaves', 'Leaves', 'Fresh', 'coconut', 'Poppy', 'Cashew', 'nuts', 'Roasted', 'Pottukadalai', 'Kabuli', 'Channa', 'cumin', 'seeds', 'ginger', 'paste', 'chana', 'masala', 'powder', 'red', 'chilli', 'Amchoor', 'turmeric', 'Coriander', 'salt', 'Rice', 'flour', 'Water', 'Sunflower', 'Oil', 'Salt', 'White', 'Urad', 'Dal', 'Whole', 'Green', 'Chillies', 'Ginger', 'Asafoetida', 'hing', 'Sesame', 'Gingelly', 'Mustard', 'seeds', 'Curry', 'leaves', 'Button', 'mushrooms', 'quartered', 'Spinach', 'Leaves', 'Palak', 'washed', 'and', 'chopped', 'Tomato', 'or', 'pureed', 'Garlic', 'finely', 'Ginger', 'Green', 'Chillies', 'slit', 'Cumin', 'seeds', 'Jeera', 'Cinnamon', 'Stick', 'Dalchini', 'powder', 'Turmeric', 'Haldi', 'Garam', 'masala', 'Fresh', 'cream', 'Ghee', 'Salt', 'eggplant', 'yogurt', 'green', 'chilli', 'chopped', 'cumin', 'powder', 'Kashmiri', 'red', 'garam', 'masala', 'onion', 'thin', 'and', 'straight', 'cut', 'salt', 'ghee', 'coriander', 'Pink', 'Masoor', 'Dal', 'Drumstick', 'Leaves', 'Moringa', 'Murungai', 'Keerai', 'Asafoetida', 'hing', 'Cumin', 'seeds', 'Jeera', 'Ginger', 'finely', 'chopped', 'Dry', 'Red', 'Chilli', 'Tomato', 'Green', 'slit', 'Coriander', 'Powder', 'Dhania', 'Turmeric', 'powder', 'Haldi', 'Salt', 'Ghee', 'Lemon', 'juice', 'extracted', 'Milk', 'White', 'vinegar', 'Sugar', 'Powder', 'Condensed', 'Cardamom', 'Pods', 'Seeds', 'Ghee', 'Pistachios', 'chopped', 'Saffron', 'strands', 'or', 'Yellow', 'food', 'colour', 'All', 'Purpose', 'Flour', 'Maida', 'Sunflower', 'Oil', 'Ajwain', 'Carom', 'seeds', 'Green', 'peas', 'Matar', 'Paneer', 'Homemade', 'Cottage', 'Cheese', 'crumbled', 'Coriander', 'Powder', 'Dhania', 'Red', 'Chilli', 'Amchur', 'Dry', 'Mango', 'Turmeric', 'powder', 'Haldi', 'Onion', 'chopped', 'tomato', 'puree', 'Ginger', 'Garlic', 'Paste', 'Whole', 'cashews', 'Curd', 'Dahi', 'Yogurt', 'Cloves', 'Laung', 'Mace', 'Javitri', 'Cardamom', 'Elaichi', 'Pods', 'Seeds', 'Cinnamon', 'Stick', 'Dalchini', 'Cumin', 'Jeera', 'Garam', 'masala', 'Kasuri', 'Methi', 'Dried', 'Fenugreek', 'Leaves', 'Sugar', 'Phulka', 'Potato', 'Aloo', 'mashed', 'Green', 'Chillies', 'finely', 'chopped', 'Carrot', 'Gajjar', 'grated', 'Sweet', 'corn', 'Onion', 'Red', 'Chilli', 'powder', 'Amchur', 'Dry', 'Mango', 'Powder', 'Black', 'pepper', 'flakes', 'Lemon', 'juice', 'Whole', 'Wheat', 'Bread', 'crumbs', 'Corn', 'flour', 'rice', 'ghee', 'cumin', 'seeds', 'bay', 'leaf', 'lentil', 'sugar', 'long', 'green', 'chillies', 'ginger', 'garlic', 'paste', 'onions', 'tomatoes', 'capsicum', 'red', 'chilli', 'powder', 'turmeric', 'coriander', 'garam', 'masala', 'tofu', 'cut', 'salt', 'garnish', 'All', 'Purpose', 'Flour', 'Maida', 'whole', 'Wheat', 'Active', 'dry', 'yeast', 'Salt', 'Sugar', 'Lukewarm', 'Water', 'Extra', 'Virgin', 'Olive', 'Oil', 'Bhindi', 'Lady', 'Finger', 'Okra', 'Tomato', 'roughly', 'chopped', 'Pearl', 'onions', 'Sambar', 'Onions', 'quartered', 'Garlic', 'Tamarind', 'Water', 'Red', 'Chilli', 'powder', 'Turmeric', 'Haldi', 'Asafoetida', 'hing', 'Coriander', 'Powder', 'Dhania', 'Sugar', 'Salt', 'Ghee', 'Mustard', 'seeds', 'Cumin', 'Jeera', 'Methi', 'Seeds', 'Fenugreek', 'Curry', 'leaves', 'Dry', 'broken', 'into', 'half', 'Milk', 'Sooji', 'Semolina', 'Rava', 'Powder', 'All', 'Purpose', 'Flour', 'Maida', 'Baking', 'soda', 'Caster', 'Sugar', 'Water', 'Cardamom', 'Elaichi', 'Pistachios', 'chopped', 'Ghee', 'Vegetable', 'oil', 'Jackfruit', 'Seeds', 'Kala', 'Chana', 'Mustard', 'seeds', 'Cumin', 'Curry', 'leaves', 'Tomato', 'Tamarind', 'Water', 'Turmeric', 'powder', 'Dry', 'Red', 'Chillies', 'Coriander', '(Dhania)', 'Cloves', '(Laung)', 'Cinnamon', 'Stick', '(Dalchini)', 'Fresh', 'coconut', 'Ginger', 'Garlic', 'Ragi', 'Flour', 'Finger', 'Millet', 'Nagli', 'Onion', 'finely', 'chopped', 'Green', 'Chillies', 'Carrot', 'Gajjar', 'grated', 'Dill', 'leaves', 'Coriander', 'Dhania', 'Leaves', 'Cumin', 'seeds', 'Salt', 'Ghee', 'Cooked', 'rice', 'Coriander', 'Dhania', 'Leaves', 'Whole', 'Black', 'Peppercorns', 'crushed', 'Lemon', 'juice', 'Rajma', 'Large', 'Kidney', 'Beans', 'Homemade', 'tomato', 'puree', 'Onion', 'chopped', 'Garlic', 'Cumin', 'seeds', 'Jeera', 'roasted', 'Chipotle', 'Chillies', 'Peppers', 'Sunflower', 'Oil', 'Red', 'Bell', 'pepper', 'Capsicum', 'sliced', 'Green', 'Pepper', 'Yellow', 'Dried', 'oregano', 'Chilli', 'flakes', 'Extra', 'Virgin', 'Olive', 'Del', 'Monte', 'Corn', 'Kernels', 'fire', 'Tomato', 'Cheddar', 'cheese', 'Lettuce', 'leaves', 'shredded', 'olives', 'Guacamole', 'recipes', 'Potatoes', 'Aloo', 'Curd', 'Dahi', 'Yogurt', 'Gram', 'flour', 'besan', 'Asafoetida', 'hing', 'Cumin', 'seeds', 'Jeera', 'Curry', 'leaves', 'Onion', 'Ginger', 'Garlic', 'Green', 'Chillies', 'Red', 'Chilli', 'powder', 'Coriander', 'Powder', 'Dhania', 'Turmeric', 'Haldi', 'Sunflower', 'Oil', 'Leaves', 'garnish', 'Mango', 'Pulp', 'Puree', 'Curd', 'Dahi', 'Yogurt', 'Sugar', 'honey', 'Saffron', 'strands', 'Badam', 'Almond', 'Milk', 'luke', 'warm', 'more', 'cold', 'milk', 'Ice', 'cubes', 'few', 'Badam', 'Almond', 'Ghee', 'Milk', 'Whole', 'Wheat', 'Flour', 'Sugar', 'Saffron', 'strands', 'Slivered', 'Almonds', 'Bhindi', 'Lady', 'Finger', 'Okra', 'Onion', 'finely', 'chopped', 'Ginger', 'grated', 'Curd', 'Dahi', 'Yogurt', 'Gram', 'flour', 'besan', 'Garam', 'masala', 'powder', 'Turmeric', 'Haldi', 'Red', 'Chilli', 'Salt', 'Caramelized', 'onions', 'Sunflower', 'Oil', 'Ghee', 'Cumin', 'seeds', 'Jeera', 'Dry', 'Chillies', 'Coriander', 'Dhania', 'Leaves', 'small', 'bunch', 'Elephant', 'yam', 'green', 'chilli', 'ginger', 'coriander', 'chopped', 'curd', 'oil', 'asafetida', 'Rye', 'Kali', 'Urad', 'Dal', 'Split', 'raw', 'mango', 'tamarind', 'water', 'jaggery', 'sambar', 'powder', 'turmeric', 'salt', 'mustard', 'asafoetida', 'Curry', 'leaves', 'dry', 'red', 'chillies', 'oil', 'Bajra', 'Flour', 'Whole', 'Wheat', 'Turmeric', 'powder', 'Black', 'pepper', 'Ginger', 'grated', 'Green', 'Chilli', 'Coriander', 'Leaves', 'Sunflower', 'Oil', 'Tindora', 'Dondakaya', 'Kovakkai', 'sliced', 'roundels', 'Sunflower', 'Oil', 'Mustard', 'seeds', 'Dry', 'Red', 'Chillies', 'Curry', 'leaves', 'Raw', 'Peanuts', 'Moongphali', 'coarsely', 'ground', 'Sesame', 'Til', 'roasted', 'Chilli', 'powder', 'Coriander', 'Powder', 'Dhania', 'Turmeric', 'Haldi', 'Salt', 'Mango', 'Ripe', 'cut', 'into', 'pieces', 'Water', 'Sugar', 'optional', 'Whole', 'Eggs', 'Roasted', 'Gram', 'Dal', 'Pottukadalai', 'Dry', 'Red', 'Chillies', 'Ginger', 'chopped', 'Garlic', 'Black', 'Peppercorns', 'Salt', 'Curd', 'Dahi', 'Yogurt', 'Carrot', 'Gajjar', 'Orange', 'Walnuts', 'Cashew', 'nuts', 'Salt', 'sugar', 'Cumin', 'powder', 'Jeera', 'Raita', 'masala', 'Green', 'Coffee', 'beans', 'Cardamom', 'Elaichi', 'Pods', 'Seeds', 'Water', 'Saffron', 'strands', 'Rose', 'water', 'Baby', 'corn', 'Whole', 'Wheat', 'Bread', 'crumbs', 'Corn', 'flour', 'Extra', 'Virgin', 'Olive', 'Oil', 'vinegar', 'Potato', '(Aloo)', 'boiled', 'and', 'mashed', 'Coriander', '(Dhania)', 'Leaves', 'chopped', 'Pizza', 'seasoning', 'Garlic', 'paste', 'Red', 'Chilli', 'powder', 'Green', 'Paste', 'Ginger', 'Salt', 'Sunflower', 'for', 'frying', 'Vivatta', 'Maida', 'Sugar', 'Butter', 'unsalted', 'Milk', 'Powder', 'Baking', 'powder', 'Vanilla', 'Extract', 'Carrots', 'Gajjar', 'Cabbage', 'Patta', 'Gobi', 'Muttaikose', 'Green', 'Bell', 'Pepper', 'Capsicum', 'Turmeric', 'powder', 'Haldi', 'Sugar', 'Lemon', 'juice', 'Salt', 'Sunflower', 'Oil', 'Mustard', 'seeds', 'Asafoetida', 'hing', 'Curry', 'leaves', 'Chillies', 'slit', 'lengthwise', 'Rice', 'Sunflower', 'Oil', 'Onion', 'chopped', 'Tomato', 'Ginger', 'Garlic', 'Paste', 'Red', 'Chilli', 'powder', 'Carrots', 'Gajjar', 'Green', 'peas', 'Matar', 'steamed', 'Bell', 'Pepper', 'Capsicum', 'Potato', 'Aloo', 'cut', 'into', 'small', 'cubes', 'Cardamom', 'Elaichi', 'Pods', 'Seeds', 'Cloves', 'Laung', 'Garam', 'masala', 'Star', 'anise', 'Cinnamon', 'Stick', 'Dalchini', 'Coriander', 'Dhania', 'Leaves', 'bunch', 'finely', 'Mint', 'Pudina', 'few', 'sprigs', 'Salt', 'Bhindi', 'Lady', 'Finger', 'Okra', 'Pearl', 'onions', 'Sambar', 'Onions', 'Fresh', 'coconut', 'Green', 'Chillies', 'Curry', 'leaves', 'Mustard', 'seeds', 'Turmeric', 'powder', 'Salt', 'Sunflower', 'Oil', 'Apricots', 'finely', 'chopped', 'Whole', 'Wheat', 'Flour', 'Brown', 'Sugar', 'Demerara', 'Butter', 'unsalted', 'cold', 'and', 'cut', 'in', 'a', 'small', 'chunks', 'Cinnamon', 'Powder', 'Dalchini', 'Pecans', 'coarsely', 'at', 'room', 'temperature', 'Cocoa', 'Dark', 'chocolate', 'Coffee', 'Decoction', 'Eggs', 'Vanilla', 'Extract', 'Sour', 'cream', 'Baking', 'powder', 'soda', 'Chicken', 'Onion', 'chopped', 'Tomato', 'Green', 'Chillies', 'slit', 'Ginger', 'finely', 'Garlic', 'Turmeric', 'powder', 'Haldi', 'Garam', 'masala', 'Sesame', 'Gingelly', 'Oil', 'Methi', 'Seeds', 'Fenugreek', 'Coriander', 'Dhania', 'Dry', 'Red', 'Fennel', 'seeds', 'Saunf', 'Sorrel', 'Leaves', 'Gongura', 'picked', 'and', 'Hard', 'taco', 'shells', 'Hariyali', 'Chicken', 'Tikka', 'Summer', 'Salad', 'Refried', 'beans', 'Nutralite', 'Cheesy', 'Garlic', 'Mayo', 'Tomato', 'Salsa', 'Fish', 'fillet', 'basa', 'Prawns', 'Clamps', 'Baby', 'Potatoes', 'Carrots', 'Gajjar', 'Onion', 'Tomato', 'Fresh', 'Red', 'chillies', 'cloves', 'Garlic', 'Cumin', 'powder', 'Jeera', 'Paprika', 'Salt', 'Lemon', 'juice', 'Black', 'pepper', 'Coriander', 'Dhania', 'Leaves', 'Extra', 'Virgin', 'Olive', 'Oil', 'Chicken', 'stock', 'Coconut', 'milk', 'Raw', 'Peanuts', 'Moongphali', 'Gram', 'flour', 'besan', 'Rice', 'Red', 'Chilli', 'powder', 'Coriander', 'Powder', 'Dhania', 'Chaat', 'Masala', 'Water', 'Black', 'pepper', 'Sunflower', 'Oil', 'Salt', 'to', 'fry', 'rice', 'cooked', 'tomatoes', 'BC', 'Belle', 'Bhat', 'powder', 'chickpea', 'lentils', 'cumin', 'seeds', 'white', 'urad', 'dal', 'mustard', 'green', 'chilli', 'dry', 'red', 'cashew', 'or', 'peanuts', 'oil', 'asafoetida', 'Malabar', 'Spinach', 'Leaves', 'stalks', 'Kaddu', 'Parangikai', 'Pumpkin', 'Mooli', 'Mullangi', 'Radish', 'Potato', 'Aloo', 'Brinjal', 'Baingan', 'Eggplant', 'Panch', 'Phoran', 'Masala', 'Dry', 'Red', 'Chillies', 'Mustard', 'oil', 'vegetable', 'Cumin', 'powder', 'Salt', 'Sugar', 'Turmeric', 'Haldi', 'Paneer', 'Homemade', 'Cottage', 'Cheese', 'Garlic', 'chopped', 'Ginger', 'Fresh', 'Red', 'chillies', 'Bell', 'pepper', 'Capsicum', 'Cumin', 'powder', 'Jeera', 'Coriander', 'Powder', 'Dhania', 'Garam', 'masala', 'Curd', 'Dahi', 'Yogurt', 'Butter', 'Onions', 'sliced', 'tomato', 'puree', 'Whole', 'cashews', 'almonds', 'paste', 'cream', 'Leaves', 'to', 'garnish', 'Lemon', 'juice', 'Turmeric', 'Haldi', 'Ridge', 'Gourd', 'Skin', 'Turai', 'Peerkangai', 'White', 'Urad', 'Dal', 'Methi', 'Seeds', 'Fenugreek', 'Dry', 'Red', 'Chillies', 'Curry', 'leaves', 'Tamarind', 'Mustard', 'seeds', 'Sunflower', 'Oil', 'Salt', 'fruit', 'pineapple', 'yogurt', 'turmeric', 'powder', 'jaggery', 'salt', 'coconut', 'green', 'chillies', 'mustard', 'dry', 'red', 'peppers', 'break', 'oil', 'curry', 'leaves', 'green', 'peas', 'cheese', 'ginger', 'chili', 'turmeric', 'powder', 'red', 'mango', 'coriander', 'wheat', 'flour', 'water', 'lukewarm', 'Tomatoes', 'Curry', 'leaves', 'Green', 'Chillies', 'Turmeric', 'powder', 'Coriander', 'Dhania', 'Sugar', 'Tindora', 'Dondakaya', 'Kovakkai', 'Red', 'Chilli', 'powder', 'Split', 'Methi', 'Seeds', 'Kuria', 'Mustard', 'Rai', 'Turmeric', 'Haldi', 'Asafoetida', 'hing', 'Sunflower', 'Oil', 'Lemon', 'juice', 'extracted', 'Salt', 'Barley', 'seeds', 'Broccoli', 'florets', 'Green', 'peas', 'Matar', 'Sweet', 'corn', 'beans', 'French', 'Beans', 'Carrots', 'Gajjar', 'Rocket', 'leaves', 'Tomatoes', 'chopped', 'Onion', 'Garlic', 'minced', 'Extra', 'Virgin', 'Olive', 'Oil', 'Basil', 'Fresh', 'Thyme', 'Red', 'Chilli', 'flakes', 'Corn', 'flour', 'Water', 'Sour', 'cream', 'Tortillas', 'Black', 'beans', 'Spinach', 'Leaves', 'Onion', 'chopped', 'Tomato', 'Garlic', 'Coriander', 'Dhania', 'Rice', 'or', 'brown', 'rice', 'Lemon', 'juice', 'Spring', 'Greens', 'Cheddar', 'cheese', 'Hung', 'Curd', 'Greek', 'Yogurt', 'Small', 'Brinjal', 'Baingan', 'Eggplant', 'Mustard', 'greens', 'Onion', 'sliced', 'Garlic', 'finely', 'chopped', 'Ginger', 'Cumin', 'seeds', 'Jeera', 'Red', 'Chilli', 'powder', 'Coriander', 'Powder', 'Dhania', 'Garam', 'masala', 'Amchur', 'Dry', 'Mango', 'Salt', 'oil', 'for', 'cooking', 'Jackfruit', 'Raw', 'Kathal', 'Onion', 'sliced', 'Garlic', 'chopped', 'Ginger', 'Cumin', 'powder', 'Jeera', 'Black', 'pepper', 'Cinnamon', 'Powder', 'Dalchini', 'Paprika', 'Turmeric', 'Haldi', 'Rajma', 'Large', 'Kidney', 'Beans', 'soaked', 'boiled', 'Tomato', 'Red', 'Chilli', 'Sugar', 'Cooked', 'rice', 'Dried', 'Thyme', 'Leaves', 'Bell', 'Capsicum', 'Yellow', 'Pepper', 'Green', 'Sour', 'cream', 'Salsa', 'Tortillas', 'Cauliflower', 'gobi', 'broken', 'into', 'small', 'florets', 'Green', 'beans', 'French', 'cut', 'one-inch', 'pieces', 'Carrots', 'Gajjar', 'inch', 'long', 'Potatoes', 'Aloo', 'cubes', 'Onion', 'sliced', 'Sunflower', 'Oil', 'Mustard', 'seeds', 'Curry', 'leaves', 'Fresh', 'coconut', 'grated', 'Dry', 'Red', 'Chillies', 'Cumin', 'Jeera', 'Fennel', 'Saunf', 'Brinjal', 'Baingan', 'Eggplant', 'Tomatoes', 'Onions', 'Ginger', 'Garlic', 'Paste', 'Tamarind', 'Mustard', 'seeds', 'Whole', 'Black', 'Peppercorns', 'Jaggery', 'Turmeric', 'powder', 'Red', 'Chilli', 'Sunflower', 'Oil', 'Salt', 'Coriander', 'Dhania', 'Leaves', 'coconut', 'milk', 'water', 'roasted', 'chana', 'lentils', 'green', 'chillies', 'oil', 'mustard', 'turmeric', 'powder', 'cumin', 'seeds', 'curry', 'leaves', 'salt', 'coriander', 'Shrimps', 'prawns', 'Basmati', 'rice', 'Shallots', 'Ginger', 'paste', 'Garlic', 'Fresh', 'coconut', 'grated', 'Green', 'Chilli', 'Hung', 'Curd', '(Greek', 'Yogurt)', 'Curry', 'leaves', 'Sunflower', 'Oil', 'Ghee', 'Coriander', 'Powder', '(Dhania)', 'Red', 'powder', 'Turmeric', '(Haldi)', 'Garam', 'masala', 'Whole', 'Black', 'Peppercorns', 'Cardamom', '(Elaichi)', 'Pods/Seeds', 'cardamom', '(Badi', 'Elaichi)', 'Cinnamon', 'Stick', '(Dalchini)', 'Bay', '(tej', 'patta)', 'Dry', 'Cumin', 'seeds', '(Jeera)', 'Gram', 'flour', 'besan', 'Ajwain', 'Carom', 'seeds', 'Red', 'Chilli', 'powder', 'Curd', 'Dahi', 'Yogurt', 'Sunflower', 'Oil', 'Green', 'Bell', 'Pepper', 'Capsicum', 'Cumin', 'Asafoetida', 'hing', 'Turmeric', 'Garam', 'masala', 'Amchur', 'Dry', 'Mango', 'Powder', 'Coriander', 'Dhania', 'Leaves', 'chopped', 'Extra', 'Virgin', 'Olive', 'Oil', 'Butter', 'unsalted', 'Onion', 'finely', 'chopped', 'Jasmine', 'Rice', 'Salt', 'Sweet', 'corn', 'Parsley', 'leaves', 'Parmesan', 'cheese', 'grated', 'Mozzarella', 'cut', 'into', 'small', 'cubes', 'All', 'Purpose', 'Flour', 'Maida', 'Whole', 'Eggs', 'beaten', 'with', 'a', 'fork', 'Wheat', 'Bread', 'crumbs', 'Sunflower', 'for', 'deep', 'frying', 'Goond', 'Edible', 'Gum', 'Ghee', 'Whole', 'Wheat', 'Flour', 'Sugar', 'powdered', 'Dry', 'coconut', 'kopra', 'Badam', 'Almond', 'chopped', 'Cashew', 'nuts', 'Idli', 'Green', 'Bell', 'Pepper', 'Capsicum', 'Tomato', 'Chillies', 'Red', 'Chilli', 'powder', 'Turmeric', 'Ketchup', 'Sunflower', 'Oil', 'Salt', 'Aar', 'Maach', 'rohu', 'katla', 'Tomato', 'Bay', 'leaves', 'Ginger', 'paste', 'Green', 'Chillies', 'Cumin', 'powder', 'Coriander', 'Powder', 'Salt', 'seeds', 'Turmeric', 'slit', 'lengthwise', 'Water', 'Sugar', 'Leaves', 'Whole', 'Wheat', 'Flour', 'Spinach', 'chopped', 'Kaddu', 'Parangikai', 'Pumpkin', 'grated', 'Red', 'Chilli', 'powder', 'Turmeric', 'Haldi', 'Coriander', 'Powder', 'Dhania', 'Cumin', 'seeds', 'Jeera', 'Salt', 'Water', 'Sunflower', 'Oil', 'rice', 'water', 'ghee', 'cardamom', 'long', 'star', 'anise', 'cinnamon', 'whole', 'black', 'pepper', 'bay', 'leaf', 'onion', 'green', 'coriander', 'mint', 'cottage', 'cheese', 'tomatoes', 'cream', 'ginger', 'cloves', 'garlic', 'chili', 'powder', 'cumin', 'garam', 'masala', 'red', 'chilli', 'kasoori', 'methi', 'honey', 'cashews', 'Aar', 'Maach', 'Tomato', 'Bay', 'leaf', 'Ginger', 'Garlic', 'Paste', 'Green', 'Chillies', 'Cumin', 'seeds', 'Jeera', 'Coriander', 'Powder', 'Dhania', 'Red', 'Chilli', 'powder', 'Turmeric', 'Haldi', 'Mustard', 'oil', 'Salt', 'Water', 'Leaves', 'sprigs', 'Potatoes', 'Garlic', 'powder', 'Onion', 'Dried', 'oregano', 'Coriander', 'Leaves', 'finely', 'chopped', 'Red', 'Chilli', 'flakes', 'All', 'Purpose', 'Flour', 'Maida', 'Rice', 'flour', 'Salt', 'Sunflower', 'Oil', 'for', 'deep', 'frying', 'the', 'tater', 'tots', 'Kashmiri', 'dry', 'red', 'chillies', 'Methi', 'Seeds', 'Fenugreek', 'Garlic', 'cloves', 'Shallots', 'peeled', 'Cumin', 'seeds', 'Jeera', 'Turmeric', 'powder', 'Haldi', 'Vinegar', 'Water', 'Potatoes', 'Aloo', 'cleaned', 'Salt', 'Sunflower', 'Oil', 'Mustard', 'Curry', 'leaves', 'Sugar', 'Fresh', 'coconut', 'grated', 'Cooked', 'rice', 'Mustard', 'seeds', 'White', 'Urad', 'Dal', 'Split', 'Chana', 'dal', 'Bengal', 'Gram', 'Raw', 'Peanuts', 'Moongphali', 'Curry', 'leaves', 'Green', 'Chillies', 'finely', 'chopped', 'Ginger', 'Coconut', 'Oil', 'Salt', 'Whole', 'Wheat', 'Brown', 'Bread', 'Green', 'zucchini', 'Carrot', 'Gajjar', 'Red', 'Bell', 'pepper', 'Capsicum', 'Spinach', 'Leaves', 'Palak', 'Button', 'mushrooms', 'Onion', 'Garlic', 'Extra', 'Virgin', 'Olive', 'Oil', 'Dijon', 'Mustard', 'Fresh', 'Thyme', 'leaves', 'Black', 'powder', 'crushed', 'or', 'red', 'chilli', 'flakes', 'Milk', 'Eggs', 'lightly', 'whisked', 'Cheddar', 'cheese', 'grated', 'and', 'for', 'topping', 'Butter', 'greasing', 'the', 'baking', 'dish', 'Salt', 'black', 'urad', 'dal', 'split', 'kidney', 'beans', 'tomatoes', 'chopped', 'ginger', 'grated', 'ghee', 'cumin', 'seeds', 'Kashmiri', 'red', 'chilli', 'powder', 'coriander', 'garam', 'masala', 'salt', 'tamarind', 'paste', 'jaggery', 'rasam', 'powder', 'red', 'chili', 'oil', 'fenugreek', 'seeds', 'curry', 'leaves', 'mustard', 'asafoetida', 'to', 'green', 'chillies', 'thin', 'and', 'straight', 'almonds', 'ghee', 'milk', 'wheat', 'flour', 'sugar', 'saffron', 'almond', 'silver', 'coating', 'Gram', 'flour', 'besan', 'Rice', 'Green', 'Moong', 'Sprouts', 'Onion', 'Coriander', 'Dhania', 'Leaves', 'Chillies', 'Ginger', 'grated', 'Powder', 'Garam', 'masala', 'powder', 'Lemon', 'juice', 'Salt', 'Red', 'Chilli', 'Sunflower', 'Oil', 'deep', 'fry', 'Boneless', 'chicken', 'Spring', 'Onion', 'Greens', 'finely', 'chopped', 'Green', 'Chillies', 'Garlic', 'minced', 'Soy', 'sauce', 'Lemon', 'juice', 'Black', 'pepper', 'powder', 'Red', 'Chilli', 'Cumin', '(Jeera)', 'Sweet', 'and', 'Spicy', 'Sauce', '(Tomato', 'Sauce)', 'Salt', 'Sunflower', 'Oil', 'Rice', 'soaked', 'for', 'minutes', 'crushed', 'Ginger', 'slit', 'roasted', 'Bell', 'Pepper', '(Capsicum)', 'sliced', '(Bulb', '&', 'Greens)', 'Onions', 'cubed', 'Carrots', '(Gajjar)', 'Chinese', '5', 'Spice', 'Powder', 'White', 'Egg', 'noodles', 'boiled', 'tossed', 'in', 'a', 'oil', 'Classic', 'Mayonnaise', '(With', 'Egg)', 'Tomato', 'Ketchup', 'Vinegar', 'All', 'Purpose', 'Flour', 'Maida', 'Sunflower', 'Oil', 'Cabbage', 'Patta', 'Gobi', 'Muttaikose', 'shredded', 'Green', 'peas', 'Matar', 'Spring', 'Onion', 'Bulb', 'Greens', 'chopped', 'Soy', 'sauce', 'Red', 'Chilli', 'Honey', 'Salt', 'Sesame', 'Gingelly', 'seeds', 'Til', 'Water', 'Brown', 'Sugar', 'Demerara', 'Cinnamon', 'Stick', 'Dalchini', 'Star', 'anise', 'Ginger', 'Hakka', 'Noodles', 'Salt', 'Sunflower', 'Oil', 'Onion', 'Green', 'Bell', 'Pepper', 'Capsicum', 'Garlic', 'Soy', 'sauce', 'Red', 'Chilli', 'White', 'vinegar', 'Tomato', 'Ketchup', 'Dry', 'Chillies', 'crushed', 'Black', 'pepper', 'powder', 'Basmati', 'rice', 'Button', 'mushrooms', 'Soy', 'Chunks', 'Onion', 'sliced', 'Ginger', 'Curd', 'Dahi', 'Yogurt', 'Biryani', 'Masala', 'Garlic', 'Turmeric', 'powder', 'Haldi', 'Garam', 'masala', 'Red', 'Chilli', 'Mint', 'Leaves', 'Pudina', 'Ghee', 'Green', 'Chillies', 'Ajwain', 'Carom', 'seeds', 'Bay', 'leaf', 'tej', 'patta', 'Star', 'anise', 'Cardamom', 'Pods', 'Seeds', 'Cloves', 'Laung', 'Cinnamon', 'Stick', 'Dalchini', 'Broken', 'Wheat', 'Dalia', 'Godumai', 'Rava', 'Salt', 'Sunflower', 'Oil', 'Gram', 'flour', 'besan', 'Onion', 'finely', 'chopped', 'Coriander', 'Dhania', 'Leaves', 'Green', 'Chilli', 'Turmeric', 'powder', 'Haldi', 'Cumin', 'seeds', 'Jeera', 'Ajwain', 'Carom', 'Water', 'Enos', 'fruit', 'salt', 'Oranges', 'Orange', 'Zest', 'Sugar', 'Whole', 'Eggs', 'Caster', 'Almond', 'Meal', 'Badam', 'Powder', 'Hazelnut', 'Baking', 'powder', 'Britannia', 'Cream', 'Cheese', 'Heavy', 'whipping', 'cream', 'Fresh', 'orange', 'juice', 'Icing', 'Cumin', 'seeds', 'Jeera', 'Cinnamon', 'Stick', 'Dalchini', 'Dry', 'ginger', 'powder', 'Turmeric', 'Haldi', 'Red', 'Chilli', 'Coriander', 'Dhania', 'Seeds', 'Fennel', 'Saunf', 'Whole', 'Black', 'Peppercorns', 'Garlic', 'Cardamom', 'Elaichi', 'Pods', 'Mace', 'Javitri', 'Jasmine', 'Rice', 'Coconut', 'milk', 'Salt', 'Oil', 'Onion', 'diced', 'Bell', 'pepper', 'Capsicum', 'sliced', 'thin', 'Gawar', 'Phali', 'Kothavarangai', 'Cluster', 'beans', 'chopped', 'into', 'half', 'Ginger', 'minced', 'Lemongrass', 'fresh', 'Lemon', 'juice', 'Jaggery', 'Thai', 'basil', 'leaves', 'garnish', 'Red', 'matta', 'rice', 'Basmati', 'White', 'Urad', 'Dal', 'Split', 'Coconut', 'milk', 'Sugar', 'Active', 'dry', 'yeast', 'Salt', 'Fresh', 'coconut', 'Grated', 'Jaggery', 'Cardamom', 'Elaichi', 'Pods/Seeds', 'Baby', 'Potatoes', 'Dry', 'Red', 'Chillies', 'Sesame', 'seeds', 'Cumin', 'Fennel', 'Asafoetida', 'hing', 'Turmeric', 'powder', 'Kashmiri', 'Chilli', 'Powder', 'flakes', 'Amchur', 'Mango', 'Coriander', 'Dhania', 'Leaves', 'finely', 'chopped', 'Sunflower', 'Oil', 'Salt', 'Potatoes', 'Aloo', 'Fennel', 'seeds', 'Saunf', 'Red', 'Chilli', 'powder', 'Turmeric', 'Haldi', 'Fresh', 'cream', 'or', 'Coriander', 'Dhania', 'Leaves', 'Whole', 'Wheat', 'Brown', 'Bread', 'Carrot', 'Gajjar', 'grated', 'Green', 'peas', 'Matar', 'boiled', 'Garlic', 'finely', 'chopped', 'Chillies', 'Black', 'pepper', 'powder', 'Chaat', 'Masala', 'Powder', 'Cheese', 'Salt', 'Whole', 'Wheat', 'Flour', 'Salt', 'Ghee', 'Lukewarm', 'Water', 'Caster', 'Sugar', 'Sunflower', 'Oil', 'Whole', 'Wheat', 'Brown', 'Bread', 'Tomatoes', 'sliced', 'thin', 'into', 'rounds', 'Cucumber', 'peeled', 'and', 'Salt', 'Black', 'pepper', 'powder', 'Chaat', 'Masala', 'Powder', 'Butter', 'Green', 'Chutney', '(Coriander', '&', 'Mint)', 'Tomato', 'Ketchup', 'chakundar', 'arhar', 'dal', 'tamarind', 'water', 'sambar', 'powder', 'mustard', 'asafoetida', 'curry', 'leaves', 'dry', 'red', 'chili', 'sesame', 'oil', 'coriander', 'salt', 'Whole', 'Wheat', 'Flour', 'Salt', 'Water', 'Ghee', 'Ragi', 'Flour', 'Finger', 'Millet', 'Nagli', 'Water', 'Salt', 'Sunflower', 'Oil', 'Ghee', 'Rice', 'flour', 'Basil', 'leaves', 'Mint', 'Leaves', 'Pudina', 'Spirulina', 'Badam', 'Almond', 'blanched', 'Garlic', 'Tofu', 'Black', 'pepper', 'powder', 'Salt', 'Extra', 'Virgin', 'Olive', 'Oil', 'Pasta', 'chopped', 'Green', 'zucchini', 'diced', 'Yellow', 'Bell', 'Pepper', 'Capsicum', 'Tomato', 'Red', 'Chilli', 'flakes', 'Dried', 'oregano', 'Submarine', 'Bread', 'Green', 'Moong', 'Sprouts', 'Beetroot', 'Garlic', 'Hung', 'Curd', 'Greek', 'Yogurt', 'Coriander', 'Dhania', 'Leaves', 'Tomatoes', 'Spring', 'Onion', 'Bulb', 'Greens', 'Tabasco', 'Original', 'Hot', 'Sauce', 'Salt', 'and', 'Pepper', 'Boneless', 'chicken', 'Ginger', 'Garlic', 'Paste', 'Red', 'Chilli', 'powder', 'Coriander', 'Powder', '(Dhania)', 'Black', 'pepper', 'Green', 'Chillies', '-', 'slit', 'Curry', 'leaves', 'Whole', 'Egg', 'Gram', 'flour', '(besan)', 'Corn', 'Salt', 'to', 'taste', 'Sunflower', 'Oil', 'deep', 'fry', 'Kabuli', 'Chana', 'boiled', 'Potatoes', 'Aloo', 'Onion', 'finely', 'chopped', 'Tomato', 'Green', 'Chilli', 'Ginger', 'Garlic', 'Paste', 'Red', 'powder', 'Turmeric', 'Haldi', 'Coriander', 'Powder', 'Dhania', 'Garam', 'masala', 'Amchur', 'Dry', 'Mango', 'Cumin', 'seeds', 'Jeera', 'Leaves', 'cut', 'in', 'juliennes', 'long', 'thin', 'strips', 'Sunflower', 'Oil', 'Salt', 'Pomegranate', 'juice', 'freshly', 'squeezed', 'Fresh', 'orange', 'Lemon', 'Ice', 'cubes', 'Fruit', 'Kernels', 'for', 'garnish', 'Salt', 'rimming', 'the', 'glass', 'Margarita', 'Tequila', 'Triple', 'sec', 'Basmati', 'rice', 'Water', 'Salt', 'Soy', 'Chunks', 'Nuggets', 'Carrots', 'Gajjar', 'Green', 'beans', 'French', 'Beans', 'peas', 'Matar', 'Cauliflower', 'gobi', 'Bell', 'Pepper', 'Capsicum', 'Potatoes', 'Aloo', 'Tomatoes', 'Onions', 'Ginger', 'Garlic', 'Paste', 'Sunflower', 'Oil', 'Cinnamon', 'Stick', 'Dalchini', 'Cardamom', 'Pods/Seeds', 'Cloves', 'Laung', 'Cumin', 'seeds', 'Jeera', 'Spinach', 'Leaves', 'Palak', 'bunch', 'Coriander', 'Dhania', 'Mint', 'Pudina', 'Chillies', 'Badam', 'Almond', 'Elaichi', 'Black', 'cardamom', 'Badi', 'Bay', 'leaf', 'tej', 'patta', 'Ajwain', 'Carom', 'Mace', 'Javitri', 'Turmeric', 'powder', 'Haldi', 'Red', 'Chilli', 'Powder', 'Garam', 'masala', 'sliced', 'chopped', 'roughly', 'torn', 'Milk', 'Saffron', 'strands', 'Ghee', 'Chicken', 'Sunflower', 'Oil', 'Garlic', 'minced', 'Ginger', 'Green', 'Chillies', 'slit', 'Onion', 'sliced', 'Bell', 'Pepper', 'Capsicum', 'Soy', 'sauce', 'Vinegar', 'Black', 'pepper', 'powder', 'Red', 'Chilli', 'Sauce', 'Roasted', 'tomato', 'pasta', 'Corn', 'flour', 'Water', 'All', 'Purpose', 'Flour', 'Maida', 'papad', 'urad', 'dal', 'tamarind', 'sambar', 'powder', 'turmeric', 'horse-powder', 'mustard', 'gram', 'lentils', 'Asafoetida', 'dry', 'red', 'chili', 'curry', 'leaves', 'sesame', 'oil', 'salt', 'Coriander', 'Dhania', 'Leaves', 'chopped', 'Green', 'Chillies', 'Ginger', 'Salt', 'Lemon', 'juice', 'extracted', 'Kabuli', 'Chana', 'White', 'Chickpeas', 'soaked', 'overnight', 'Ghee', 'Onion', 'finely', 'Garlic', 'Cinnamon', 'Stick', 'Dalchini', 'Bay', 'leaf', 'tej', 'patta', 'Brown', 'cardamom', 'Badi', 'Elaichi', 'Black', 'Kala', 'Namak', 'Garam', 'masala', 'powder', 'Powder', 'Chicken', 'breasts', 'Red', 'Bell', 'pepper', 'Capsicum', 'Onion', 'Lemon', 'juice', 'Dried', 'Thyme', 'Leaves', 'Chilli', 'flakes', 'Black', 'powder', 'Extra', 'Virgin', 'Olive', 'Oil', 'Salt', 'Black', 'Urad', 'Dal', 'Green', 'Chillies', 'Ginger', 'Salt', 'Enos', 'fruit', 'salt', 'Lemon', 'juice', 'Spinach', 'Curd', 'Dahi', 'Yogurt', 'Mustard', 'oil', 'Dry', 'Red', 'Chilli', 'Cloves', 'Laung', 'Cinnamon', 'Stick', 'Dalchini', 'Cardamom', 'Elaichi', 'Pods/Seeds', 'Bay', 'leaf', 'tej', 'patta', 'Cumin', 'seeds', 'Jeera', 'Asafoetida', 'hing', 'Coriander', 'Powder', 'Dhania', 'powder', 'Fennel', 'pepper', 'freshly', 'crushed', 'Dill', 'leaves', 'Yellow', 'Moong', 'Dal', 'Cucumber', 'finely', 'chopped', 'Carrot', 'Gajjar', 'grated', 'Fresh', 'coconut', 'Lemon', 'juice', 'Sunflower', 'Oil', 'Mustard', 'seeds', 'Green', 'Chillies', 'slit', 'Asafoetida', 'hing', 'Curry', 'leaves', 'roughly', 'torn', 'Coriander', 'Dhania', 'Leaves', 'Bajra', 'Flour', 'Jowar', 'Whole', 'Wheat', 'Methi', 'Leaves', 'Ginger', 'Green', 'Chillies', 'Sesame', 'seeds', 'Red', 'Chilli', 'powder', 'Turmeric', 'Asafoetida', 'Curd', 'Sugar', 'Sunflower', 'Oil', 'Gram', 'flour', 'besan', 'Whole', 'Wheat', 'Flour', 'Rice', 'Cucumber', 'peeled', 'and', 'grated', 'Turmeric', 'powder', 'Haldi', 'Cumin', 'Jeera', 'Coriander', 'Powder', 'Dhania', 'Red', 'Chilli', 'Green', 'Chillies', 'finely', 'chopped', 'Leaves', 'cloves', 'Garlic', 'Salt', 'Ghee', 'for', 'smearing', 'on', 'thalipeeth', 'Chana', 'dal', 'Bengal', 'Gram', 'Dal', 'Onion', 'Garlic', 'Green', 'Chillies', 'Ajwain', 'Carom', 'seeds', 'Coriander', 'Dhania', 'Leaves', 'Salt', 'Green', 'zucchini', 'Salt', 'Extra', 'Virgin', 'Olive', 'Oil', 'Mozzarella', 'cheese', 'finely', 'chopped', 'Red', 'Bell', 'pepper', 'Onion', 'Garlic', 'diced', 'Dried', 'Thyme', 'Leaves', 'Rosemary', 'Chilli', 'flakes', 'Tomatoes', 'Black', 'corns', 'crushed', 'Sugar', 'Basil', 'leaves', 'trumpet', 'mustard', 'cumin', 'seeds', 'ginger', 'tomatoes', 'turmeric', 'powder', 'red', 'chilli', 'coriander', 'jaggery', 'oil', 'water', 'All', 'Purpose', 'Flour', 'Maida', 'Ghee', 'melted', 'Ajwain', 'Carom', 'seeds', 'Green', 'Peas', 'Matar', 'Sweet', 'corn', 'Chillies', 'finely', 'chopped', 'Ginger', 'grated', 'Fennel', 'Saunf', 'Garam', 'masala', 'powder', 'Chaat', 'Masala', 'Powder', 'Coriander', 'Dhania', 'Leaves', 'small', 'bunch', 'Potatoes', 'Aloo', 'Mozzarella', 'cheese', 'Mustard', 'seeds', 'Ginger', 'grated', 'Onion', 'finely', 'chopped', 'Green', 'Chillies', 'Asafoetida', 'hing', 'Turmeric', 'powder', 'Haldi', 'Coriander', 'Dhania', 'Leaves', 'small', 'bunch', 'Sunflower', 'Oil', 'Gram', 'flour', 'besan', 'Salt']\n",
            "\n",
            " Units: ['grams', 'teaspoon', 'Teaspoon', 'cup', 'grams', 'tablespoon', 'teaspoon', 'grams', 'teaspoon', 'sprig', 'cup', 'grams', 'cup', 'teaspoon', 'cups', 'teaspoon', 'cup', 'tablespoon', 'inch', 'teaspoon', 'cup', 'tablespoons', 'teaspoon', 'tablespoons', 'teaspoon', 'tablespoon', 'Tablespoon', 'teaspoon', 'gms', 'inch', 'teaspoon', 'cup', 'grams', 'cup', 'tablespoons', 'teaspoon', 'cups', 'cups', 'grams', 'cup', 'teaspoon', 'cup', 'tablespoons', 'tablespoon', 'teaspoon', 'grams', 'cloves', 'inch', 'cup', 'teaspoon', 'teaspoons', 'cup', 'scoops', 'tablespoon', 'grams', 'inch', 'teaspoon', 'tablespoon', 'teaspoons', 'cup', 'tablespoons', 'tsp', 'sprig', 'long', 'inch', 'teaspoon', 'grams', 'cups', 'tablespoons', 'Spoon', 'inch', 'cup', 'grams', 'tablespoons', 'teaspoon', 'drops', 'wedges', 'grams', 'finely', 'teaspoon', 'inch', 'cloves', 'for', 'grams', 'teaspoon', 'tablespoons', 'cup', 'tablespoons', 'teaspoon', 'cups', 'teaspoons', 'teaspoon', 'grams', 'tablespoons', 'cup', 'cups', 'teaspoon', 'grams', 'tablespoon', 'cups', 'cup', 'teaspoon', 'sprig', 'cup', 'tablespoon', 'teaspoon', 'cups', 'inch', 'teaspoon', 'grams', 'cloves', 'inch', 'teaspoon', 'tablespoon', 'cup', 'sprig', 'tablespoons', 'grams', 'tsp', 'inch', 'cup', 'cup', 'teaspoon', 'pinch', 'tablespoon', 'teaspoon', 'cup', 'sprig', 'cups', 'cup', 'tablespoon', 'tablespoons', 'teaspoon', 'cup', 'tablespoon', 'cloves', 'teaspoon', 'teaspoons', 'teaspoon', 'pinch', 'cup', 'tablespoon', 'grams', 'cloves', 'small', 'Teaspoon', 'tsp', 'tbsp', 'tablespoon', 'teaspoon', 'cup', 'cups', 'teaspoon', 'tablespoon', 'tablespoons', 'cup', 'grams', 'inch', 'cloves', 'tablespoons', 'teaspoon', 'teaspoons', 'cups', 'tablespoon', 'cup', 'tsp', 'teaspoon', 'grams', 'sprig', 'tablespoon', 'teaspoon', 'cup', 'teaspoon', 'grams', 'teaspoon', 'cup', 'Tablespoons', 'grams', 'tablespoons', 'cups', 'teaspoon', 'cup', 'teaspoons', 'cup', 'grams', 'cloves', 'teaspoon', 'sprig', 'teaspoons', 'tablespoon', 'teaspoon', 'grams', 'clove', 'tablespoon', 'cup', 'cloves', 'cup', 'teaspoon', 'inch', 'grams', 'inch', 'cloves', 'tablespoons', 'teaspoon', 'inch', 'cup', 'tablespoon', 'gram', 'teaspoon', 'tablespoon', 'cup', 'inch', 'cup', 'teaspoon', 'cup', 'teaspoon', 'sprig', 'pinch', 'cup', 'teaspoon', 'cloves', 'inch', 'tablespoon', 'teaspoons', 'sprig', 'tablespoon', 'teaspoon', 'teaspoon', 'cut', 'grams', 'cup', 'teaspoon', 'tablespoon', 'tablespoons', 'teaspoons', 'cups', 'tablespoon', 'grams', 'inch', 'cloves', 'teaspoon', 'cups', 'cup', 'tablespoons', 'liter', 'cup', 'teaspoon', 'grams', 'teaspoon', 'cup', 'pinch', 'teaspoon', 'sprig', 'cup', 'cup', 'thick', 'thin', 'raw', 'teaspoon', 'cup', 'sprig', 'cup', 'teaspoon', 'tablespoons', 'tablespoon', 'sprig', 'grams', 'teaspoon', 'sprig', 'cups', 'cup', 'teaspoon', 'tablespoon', 'cup', 'inch', 'cloves', 'teaspoon', 'teaspoons', 'tablespoon', 'teaspoons', 'teaspoon', 'sprig', 'tablespoons', 'teaspoon', 'cup', 'tablespoon', 'sprig', 'grams', 'teaspoon', 'teaspoons', 'tablespoon', 'cup', 'inch', 'cup', 'tablespoon', 'cups', 'cup', 'teaspoon', 'tablespoon', 'sprig', 'cup', 'cloves', 'teaspoon', 'teaspoons', 'whole', 'cup', 'inch', 'cloves', 'teaspoon', 'handful', 'grams', 'ml', 'cup', 'tablespoon', 'tablespoons', 'cup', 'cloves', 'inch', 'cups', 'tsp', 'Small', 'spoon', 'sprigs', 'teaspoon', 'cup', 'grams', 'inch', 'teaspoon', 'cup', 'tablespoon', 'cup', 'cloves', 'teaspoon', 'cups', 'teaspoons', 'tablespoons', 'cups', 'teaspoon', 'tablespoon', 'grams', 'cloves', 'tablespoon', 'cup', 'grams', 'cloves', 'inch', 'teaspoon', 'cup', 'tablespoon', 'inches', 'Teaspoon', 'sprig', 'cup', 'teaspoon', 'teaspoons', 'cup', 'tablespoon', 'teaspoon', 'cups', 'teaspoon', 'tablespoon', 'tablespoon', 'teaspoon', 'inch', 'cloves', 'tablespoons', 'teaspoon', 'grams', 'pinch', 'cup', 'teaspoon', 'teaspoons', 'sprig', 'tablespoon', 'tablespoons', 'cup', 'teaspoon', 'teaspoons', 'tablespoon', 'cup', 'teaspoon', 'cups', 'inch', 'sprig', 'grams', 'cloves', 'inch', 'teaspoon', 'tablespoons', 'tablespoon', 'cups', 'tsp', 'tbsp', 'cup', 'grams', 'teaspoon', 'inch', 'teaspoons', 'tablespoon', 'liter', 'tablespoons', 'cup', 'tablespoon', 'teaspoon', 'cup', 'tablespoons', 'teaspoons', 'teaspoon', 'inch', 'cup', 'teaspoon', 'tablespoon', 'cup', 'tablespoons', 'teaspoon', 'tablespoon', 'cups', 'teaspoons', 'tablespoons', 'cup', 'teaspoon', 'sprig', 'cup', 'tablespoon', 'teaspoon', 'cups', 'cup', 'teaspoon', 'sprig', 'inch', 'cloves', 'cups', 'cup', 'teaspoon', 'cups', 'teaspoons', 'tablespoons', 'cloves', 'teaspoon', 'cup', 'chopped', 'cups', 'tablespoons', 'teaspoon', 'sprig', 'finely', 'cup', 'tablespoon', 'pinch', 'tablespoons', 'cup', 'tablespoon', 'tablespoons', 'grams', 'inch', 'cup', 'tablespoons', 'teaspoon', 'tablespoon', 'grams', 'inch', 'tablespoons', 'cup', 'teaspoon', 'cup', 'tablespoon', 'teaspoon', 'Sprig', 'cup', 'teaspoon', 'inch', 'sprig', 'grams', 'teaspoons', 'sprig', 'tablespoons', 'teaspoon', 'pinch', 'cups', 'tablespoons', 'inch', 'cloves', 'tablespoon', 'grams', 'pinch', 'tablespoon', 'cups', 'teaspoon', 'tablespoons', 'teaspoon', 'tablespoon', 'grams', 'pinch', 'teaspoon', 'cups', 'teaspoon', 'sprig', 'cups', 'tablespoons', 'tablespoon', 'teaspoon', 'cup', 'inch', 'grams', 'cup', 'sprig', 'teaspoon', 'cup', 'teaspoon', 'tablespoon', 'grams', 'grams', 'inch', 'cloves', 'teaspoon', 'tablespoon', 'cups', 'cup', 'tablespoons', 'grams', 'teaspoon', 'tablespoon', 'cup', 'cup', 'tablespoons', 'tablespoon', 'teaspoon', 'pinch', 'cups', 'teaspoons', 'teaspoon', 'tablespoon', 'cups', 'cup', 'teaspoon', 'tablespoons', 'grams', 'cloves', 'inch', 'teaspoon', 'tablespoon', 'gram', 'tablespoons', 'cups', 'teaspoons', 'grams', 'cups', 'teaspoon', 'teaspoons', 'cup', 'sprig', 'cup', 'inch', 'tsp', 'sprigs', 'teaspoon', 'sprig', 'pinch', 'cup', 'teaspoon', 'tablespoon', 'cup', 'cloves', 'tablespoon', 'teaspoon', 'teaspoons', 'cup', 'cloves', 'sprig', 'tablespoons', 'tablespoon', 'grams', 'cloves', 'inch', 'teaspoon', 'tablespoons', 'grams', 'cloves', 'inch', 'tablespoon', 'teaspoon', 'cup', 'cup', 'teaspoons', 'teaspoon', 'sprig', 'tablespoon', 'grams', 'teaspoon', 'teaspoons', 'cups', 'cup', 'teaspoon', 'small', 'spoon', 'grams', 'cups', 'tablespoon', 'tablespoons', 'teaspoon', 'cup', 'sprig', 'inch', 'cup', 'teaspoon', 'tablespoons', 'sprig', 'tablespoon', 'cups', 'teaspoon', 'cup', 'grams', 'cup', 'teaspoon', 'tablespoons', 'teaspoons', 'grams', 'tablespoons', 'teaspoon', 'cups', 'tablespoon', 'cup', 'teaspoon', 'cup', 'tsp', 'inch', 'sprig', 'grams', 'tablespoons', 'tbsp', 'tablespoons', 'teaspoon', 'teaspoon', 'tablespoon', 'teaspoon', 'cup', 'tablespoon', 'cup', 'cups', 'teaspoon', 'teaspoons', 'fistful', 'sprig', 'or', 'tablespoon', 'cup', 'cloves', 'teaspoon', 'tablespoon', 'sprig', 'cups', 'cup', 'tablespoon', 'inch', 'teaspoon', 'cup', 'teaspoon', 'tablespoon', 'Pinch', 'cut', 'cup', 'tablespoon', 'cup', 'tablespoon', 'teaspoon', 'grams', 'teaspoon', 'tablespoons', 'tablespoon', 'teaspoons', 'cups', 'cup', 'cup', 'tablespoon', 'sprig', 'teaspoon', 'tablespoons', 'inch', 'grams', 'teaspoon', 'tablespoon', 'cloves', 'cups', 'cup', 'inch', 'tablespoons', 'cloves', 'teaspoon', 'cup', 'teaspoon', 'tablespoon', 'tablespoons', 'grams', 'teaspoon', 'tablespoon', 'teaspoons', 'cloves', 'teaspoon', 'cups', 'cup', 'tablespoons', 'inch', 'Stalks', 'cup', 'tablespoon', 'teaspoon', 'grams', 'teaspoons', 'teaspoon', 'tablespoons', 'tablespoon', 'teaspoon', 'cup', 'sprig', 'cup', 'cloves', 'teaspoon', 'cup', 'teaspoon', 'tablespoon', 'tablespoons', 'cup', 'tablespoon', 'teaspoon', 'sprig', 'cup', 'cup', 'teaspoon', 'cup', 'tablespoon', 'cloves', 'teaspoon', 'cup', 'cloves', 'tablespoon', 'Stalks', 'grams', 'teaspoons', 'teaspoon', 'sprig', 'tablespoon', 'cup', 'tablespoon', 'teaspoon', 'teaspoons', 'sprig', 'inch', 'ml', 'cup', 'cups', 'tablespoons', 'inch', 'teaspoon', 'cup', 'grams', 'tablespoons', 'teaspoon', 'tablespoon', 'tablespoon', 'teaspoon', 'pinch', 'teaspoons', 'cup', 'inch', 'cups', 'tablespoon', 'cloves', 'teaspoon', 'teaspoon', 'tablespoon', 'cup', 'inch', 'pinch', 'teaspoon', 'grams', 'tablespoon', 'cup', 'tablespoon', 'teaspoon', 'sprig', 'cup', 'cups', 'inch', 'tablespoon', 'teaspoons', 'teaspoon', 'tablespoons', 'cup', 'teaspoon', 'cups', 'cloves', 'teaspoon', 'cup', 'cloves', 'teaspoon', 'grams', 'teaspoons', 'teaspoon', 'small', 'Spoon', 'tablespoon', 'cup', 'cups', 'teaspoon', 'cup', 'inch', 'teaspoons', 'grams', 'teaspoon', 'inch', 'cup']\n",
            "\n",
            " Quantities: ['250', '1', '2', '1/2', '1/4', '200', '2', '1', '1/2', '500', '1', '1-1/2', '1/4', '500', '1/4', '1', '2', '1/2', '2', '1', '1/4', '10', '1', '1/2', '3', '2', '2', '3/4', '1', '5', '1/4', '3', '3', '2', '1', '1/2', '1/2', '2', '1.5', '1', '7', '350', '5', '2', '1', '24', '1', '150', '1/4', '1', '2', '1/2', '1/4', '1-1/2', '2', '80', '3', '12', '1', '1', '1/2', '2', '500', '1', '10', '6', '1/3', '3', '2', '1/4', '8', '1/2', '2', '1/4', '1', '200', '1', '2', '6', '1/4', '2-3', '3', '1/2', '10', '1', '4', '2', '1/2', '300', '2', '5', '6', '1', '3', '1/4', '1/4', '500', '2', '1/8', 'few', '1', 'two', '500', '1', '1/2', '2', '1/4', '4-5', '8', '200', '1', '1/2', '2', '1/2', '1/4', '2', '1', '1-1/2', '3/4', '1/4', '1', '150', '2', '3', '1', '5', '30', '1/2', '1/4', '1-1/2', '1', '1/2', '1/3', '2', '1/4', '1', '3', '1/2', '2', '1-1/2', '2', '1', 'finely', '500', '1', '6', '4', '1/2', '1/4', '2', '3', '200', '2', '1', '1/2', '3', '1/4', '1', '3', 'a', '1', '1/4', '3', '1/2', '1/2', '3', '1', '1/2', '3/4', '1', '4', '4', '2', '1', '1/4', '1/2', 'few', '200', '50', '2', '1', '1/2', '1', '2', '2-1', '1/4', '1/2', '2', '4', '1', '3', '1/4', '1', '1/4', '200', '1/2', '2', '3', '1-1/2', '1/2', '1/4', '1', '2', '500', '1', '2', '1/2', '2-1/2', '1', '1/4', '1/2', '160', '1', '3', '1/2', '1/4', '500', '200', '2', '1', '2-1/2', '1-1/2', 'few', '1/2', '50', '1', '20', '10', '1/4', '2', '2', '1', '250', '500', '1/4', '1', '1/2', '2', '1/4', '100', '2', '1', '3', '15', '3', '4', '1/2', '1', '2', '500', '2', '1', '1/2', '1/4', '4', '1', '1/2', '1/4', '2', '1/2', '1', '1', '1/4', '1/2', '4', '2', '1', '1/4', '2', '1/2', '2', '1', '1/2', '15', '250', '1/2', '1/4', '1', '2', '1.5', '1/3', '1-1/4', '1-1/2', '2', '1', '200', '1/4', '4', '1/2', '2', '1', '1/2', '1/4', '4', '3/4', '2', '1', '1/4', '500', '1', '1/2', '1', '1/4', '2', '1/2', '1', '1/4', 'Little', 'for', '2', '1', '3', '1/2', '1/4', '3/4', '4', '1', '2', '1/4', '1', '2', '1/2', '1/4', '300', '1', '2', '4', '2', '1', '3', '5', '1/2', '1/4', '1', '1/2', '2', '6', '1', '3', '2', '12', '1', '1/2', '3', '1', 'little', 'as', 'per', 'taste', '1/2', '4', '3', '500', '1/2', '2', '1', '1', '1/2', '2', '1', '1/2', '1/4', '2', '1', '8', '1/2', '1/4', '2', '10', '1', '1/2', '3/4', '2', '1/4', '2-3', 'A', '100', 'one', '300', '1/4', '1', '2', '1/2', '1', '6', '2', '4', '3', '1', '1/2', '2', '1-1/2', '200', '1', '2', '5', '1', '1/2', '4', '2', '4', '2', '1/4', '3', '1', '5', '7', '1/2', '300', '3', '1', '2', '1/4', '2', '200', '1', '4', '1/4', '1', '2', '3', '1', '5', '1/2', '3', '10', '2', '1', '1/2', '3/4', '8', '2', '1', '3', '4', '10', '1', '2', '1/2', 'few', '15', '1', '4', '5', '3', '1/4', '1/2', '18', '1/2', '2', '1', '7', '5', '1', '1/4', '2', '1', '1/4', '2', '200', '500', '1', '2', '1/2', '1/4', '1', '2', '1/2', '1', '200', '1/4', '2', '1/2', '1', '1/2', '2', '4', '3', '1/8', '1', '2', '1/2', '12', '4', '2', '2-3', '1', '1/2', '1', '2', '3', '1/2', '1-1/2', '2', '1/2', '1-1/4', '6', '2', '4', '1', '1/2', '1/4', '1/2', '1', '1/8', '2', '2-1/2', '10', '1', '1/2', '4', '2', '2', '1', '1/2', '1/4', '2', '1', '3', '1/2', '3/4', '1/4', '4', '1-1/2', '2', '1/3', '1', '1/2', '3/4', '1', '2', '3', 'a', '1', '1/2', '3/4', '3', '200', '1', '2', '1/2', 'a', '250', '1/2', '1', '3', '1-1/2', '1', '1/2', '2', '1', '1/2', '4', '400', '2', '1/2', '1', '3', '1/4', '2', '3', '1', '4', '200', '1', '5', '6', '1/4', '1', '2.5', '1/8', '10', '3', '2', '1/2', '1', '300', '75', '175', '15', '1', '1/2', '3', '1', '1/2', '1/4', '2', '4', '1', '1/4', 'a', '500', '10', '1/4', '2', '1', '1/2', '1', '3/4', '1/2', '4', '1-3/4', '125', '1/4', '225', '2', '1-1/2', '500', '2', '1', '4', '6', '1/2', '1/4', '4', '1', '1/2', '2', '1/4', '250', '15', '5', '2', '1', '4', '1/4', '1', '2', '1/2', '1/4', '2-1/2', '3', '1', '1/2', '2', '1-1/2', '3-4', '1', '1/2', '2-3', '2', '400', '3', '2', '1', '100', '50', '1/4', '2', '5', '3', '10', '30', '1/4', '2', '1', '1/2', '1/4', '1/2', '1', '2', '4', '2', '1/2', '1', '1', '1/4', '1/2', '1', '1/4', '1/2', '2', '4', '4', '1/4', '6', 'to', '8', '1', '2', '300', '200', '1', '4', '1/2', '3', '200', '1', '4', '1/2', '2', '1/4', '1/2', '1/4', '2', '1', '1', '4', '2', '20', '1/2', '1/4', '2-1', '1', '1/4', '6', '1/2', '200', '1', '1-1/2', '4-5', '3', '1/2', '2', '5-6', '4', '2-3', '1', '1/2', '1/4', '2', '4', '2', '1', '1/4', '3', '150', '350', '400', '50', '10', '1', '2', '1/4', '1/2', '3', '600', '1', '2', '1-1/2', '4', '1/2', '1-1/4', '1', '1/2', '1/4', '1', '2', '1/2', '1/4', '200', '3', '1', '2', '3', '1/2', 'Few', '10', '1', '2', '12', '1/4', '7', '4', '1/2', '2', '1/3', '3', '1', '10', '1', '2-1/2', '2', '3', '4', '6', '1/2', '1', '3', '2', '4', '1', '4', '1/2', '1', '1/2', '10', '4', '5', '1', '1/2', '3/4', '2', '1/2', '2', '1/4', '1', 'to', '300', '2', '1', '1/2', '3', '10', '250', '1', '1/2', '2', '4', '5', '1/3', '500', '1/2', '1', '15', '3', '1-1/2', '1', '1/2', '2', '3', '1/4', '1', '1/2', '1/3', '1/4', '3', '2', '6', '175', '150', '100', '1', '200', '75', '1', '2', '4', '1/2', '10', '1', '1/2', '3', '4', '500', '2', '1', '1/4', '1/2', '5', '2', '1', '1/4', '1/2', '4', '6', '1', '5', '2', '1/2', '1/4', '1', '1/4', '1/2', '8', '2', '1', '4', '1', '1-1/2', '5', '4', '1', '1', '1', '1/2', '4', '2', '1/4', '2', '1/2', '1', '300', '1-1/2', '1', '1/2', '2', '1', '3', '1/2', '2', '4', '300', '1/4', '1', '2', '10', 'to', '12', '400', '1/3', '1/8', '2', '8', '1/4', '3', '4', '1', '1-1/2', '1/2', '5', '7', '250', '2', '1', '1/2', '1-1/2', '2-1/2', '4', '1', '1/4', '1/2', '3', '1/2', '4', '1', '2', '3', '1/4', '1', '2', '1/2', '1-2', '1', '1/4', '200', '2', '1/2', '1', '1/4', '2', '1/2', '2', '3', '1', '1/4', '5', '1/2', '1/4', '1', '2', '5', '1-1/2', '1', '3', '2', '1/2', '3', '1/2', '1-1/2', '4', '1', '500', '8', '2', '1/4', '2', '1/2', '1', '1/4', '2', '1/4', '1', '1/2', '4', '50', '1', '2', '1/4', '1/2']\n"
          ]
        }
      ],
      "source": [
        "#  call the function to categorise the labels into respective list\n",
        "ingredients, units, quantities = categorize_tokens(flat_X_train, flat_y_train)\n",
        "\n",
        "print(\" Ingredients:\", ingredients)\n",
        "print(\"\\n Units:\", units)\n",
        "print(\"\\n Quantities:\", quantities)"
      ]
    },
    {
      "cell_type": "markdown",
      "metadata": {
        "id": "QSGau4EgZCix"
      },
      "source": [
        "#### **4.4** *Top 10 Most Frequent Items* <font color = red>[3 marks]</font> <br>\n",
        "\n",
        "Define a function ***get_top_frequent_items*** to display top 10 most frequent items\n",
        "\n",
        "Here, item_list is used as a general parameter where you will call this function for ingredient and unit list\n",
        "\n",
        "Execute this function separately for top 10 most units and ingredients\n",
        "\n"
      ]
    },
    {
      "cell_type": "code",
      "execution_count": 32,
      "metadata": {
        "id": "kXc8h3H4ZOZ4"
      },
      "outputs": [],
      "source": [
        "# define a function get_top_frequent_items to get the top frequent items by using item_list, pos label and dataset_name(Training/Validation) and return top items\n",
        "def get_top_frequent_items(item_list, item_type=\"Item\"):\n",
        "    \"\"\"\n",
        "    Displays the top 10 most frequent items from a given list.\n",
        "\n",
        "    Args:\n",
        "        item_list (List[str]): List of items (e.g., ingredients, units).\n",
        "        item_type (str): Label for printing the item type (default is 'Item').\n",
        "\n",
        "    Returns:\n",
        "        List[Tuple[str, int]]: List of top 10 (item, count) tuples.\n",
        "    \"\"\"\n",
        "    counter = Counter(item_list)\n",
        "    top_items = counter.most_common(10)\n",
        "\n",
        "    print(f\"\\n Top 10 most frequent {item_type.lower()}s:\")\n",
        "    for item, count in top_items:\n",
        "        print(f\"{item:>15}: {count}\")\n",
        "\n",
        "    return top_items"
      ]
    },
    {
      "cell_type": "code",
      "execution_count": 33,
      "metadata": {
        "id": "W2jZCCf2MEke"
      },
      "outputs": [
        {
          "name": "stdout",
          "output_type": "stream",
          "text": [
            "\n",
            " Top 10 most frequent ingredients:\n",
            "         powder: 129\n",
            "           Salt: 102\n",
            "          seeds: 89\n",
            "          Green: 85\n",
            "        chopped: 84\n",
            "            Oil: 83\n",
            "            Red: 81\n",
            "         Chilli: 77\n",
            "      Coriander: 71\n",
            "      Sunflower: 65\n"
          ]
        },
        {
          "data": {
            "text/plain": [
              "[('powder', 129),\n",
              " ('Salt', 102),\n",
              " ('seeds', 89),\n",
              " ('Green', 85),\n",
              " ('chopped', 84),\n",
              " ('Oil', 83),\n",
              " ('Red', 81),\n",
              " ('Chilli', 77),\n",
              " ('Coriander', 71),\n",
              " ('Sunflower', 65)]"
            ]
          },
          "execution_count": 33,
          "metadata": {},
          "output_type": "execute_result"
        }
      ],
      "source": [
        "# get the top ingredients which are frequently seen in the recipe\n",
        "get_top_frequent_items(ingredients, item_type=\"Ingredient\")"
      ]
    },
    {
      "cell_type": "code",
      "execution_count": 34,
      "metadata": {
        "id": "wipghGXAMYQR"
      },
      "outputs": [
        {
          "name": "stdout",
          "output_type": "stream",
          "text": [
            "\n",
            " Top 10 most frequent units:\n",
            "       teaspoon: 162\n",
            "            cup: 136\n",
            "     tablespoon: 99\n",
            "          grams: 63\n",
            "    tablespoons: 61\n",
            "           inch: 52\n",
            "           cups: 50\n",
            "          sprig: 41\n",
            "         cloves: 39\n",
            "      teaspoons: 39\n"
          ]
        },
        {
          "data": {
            "text/plain": [
              "[('teaspoon', 162),\n",
              " ('cup', 136),\n",
              " ('tablespoon', 99),\n",
              " ('grams', 63),\n",
              " ('tablespoons', 61),\n",
              " ('inch', 52),\n",
              " ('cups', 50),\n",
              " ('sprig', 41),\n",
              " ('cloves', 39),\n",
              " ('teaspoons', 39)]"
            ]
          },
          "execution_count": 34,
          "metadata": {},
          "output_type": "execute_result"
        }
      ],
      "source": [
        "# get the top units which are frequently seen in the recipe\n",
        "get_top_frequent_items(units, item_type=\"Unit\")"
      ]
    },
    {
      "cell_type": "markdown",
      "metadata": {
        "id": "9hldpjOHaPVZ"
      },
      "source": [
        "#### **4.5** *Plot Top 10 most frequent items* <font color = red>[2 marks]</font> <br>\n",
        "\n",
        "\n"
      ]
    },
    {
      "cell_type": "markdown",
      "metadata": {
        "id": "9ImpWstybDP_"
      },
      "source": [
        "Define a function ***plot_top_items*** to plot a bar graph on top 10 most frequent items for units and ingredients\n",
        "\n",
        "Here, item_list is used as a general parameter where you will call this function for ingredient and unit list"
      ]
    },
    {
      "cell_type": "code",
      "execution_count": 35,
      "metadata": {
        "id": "Gmsq0L1vaxfc"
      },
      "outputs": [],
      "source": [
        "# define plot top items with parameters - top_item list, label to suggest whether its ingredient or unit, dataset_name\n",
        "def plot_top_items(item_list, item_type=\"Item\"):\n",
        "    \"\"\"\n",
        "    Plots a bar graph of the top 10 most frequent items from the list.\n",
        "\n",
        "    Args:\n",
        "        item_list (List[str]): List of items (e.g., ingredients or units).\n",
        "        item_type (str): Label for the item type (used in titles and axis labels).\n",
        "    \"\"\"\n",
        "    counter = Counter(item_list)\n",
        "    top_items = counter.most_common(10)\n",
        "\n",
        "    labels, counts = zip(*top_items)\n",
        "\n",
        "    plt.figure(figsize=(10, 6))\n",
        "    bars = plt.bar(labels, counts, color='skyblue', edgecolor='black')\n",
        "    plt.title(f\"Top 10 Most Frequent {item_type}s in Training Data\")\n",
        "    plt.xlabel(f\"{item_type}\")\n",
        "    plt.ylabel(\"Frequency\")\n",
        "    plt.xticks(rotation=45)\n",
        "    plt.tight_layout()\n",
        "\n",
        "    # Annotate bar values\n",
        "    for bar in bars:\n",
        "        yval = bar.get_height()\n",
        "        plt.text(bar.get_x() + bar.get_width()/2, yval + 0.1, int(yval), ha='center', va='bottom')\n",
        "\n",
        "    plt.show()"
      ]
    },
    {
      "cell_type": "markdown",
      "metadata": {
        "id": "rHusCfkJ4suh"
      },
      "source": [
        "#### **4.6** *Perform EDA analysis* <font color = red>[5 marks]</font> <br>\n",
        "\n",
        "Plot the bar plots for ingredients and units and provide the insights for training dataset\n",
        "\n",
        "---\n",
        "\n"
      ]
    },
    {
      "cell_type": "code",
      "execution_count": 36,
      "metadata": {
        "id": "8seIqFKyYFmn"
      },
      "outputs": [
        {
          "data": {
            "image/png": "[encoded data removed]",
            "text/plain": [
              "<Figure size 1000x600 with 1 Axes>"
            ]
          },
          "metadata": {},
          "output_type": "display_data"
        }
      ],
      "source": [
        "# plot the top frequent ingredients in training data\n",
        "# Ingredients\n",
        "plot_top_items(ingredients, item_type=\"Ingredient\")\n",
        "\n"
      ]
    },
    {
      "cell_type": "code",
      "execution_count": 37,
      "metadata": {
        "id": "fbXAwiUkMtqT"
      },
      "outputs": [
        {
          "data": {
            "image/png": "[encoded data removed]",
            "text/plain": [
              "<Figure size 1000x600 with 1 Axes>"
            ]
          },
          "metadata": {},
          "output_type": "display_data"
        }
      ],
      "source": [
        "# plot the top frequent units in training data\n",
        "plot_top_items(units, item_type=\"Unit\")"
      ]
    },
    {
      "cell_type": "markdown",
      "metadata": {
        "id": "vYh7zbJpCajJ"
      },
      "source": [
        "## **5** Exploratory Recipe Data Analysis on Validation Dataset (Optional)<font color = red> [0 marks]</font> <br>"
      ]
    },
    {
      "cell_type": "markdown",
      "metadata": {
        "id": "K2wPIaOGCmk2"
      },
      "source": [
        "#### **5.1** *Execute EDA on Validation Dataset with insights (Optional)* <font color = red> [0 marks]</font> <br>\n",
        "Initialise the dataset_name as ***Validation*** and call the ***plot_top_items*** for top 10 ingredients and units in the recipe data\n",
        "Provide the insights for the same.\n",
        "\n"
      ]
    },
    {
      "cell_type": "code",
      "execution_count": null,
      "metadata": {
        "id": "atSk0ChLPXHd"
      },
      "outputs": [],
      "source": [
        "# initialise the dataset_name\n"
      ]
    },
    {
      "cell_type": "code",
      "execution_count": null,
      "metadata": {
        "id": "AFPxheIuj1o8"
      },
      "outputs": [],
      "source": [
        "# use extract and validate tokens, categorise tokens, get top frequent items for ingredient list and unit list on validation dataframe\n"
      ]
    },
    {
      "cell_type": "code",
      "execution_count": null,
      "metadata": {
        "id": "ikwox7ccMaU8"
      },
      "outputs": [],
      "source": [
        "# plot the top frequent ingredients in validation data\n"
      ]
    },
    {
      "cell_type": "code",
      "execution_count": null,
      "metadata": {
        "id": "9QjVeMWpPwKO"
      },
      "outputs": [],
      "source": [
        "# plot the top frequent units in training data\n"
      ]
    },
    {
      "cell_type": "markdown",
      "metadata": {
        "id": "IvE92ait9GIS"
      },
      "source": [
        "## **6** Feature Extraction For CRF Model <font color = red>[30 marks]</font> <br>"
      ]
    },
    {
      "cell_type": "markdown",
      "metadata": {
        "id": "Gc5Q_Lj09GIT"
      },
      "source": [
        "### **6.1** *Define a feature functions to take each token from recipe* <font color = red>[10 marks]</font>\n",
        "\n",
        "Define a function as ***word2features*** which takes a particular recipe and its index to work with all recipe input tokens and include custom key-value pairs.\n",
        "\n",
        "Also, use feature key-value pairs to mark the beginning and end of the sequence and to also check whether the word belongs to unit, quantity etc. Use keyword sets for unit and quantity for differentiating feature functions well. Also make use of relevant regex patterns on fractions, whole numbers etc."
      ]
    },
    {
      "cell_type": "markdown",
      "metadata": {
        "id": "pyxmQ0PrhBra"
      },
      "source": [
        "##### **6.1.1** **Define keywords for unit and quantity and create a quantity pattern to work on fractions, numbers and decimals** <font color = red>[3 marks]</font> <br>\n",
        "\n",
        "Create sets for **unit_keywords** and ***quantity_keywords*** and include all the words relevant for measuring the ingredients such as cup, tbsp, tsp etc. and in quantity keywords, include words such as half, quarter etc.\n",
        "\n",
        "Also suggested to use regex pattern as ***quantity_pattern*** to work with quantity in any format such as fractions, numbers and decimals.\n",
        "\n",
        "Then, load the spacy model and process the entire sentence"
      ]
    },
    {
      "cell_type": "code",
      "execution_count": 43,
      "metadata": {
        "id": "GhFUPxeth0KI"
      },
      "outputs": [],
      "source": [
        "# define unit and quantity keywords along with quantity pattern\n",
        "unit_keywords = {\n",
        "    \"cup\", \"cups\", \"tsp\", \"teaspoon\", \"teaspoons\", \"tbsp\", \"tablespoon\", \"tablespoons\",\n",
        "    \"ml\", \"l\", \"litre\", \"litres\", \"gram\", \"grams\", \"g\", \"kg\", \"kilogram\", \"kilograms\",\n",
        "    \"oz\", \"ounce\", \"ounces\", \"pinch\", \"dash\", \"pound\", \"lb\", \"lbs\", \"packet\", \"packets\"\n",
        "}\n",
        "\n",
        "quantity_keywords = {\n",
        "    \"half\", \"quarter\", \"third\", \"few\", \"some\", \"one\", \"two\", \"three\", \"four\", \"five\",\n",
        "    \"six\", \"seven\", \"eight\", \"nine\", \"ten\", \"dozen\", \"dozens\"\n",
        "}\n",
        "\n",
        "# Regex pattern to match integers, decimals, fractions (like 1/2, 2-1/2, ¾, etc.)\n",
        "quantity_pattern = re.compile(\n",
        "    r'(?:(?:\\d+/\\d+)|(?:\\d+-\\d+/\\d+)|(?:\\d+/\\d+)|(?:\\d+(?:\\.\\d+)?)|(?:\\.\\d+))'r'|(?:\\d+)|(?:\\w+)')  # Match whole numbers"
      ]
    },
    {
      "cell_type": "code",
      "execution_count": 45,
      "metadata": {
        "id": "9qmM8rw4VtJh"
      },
      "outputs": [],
      "source": [
        "# load spaCy model\n",
        "nlp = spacy.load(\"en_core_web_sm\") "
      ]
    },
    {
      "cell_type": "markdown",
      "metadata": {
        "id": "vrYD5tMNiFc-"
      },
      "source": [
        "##### **6.1.2** **Define feature functions for CRF** <font color = red>[7 marks]</font> <br>\n",
        "\n",
        "Define ***word2features*** function and use the parameters such as sentence and its indexing as ***sent*** and ***i*** for extracting token level features for CRF Training.\n",
        "Build ***features*** dictionary, also mark the beginning and end of the sequence and use the ***unit_keywords***, ***quantity_keywords*** and ***quantity_pattern*** for knowing the presence of quantity or unit in the tokens"
      ]
    },
    {
      "cell_type": "markdown",
      "metadata": {
        "id": "yAjf6j-dQtpr"
      },
      "source": [
        "While building ***features*** dictionary, include\n",
        "- ***Core Features*** - The core features of a token should capture its lexical\n",
        "and grammatical properties. Include attributes like the raw token, its lemma, part-of-speech tag, dependency relation, and shape, as well as indicators for whether it's a stop word, digit, or punctuation. The details of the features are given below:\n",
        "\n",
        "    - `bias` - Constant feature with a fixed value of 1.0 to aid model learning.\n",
        "    - `token` - The lowercase form of the current token.\n",
        "    - `lemma` - The lowercase lemma (base form) of the token.\n",
        "    - `pos_tag` - Part-of-speech (POS) tag of the token.\n",
        "    - `tag` - Detailed POS tag of the token.\n",
        "    - `dep` - Dependency relation of the token in the sentence.\n",
        "    - `shape` - Shape of the token (e.g., \"Xxx\" for \"Milk\").\n",
        "    - `is_stop` - Boolean indicating if the token is a stopword.\n",
        "    - `is_digit` - Boolean indicating if the token consists of only digits.\n",
        "    - `has_digit` - Boolean indicating if the token contains at least one digit.\n",
        "    - `has_alpha` - Boolean indicating if the token contains at least one alphabetic character.\n",
        "    - `hyphenated` - Boolean indicating if the token contains a hyphen (-).\n",
        "    - `slash_present` - Boolean indicating if the token contains a slash (/).\n",
        "    - `is_title` - Boolean indicating if the token starts with an uppercase letter.\n",
        "    - `is_upper` - Boolean indicating if the token is fully uppercase.\n",
        "    - `is_punct` - Boolean indicating if the token is a punctuation mark.\n",
        "\n",
        "- ***Improved Quantity and Unit Detection*** - Use key-value pairs to mark the presence of quantities and units in the features dictionary. Utilise the unit_keywords, quantity_keywords, and quantity_pattern to identify and flag these elements. The details of the features are given below:\n",
        "\n",
        "    - `is_quantity` - Boolean indicating if the token matches a quantity pattern or keyword.\n",
        "    - `is_unit` - Boolean indicating if the token is a known measurement unit.\n",
        "    - `is_numeric` - Boolean indicating if the token matches a numeric pattern.\n",
        "    - `is_fraction` - Boolean indicating if the token represents a fraction (e.g., 1/2).\n",
        "    - `is_decimal` - Boolean indicating if the token represents a decimal number (e.g., 3.14).\n",
        "    - `preceding_word` - The previous token in the sentence, if available.\n",
        "    - `following_word` - The next token in the sentence, if available.\n",
        "\n",
        "- ***Contextual Features*** - Incorporate contextual information by adding features for the preceding and following tokens. Include indicators like BOS and EOS to mark the beginning and end of the sequence, and utilise unit_keywords, quantity_keywords, and quantity_pattern to identify the types of neighboring tokens. The features are given below:\n",
        "\n",
        "    - `prev_token` - The lowercase form of the previous token.\n",
        "    - `prev_is_quantity` - Boolean indicating if the previous token is a quantity.\n",
        "    - `prev_is_digit` - Boolean indicating if the previous token is a digit.\n",
        "    - `BOS` - Boolean indicating if the token is at the beginning of the sentence.\n",
        "    - `next_token` - The lowercase form of the next token.\n",
        "    - `next_is_unit` - Boolean indicating if the next token is a unit.\n",
        "    - `next_is_ingredient` - Boolean indicating if the next token is not a unit or quantity.\n",
        "    - `EOS` - Boolean indicating if the token is at the end of the sentence.\n",
        "\n"
      ]
    },
    {
      "cell_type": "code",
      "execution_count": 46,
      "metadata": {
        "id": "pRU7efTF9GIW"
      },
      "outputs": [],
      "source": [
        "# define word2features for processing each token in the sentence sent by using index i.\n",
        "# use your own feature functions\n",
        "\n",
        "def word2features(sent, i):\n",
        "    \"\"\"\n",
        "    Extracts features for a token in a sentence for CRF training.\n",
        "\n",
        "    Args:\n",
        "        sent (List[spacy.tokens.Token]): Tokenized sentence using spaCy.\n",
        "        i (int): Index of the current token.\n",
        "\n",
        "    Returns:\n",
        "        dict: A dictionary of features for the token.\n",
        "    \"\"\"\n",
        "    token = sent[i]\n",
        "    features = {}\n",
        "\n",
        "    # -------------------------------\n",
        "    # Core Linguistic Features\n",
        "    # -------------------------------\n",
        "    features['bias'] = 1.0\n",
        "    features['token'] = token.text.lower()\n",
        "    features['lemma'] = token.lemma_.lower()\n",
        "    features['pos_tag'] = token.pos_\n",
        "    features['tag'] = token.tag_\n",
        "    features['dep'] = token.dep_\n",
        "    features['shape'] = token.shape_\n",
        "    features['is_stop'] = token.is_stop\n",
        "    features['is_digit'] = token.is_digit\n",
        "    features['has_digit'] = any(char.isdigit() for char in token.text)\n",
        "    features['has_alpha'] = any(char.isalpha() for char in token.text)\n",
        "    features['hyphenated'] = '-' in token.text\n",
        "    features['slash_present'] = '/' in token.text\n",
        "    features['is_title'] = token.text.istitle()\n",
        "    features['is_upper'] = token.text.isupper()\n",
        "    features['is_punct'] = token.is_punct\n",
        "\n",
        "    # -------------------------------\n",
        "    # Quantity & Unit Detection\n",
        "    # Improved Quantity & Unit Detection\n",
        "    # -------------------------------\n",
        "    token_lower = token.text.lower()\n",
        "    features['is_quantity'] = bool(quantity_pattern.match(token.text)) or token_lower in quantity_keywords\n",
        "    features['is_unit'] = token_lower in unit_keywords\n",
        "    features['is_numeric'] = token.like_num\n",
        "    features['is_fraction'] = '/' in token.text or '½' in token.text or '-' in token.text and any(char.isdigit() for char in token.text)\n",
        "    features['is_decimal'] = '.' in token.text and any(char.isdigit() for char in token.text)\n",
        "    features['preceding_word'] = sent[i-1].text if i > 0 else \"\"\n",
        "    features['following_word'] = sent[i+1].text if i < len(sent)-1 else \"\"\n",
        "\n",
        "    # -------------------------------\n",
        "    # Contextual Features\n",
        "    # -------------------------------\n",
        "    if i > 0:\n",
        "        prev_token = sent[i-1]\n",
        "        prev_lower = prev_token.text.lower()\n",
        "        features['prev_token'] = prev_lower\n",
        "        features['prev_is_quantity'] = bool(quantity_pattern.match(prev_token.text)) or prev_lower in quantity_keywords\n",
        "        features['prev_is_digit'] = prev_token.is_digit\n",
        "    else:\n",
        "        features['BOS'] = True  # Beginning of sentence\n",
        "\n",
        "    if i < len(sent) - 1:\n",
        "        next_token = sent[i+1]\n",
        "        next_lower = next_token.text.lower()\n",
        "        features['next_token'] = next_lower\n",
        "        features['next_is_unit'] = next_lower in unit_keywords\n",
        "        features['next_is_ingredient'] = next_lower not in unit_keywords and next_lower not in quantity_keywords and not quantity_pattern.match(next_lower)\n",
        "    else:\n",
        "        features['EOS'] = True  # End of sentence\n",
        "\n",
        "    return features\n",
        " # Process the entire sentence with spaCy\n",
        "   \n",
        "\n"
      ]
    },
    {
      "cell_type": "markdown",
      "metadata": {
        "id": "hJm2nUw0998s"
      },
      "source": [
        "### **6.2** *Preparation of Recipe level features* <font color = red>[2 marks]</font>\n"
      ]
    },
    {
      "cell_type": "markdown",
      "metadata": {
        "id": "KL19ooQejA5z"
      },
      "source": [
        "##### **6.2.1** **Define function to work on all the recipes and call word2features for each recipe** <font color = red>[2 marks]</font> <br>\n",
        "\n",
        "Define ***sent2features*** function and inputs ***sent*** as a parameter and correctly generate feature functions for each token present in the sentence"
      ]
    },
    {
      "cell_type": "code",
      "execution_count": 47,
      "metadata": {
        "id": "NlQEifz-9GIW"
      },
      "outputs": [],
      "source": [
        "# define sent2features by working on each token in the sentence and correctly generate dictionaries for features\n",
        "def sent2features(sent):\n",
        "    \"\"\"\n",
        "    Generate feature dictionaries for each token in the given sentence.\n",
        "\n",
        "    Args:\n",
        "        sent (List[spacy.tokens.Token]): A tokenized sentence using spaCy.\n",
        "\n",
        "    Returns:\n",
        "        List[dict]: List of feature dictionaries, one per token.\n",
        "    \"\"\"\n",
        "    return [word2features(sent, i) for i in range(len(sent))]\n"
      ]
    },
    {
      "cell_type": "markdown",
      "metadata": {
        "id": "FOK0t3c6-RiV"
      },
      "source": [
        "### **6.3** *Convert X_train, X_val, y_train and y_val into train and validation feature sets and labels* <font color = red>[6 marks]</font>\n",
        "\n"
      ]
    },
    {
      "cell_type": "markdown",
      "metadata": {
        "id": "7tsd50b_nX0J"
      },
      "source": [
        "##### **6.3.1** **Convert recipe into feature functions by using X_train and X_val** <font color = red>[2 marks]</font> <br>\n",
        "\n",
        "Create ***X_train_features*** and ***X_val_features*** as list to include the feature functions for each recipe present in training and validation sets"
      ]
    },
    {
      "cell_type": "code",
      "execution_count": 48,
      "metadata": {
        "id": "-bVPGPa39GIW"
      },
      "outputs": [
        {
          "name": "stdout",
          "output_type": "stream",
          "text": [
            "\n",
            " Dataset Summary:\n",
            "X_train_features length: 196\n",
            "y_train_labels   length: 196\n",
            "X_val_features   length: 84\n",
            "y_val_labels     length: 84\n",
            "[{'bias': 1.0, 'token': '250', 'lemma': '250', 'pos_tag': 'NUM', 'tag': 'CD', 'dep': 'nummod', 'shape': 'ddd', 'is_stop': False, 'is_digit': True, 'has_digit': True, 'has_alpha': False, 'hyphenated': False, 'slash_present': False, 'is_title': False, 'is_upper': False, 'is_punct': False, 'is_quantity': True, 'is_unit': False, 'is_numeric': True, 'is_fraction': False, 'is_decimal': False, 'preceding_word': '', 'following_word': 'grams', 'BOS': True, 'next_token': 'grams', 'next_is_unit': True, 'next_is_ingredient': False}, {'bias': 1.0, 'token': 'grams', 'lemma': 'gram', 'pos_tag': 'NOUN', 'tag': 'NNS', 'dep': 'nsubj', 'shape': 'xxxx', 'is_stop': False, 'is_digit': False, 'has_digit': False, 'has_alpha': True, 'hyphenated': False, 'slash_present': False, 'is_title': False, 'is_upper': False, 'is_punct': False, 'is_quantity': True, 'is_unit': True, 'is_numeric': False, 'is_fraction': False, 'is_decimal': False, 'preceding_word': '250', 'following_word': 'Okra', 'prev_token': '250', 'prev_is_quantity': True, 'prev_is_digit': True, 'next_token': 'okra', 'next_is_unit': False, 'next_is_ingredient': False}, {'bias': 1.0, 'token': 'okra', 'lemma': 'okra', 'pos_tag': 'PROPN', 'tag': 'NNP', 'dep': 'nmod', 'shape': 'Xxxx', 'is_stop': False, 'is_digit': False, 'has_digit': False, 'has_alpha': True, 'hyphenated': False, 'slash_present': False, 'is_title': True, 'is_upper': False, 'is_punct': False, 'is_quantity': True, 'is_unit': False, 'is_numeric': False, 'is_fraction': False, 'is_decimal': False, 'preceding_word': 'grams', 'following_word': 'Oil', 'prev_token': 'grams', 'prev_is_quantity': True, 'prev_is_digit': False, 'next_token': 'oil', 'next_is_unit': False, 'next_is_ingredient': False}, {'bias': 1.0, 'token': 'oil', 'lemma': 'oil', 'pos_tag': 'PROPN', 'tag': 'NNP', 'dep': 'nmod', 'shape': 'Xxx', 'is_stop': False, 'is_digit': False, 'has_digit': False, 'has_alpha': True, 'hyphenated': False, 'slash_present': False, 'is_title': True, 'is_upper': False, 'is_punct': False, 'is_quantity': True, 'is_unit': False, 'is_numeric': False, 'is_fraction': False, 'is_decimal': False, 'preceding_word': 'Okra', 'following_word': '1', 'prev_token': 'okra', 'prev_is_quantity': True, 'prev_is_digit': False, 'next_token': '1', 'next_is_unit': False, 'next_is_ingredient': False}, {'bias': 1.0, 'token': '1', 'lemma': '1', 'pos_tag': 'NUM', 'tag': 'CD', 'dep': 'nummod', 'shape': 'd', 'is_stop': False, 'is_digit': True, 'has_digit': True, 'has_alpha': False, 'hyphenated': False, 'slash_present': False, 'is_title': False, 'is_upper': False, 'is_punct': False, 'is_quantity': True, 'is_unit': False, 'is_numeric': True, 'is_fraction': False, 'is_decimal': False, 'preceding_word': 'Oil', 'following_word': 'Onion', 'prev_token': 'oil', 'prev_is_quantity': True, 'prev_is_digit': False, 'next_token': 'onion', 'next_is_unit': False, 'next_is_ingredient': False}, {'bias': 1.0, 'token': 'onion', 'lemma': 'onion', 'pos_tag': 'PROPN', 'tag': 'NNP', 'dep': 'appos', 'shape': 'Xxxxx', 'is_stop': False, 'is_digit': False, 'has_digit': False, 'has_alpha': True, 'hyphenated': False, 'slash_present': False, 'is_title': True, 'is_upper': False, 'is_punct': False, 'is_quantity': True, 'is_unit': False, 'is_numeric': False, 'is_fraction': False, 'is_decimal': False, 'preceding_word': '1', 'following_word': 'finely', 'prev_token': '1', 'prev_is_quantity': True, 'prev_is_digit': True, 'next_token': 'finely', 'next_is_unit': False, 'next_is_ingredient': False}, {'bias': 1.0, 'token': 'finely', 'lemma': 'finely', 'pos_tag': 'ADV', 'tag': 'RB', 'dep': 'advmod', 'shape': 'xxxx', 'is_stop': False, 'is_digit': False, 'has_digit': False, 'has_alpha': True, 'hyphenated': False, 'slash_present': False, 'is_title': False, 'is_upper': False, 'is_punct': False, 'is_quantity': True, 'is_unit': False, 'is_numeric': False, 'is_fraction': False, 'is_decimal': False, 'preceding_word': 'Onion', 'following_word': 'chopped', 'prev_token': 'onion', 'prev_is_quantity': True, 'prev_is_digit': False, 'next_token': 'chopped', 'next_is_unit': False, 'next_is_ingredient': False}, {'bias': 1.0, 'token': 'chopped', 'lemma': 'chop', 'pos_tag': 'VERB', 'tag': 'VBN', 'dep': 'ROOT', 'shape': 'xxxx', 'is_stop': False, 'is_digit': False, 'has_digit': False, 'has_alpha': True, 'hyphenated': False, 'slash_present': False, 'is_title': False, 'is_upper': False, 'is_punct': False, 'is_quantity': True, 'is_unit': False, 'is_numeric': False, 'is_fraction': False, 'is_decimal': False, 'preceding_word': 'finely', 'following_word': 'Tomato', 'prev_token': 'finely', 'prev_is_quantity': True, 'prev_is_digit': False, 'next_token': 'tomato', 'next_is_unit': False, 'next_is_ingredient': False}, {'bias': 1.0, 'token': 'tomato', 'lemma': 'tomato', 'pos_tag': 'PROPN', 'tag': 'NNP', 'dep': 'compound', 'shape': 'Xxxxx', 'is_stop': False, 'is_digit': False, 'has_digit': False, 'has_alpha': True, 'hyphenated': False, 'slash_present': False, 'is_title': True, 'is_upper': False, 'is_punct': False, 'is_quantity': True, 'is_unit': False, 'is_numeric': False, 'is_fraction': False, 'is_decimal': False, 'preceding_word': 'chopped', 'following_word': 'Grated', 'prev_token': 'chopped', 'prev_is_quantity': True, 'prev_is_digit': False, 'next_token': 'grated', 'next_is_unit': False, 'next_is_ingredient': False}, {'bias': 1.0, 'token': 'grated', 'lemma': 'grated', 'pos_tag': 'PROPN', 'tag': 'NNP', 'dep': 'amod', 'shape': 'Xxxxx', 'is_stop': False, 'is_digit': False, 'has_digit': False, 'has_alpha': True, 'hyphenated': False, 'slash_present': False, 'is_title': True, 'is_upper': False, 'is_punct': False, 'is_quantity': True, 'is_unit': False, 'is_numeric': False, 'is_fraction': False, 'is_decimal': False, 'preceding_word': 'Tomato', 'following_word': 'teaspoon', 'prev_token': 'tomato', 'prev_is_quantity': True, 'prev_is_digit': False, 'next_token': 'teaspoon', 'next_is_unit': True, 'next_is_ingredient': False}, {'bias': 1.0, 'token': 'teaspoon', 'lemma': 'teaspoon', 'pos_tag': 'NOUN', 'tag': 'NN', 'dep': 'npadvmod', 'shape': 'xxxx', 'is_stop': False, 'is_digit': False, 'has_digit': False, 'has_alpha': True, 'hyphenated': False, 'slash_present': False, 'is_title': False, 'is_upper': False, 'is_punct': False, 'is_quantity': True, 'is_unit': True, 'is_numeric': False, 'is_fraction': False, 'is_decimal': False, 'preceding_word': 'Grated', 'following_word': 'Ginger', 'prev_token': 'grated', 'prev_is_quantity': True, 'prev_is_digit': False, 'next_token': 'ginger', 'next_is_unit': False, 'next_is_ingredient': False}, {'bias': 1.0, 'token': 'ginger', 'lemma': 'ginger', 'pos_tag': 'NOUN', 'tag': 'NN', 'dep': 'nmod', 'shape': 'Xxxxx', 'is_stop': False, 'is_digit': False, 'has_digit': False, 'has_alpha': True, 'hyphenated': False, 'slash_present': False, 'is_title': True, 'is_upper': False, 'is_punct': False, 'is_quantity': True, 'is_unit': False, 'is_numeric': False, 'is_fraction': False, 'is_decimal': False, 'preceding_word': 'teaspoon', 'following_word': '2', 'prev_token': 'teaspoon', 'prev_is_quantity': True, 'prev_is_digit': False, 'next_token': '2', 'next_is_unit': False, 'next_is_ingredient': False}, {'bias': 1.0, 'token': '2', 'lemma': '2', 'pos_tag': 'NUM', 'tag': 'CD', 'dep': 'nummod', 'shape': 'd', 'is_stop': False, 'is_digit': True, 'has_digit': True, 'has_alpha': False, 'hyphenated': False, 'slash_present': False, 'is_title': False, 'is_upper': False, 'is_punct': False, 'is_quantity': True, 'is_unit': False, 'is_numeric': True, 'is_fraction': False, 'is_decimal': False, 'preceding_word': 'Ginger', 'following_word': 'Garlic', 'prev_token': 'ginger', 'prev_is_quantity': True, 'prev_is_digit': False, 'next_token': 'garlic', 'next_is_unit': False, 'next_is_ingredient': False}, {'bias': 1.0, 'token': 'garlic', 'lemma': 'garlic', 'pos_tag': 'PROPN', 'tag': 'NNP', 'dep': 'compound', 'shape': 'Xxxxx', 'is_stop': False, 'is_digit': False, 'has_digit': False, 'has_alpha': True, 'hyphenated': False, 'slash_present': False, 'is_title': True, 'is_upper': False, 'is_punct': False, 'is_quantity': True, 'is_unit': False, 'is_numeric': False, 'is_fraction': False, 'is_decimal': False, 'preceding_word': '2', 'following_word': 'Finely', 'prev_token': '2', 'prev_is_quantity': True, 'prev_is_digit': True, 'next_token': 'finely', 'next_is_unit': False, 'next_is_ingredient': False}, {'bias': 1.0, 'token': 'finely', 'lemma': 'finely', 'pos_tag': 'ADV', 'tag': 'RB', 'dep': 'advmod', 'shape': 'Xxxxx', 'is_stop': False, 'is_digit': False, 'has_digit': False, 'has_alpha': True, 'hyphenated': False, 'slash_present': False, 'is_title': True, 'is_upper': False, 'is_punct': False, 'is_quantity': True, 'is_unit': False, 'is_numeric': False, 'is_fraction': False, 'is_decimal': False, 'preceding_word': 'Garlic', 'following_word': '1/2', 'prev_token': 'garlic', 'prev_is_quantity': True, 'prev_is_digit': False, 'next_token': '1/2', 'next_is_unit': False, 'next_is_ingredient': False}, {'bias': 1.0, 'token': '1/2', 'lemma': '1/2', 'pos_tag': 'NUM', 'tag': 'CD', 'dep': 'nummod', 'shape': 'd/d', 'is_stop': False, 'is_digit': False, 'has_digit': True, 'has_alpha': False, 'hyphenated': False, 'slash_present': True, 'is_title': False, 'is_upper': False, 'is_punct': False, 'is_quantity': True, 'is_unit': False, 'is_numeric': True, 'is_fraction': True, 'is_decimal': False, 'preceding_word': 'Finely', 'following_word': 'Cumin', 'prev_token': 'finely', 'prev_is_quantity': True, 'prev_is_digit': False, 'next_token': 'cumin', 'next_is_unit': False, 'next_is_ingredient': False}, {'bias': 1.0, 'token': 'cumin', 'lemma': 'cumin', 'pos_tag': 'PROPN', 'tag': 'NNP', 'dep': 'nsubj', 'shape': 'Xxxxx', 'is_stop': False, 'is_digit': False, 'has_digit': False, 'has_alpha': True, 'hyphenated': False, 'slash_present': False, 'is_title': True, 'is_upper': False, 'is_punct': False, 'is_quantity': True, 'is_unit': False, 'is_numeric': False, 'is_fraction': False, 'is_decimal': False, 'preceding_word': '1/2', 'following_word': 'seeds', 'prev_token': '1/2', 'prev_is_quantity': True, 'prev_is_digit': False, 'next_token': 'seeds', 'next_is_unit': False, 'next_is_ingredient': False}, {'bias': 1.0, 'token': 'seeds', 'lemma': 'seed', 'pos_tag': 'VERB', 'tag': 'VBZ', 'dep': 'advcl', 'shape': 'xxxx', 'is_stop': False, 'is_digit': False, 'has_digit': False, 'has_alpha': True, 'hyphenated': False, 'slash_present': False, 'is_title': False, 'is_upper': False, 'is_punct': False, 'is_quantity': True, 'is_unit': False, 'is_numeric': False, 'is_fraction': False, 'is_decimal': False, 'preceding_word': 'Cumin', 'following_word': '1/4', 'prev_token': 'cumin', 'prev_is_quantity': True, 'prev_is_digit': False, 'next_token': '1/4', 'next_is_unit': False, 'next_is_ingredient': False}, {'bias': 1.0, 'token': '1/4', 'lemma': '1/4', 'pos_tag': 'NUM', 'tag': 'CD', 'dep': 'nummod', 'shape': 'd/d', 'is_stop': False, 'is_digit': False, 'has_digit': True, 'has_alpha': False, 'hyphenated': False, 'slash_present': True, 'is_title': False, 'is_upper': False, 'is_punct': False, 'is_quantity': True, 'is_unit': False, 'is_numeric': True, 'is_fraction': True, 'is_decimal': False, 'preceding_word': 'seeds', 'following_word': 'Teaspoon', 'prev_token': 'seeds', 'prev_is_quantity': True, 'prev_is_digit': False, 'next_token': 'teaspoon', 'next_is_unit': True, 'next_is_ingredient': False}, {'bias': 1.0, 'token': 'teaspoon', 'lemma': 'teaspoon', 'pos_tag': 'PROPN', 'tag': 'NNP', 'dep': 'compound', 'shape': 'Xxxxx', 'is_stop': False, 'is_digit': False, 'has_digit': False, 'has_alpha': True, 'hyphenated': False, 'slash_present': False, 'is_title': True, 'is_upper': False, 'is_punct': False, 'is_quantity': True, 'is_unit': True, 'is_numeric': False, 'is_fraction': False, 'is_decimal': False, 'preceding_word': '1/4', 'following_word': 'asafoetida', 'prev_token': '1/4', 'prev_is_quantity': True, 'prev_is_digit': False, 'next_token': 'asafoetida', 'next_is_unit': False, 'next_is_ingredient': False}, {'bias': 1.0, 'token': 'asafoetida', 'lemma': 'asafoetida', 'pos_tag': 'PROPN', 'tag': 'NNP', 'dep': 'compound', 'shape': 'xxxx', 'is_stop': False, 'is_digit': False, 'has_digit': False, 'has_alpha': True, 'hyphenated': False, 'slash_present': False, 'is_title': False, 'is_upper': False, 'is_punct': False, 'is_quantity': True, 'is_unit': False, 'is_numeric': False, 'is_fraction': False, 'is_decimal': False, 'preceding_word': 'Teaspoon', 'following_word': 'cup', 'prev_token': 'teaspoon', 'prev_is_quantity': True, 'prev_is_digit': False, 'next_token': 'cup', 'next_is_unit': True, 'next_is_ingredient': False}, {'bias': 1.0, 'token': 'cup', 'lemma': 'cup', 'pos_tag': 'PROPN', 'tag': 'NNP', 'dep': 'compound', 'shape': 'xxx', 'is_stop': False, 'is_digit': False, 'has_digit': False, 'has_alpha': True, 'hyphenated': False, 'slash_present': False, 'is_title': False, 'is_upper': False, 'is_punct': False, 'is_quantity': True, 'is_unit': True, 'is_numeric': False, 'is_fraction': False, 'is_decimal': False, 'preceding_word': 'asafoetida', 'following_word': 'cottage', 'prev_token': 'asafoetida', 'prev_is_quantity': True, 'prev_is_digit': False, 'next_token': 'cottage', 'next_is_unit': False, 'next_is_ingredient': False}, {'bias': 1.0, 'token': 'cottage', 'lemma': 'cottage', 'pos_tag': 'NOUN', 'tag': 'NN', 'dep': 'compound', 'shape': 'xxxx', 'is_stop': False, 'is_digit': False, 'has_digit': False, 'has_alpha': True, 'hyphenated': False, 'slash_present': False, 'is_title': False, 'is_upper': False, 'is_punct': False, 'is_quantity': True, 'is_unit': False, 'is_numeric': False, 'is_fraction': False, 'is_decimal': False, 'preceding_word': 'cup', 'following_word': 'cheese', 'prev_token': 'cup', 'prev_is_quantity': True, 'prev_is_digit': False, 'next_token': 'cheese', 'next_is_unit': False, 'next_is_ingredient': False}, {'bias': 1.0, 'token': 'cheese', 'lemma': 'cheese', 'pos_tag': 'NOUN', 'tag': 'NN', 'dep': 'nsubj', 'shape': 'xxxx', 'is_stop': False, 'is_digit': False, 'has_digit': False, 'has_alpha': True, 'hyphenated': False, 'slash_present': False, 'is_title': False, 'is_upper': False, 'is_punct': False, 'is_quantity': True, 'is_unit': False, 'is_numeric': False, 'is_fraction': False, 'is_decimal': False, 'preceding_word': 'cottage', 'following_word': 'pinched', 'prev_token': 'cottage', 'prev_is_quantity': True, 'prev_is_digit': False, 'next_token': 'pinched', 'next_is_unit': False, 'next_is_ingredient': False}, {'bias': 1.0, 'token': 'pinched', 'lemma': 'pinch', 'pos_tag': 'VERB', 'tag': 'VBD', 'dep': 'conj', 'shape': 'xxxx', 'is_stop': False, 'is_digit': False, 'has_digit': False, 'has_alpha': True, 'hyphenated': False, 'slash_present': False, 'is_title': False, 'is_upper': False, 'is_punct': False, 'is_quantity': True, 'is_unit': False, 'is_numeric': False, 'is_fraction': False, 'is_decimal': False, 'preceding_word': 'cheese', 'following_word': 'coriander', 'prev_token': 'cheese', 'prev_is_quantity': True, 'prev_is_digit': False, 'next_token': 'coriander', 'next_is_unit': False, 'next_is_ingredient': False}, {'bias': 1.0, 'token': 'coriander', 'lemma': 'coriander', 'pos_tag': 'NOUN', 'tag': 'NN', 'dep': 'compound', 'shape': 'xxxx', 'is_stop': False, 'is_digit': False, 'has_digit': False, 'has_alpha': True, 'hyphenated': False, 'slash_present': False, 'is_title': False, 'is_upper': False, 'is_punct': False, 'is_quantity': True, 'is_unit': False, 'is_numeric': False, 'is_fraction': False, 'is_decimal': False, 'preceding_word': 'pinched', 'following_word': 'powder', 'prev_token': 'pinched', 'prev_is_quantity': True, 'prev_is_digit': False, 'next_token': 'powder', 'next_is_unit': False, 'next_is_ingredient': False}, {'bias': 1.0, 'token': 'powder', 'lemma': 'powder', 'pos_tag': 'NOUN', 'tag': 'NN', 'dep': 'compound', 'shape': 'xxxx', 'is_stop': False, 'is_digit': False, 'has_digit': False, 'has_alpha': True, 'hyphenated': False, 'slash_present': False, 'is_title': False, 'is_upper': False, 'is_punct': False, 'is_quantity': True, 'is_unit': False, 'is_numeric': False, 'is_fraction': False, 'is_decimal': False, 'preceding_word': 'coriander', 'following_word': 'mango', 'prev_token': 'coriander', 'prev_is_quantity': True, 'prev_is_digit': False, 'next_token': 'mango', 'next_is_unit': False, 'next_is_ingredient': False}, {'bias': 1.0, 'token': 'mango', 'lemma': 'mango', 'pos_tag': 'PROPN', 'tag': 'NNP', 'dep': 'compound', 'shape': 'xxxx', 'is_stop': False, 'is_digit': False, 'has_digit': False, 'has_alpha': True, 'hyphenated': False, 'slash_present': False, 'is_title': False, 'is_upper': False, 'is_punct': False, 'is_quantity': True, 'is_unit': False, 'is_numeric': False, 'is_fraction': False, 'is_decimal': False, 'preceding_word': 'powder', 'following_word': 'red', 'prev_token': 'powder', 'prev_is_quantity': True, 'prev_is_digit': False, 'next_token': 'red', 'next_is_unit': False, 'next_is_ingredient': False}, {'bias': 1.0, 'token': 'red', 'lemma': 'red', 'pos_tag': 'PROPN', 'tag': 'NNP', 'dep': 'compound', 'shape': 'xxx', 'is_stop': False, 'is_digit': False, 'has_digit': False, 'has_alpha': True, 'hyphenated': False, 'slash_present': False, 'is_title': False, 'is_upper': False, 'is_punct': False, 'is_quantity': True, 'is_unit': False, 'is_numeric': False, 'is_fraction': False, 'is_decimal': False, 'preceding_word': 'mango', 'following_word': 'chilli', 'prev_token': 'mango', 'prev_is_quantity': True, 'prev_is_digit': False, 'next_token': 'chilli', 'next_is_unit': False, 'next_is_ingredient': False}, {'bias': 1.0, 'token': 'chilli', 'lemma': 'chilli', 'pos_tag': 'PROPN', 'tag': 'NNP', 'dep': 'compound', 'shape': 'xxxx', 'is_stop': False, 'is_digit': False, 'has_digit': False, 'has_alpha': True, 'hyphenated': False, 'slash_present': False, 'is_title': False, 'is_upper': False, 'is_punct': False, 'is_quantity': True, 'is_unit': False, 'is_numeric': False, 'is_fraction': False, 'is_decimal': False, 'preceding_word': 'red', 'following_word': 'turmeric', 'prev_token': 'red', 'prev_is_quantity': True, 'prev_is_digit': False, 'next_token': 'turmeric', 'next_is_unit': False, 'next_is_ingredient': False}, {'bias': 1.0, 'token': 'turmeric', 'lemma': 'turmeric', 'pos_tag': 'NOUN', 'tag': 'NN', 'dep': 'dobj', 'shape': 'xxxx', 'is_stop': False, 'is_digit': False, 'has_digit': False, 'has_alpha': True, 'hyphenated': False, 'slash_present': False, 'is_title': False, 'is_upper': False, 'is_punct': False, 'is_quantity': True, 'is_unit': False, 'is_numeric': False, 'is_fraction': False, 'is_decimal': False, 'preceding_word': 'chilli', 'following_word': '', 'prev_token': 'chilli', 'prev_is_quantity': True, 'prev_is_digit': False, 'EOS': True}]\n"
          ]
        }
      ],
      "source": [
        "# Convert input sentences into feature sets by taking training and validation dataset as X_train_features and X_val_features\n",
        "# Generate feature sequences using sent2features\n",
        "X_train_features = [sent2features(nlp(\" \".join(tokens))) for tokens in X_train]\n",
        "X_val_features   = [sent2features(nlp(\" \".join(tokens))) for tokens in X_val]\n",
        "\n",
        "# Generate label sequences directly from y_train and y_val\n",
        "y_train_labels = y_train\n",
        "y_val_labels = y_val\n",
        "\n",
        "# Print Lengths\n",
        "print(\"\\n Dataset Summary:\")\n",
        "print(f\"X_train_features length: {len(X_train_features)}\")\n",
        "print(f\"y_train_labels   length: {len(y_train_labels)}\")\n",
        "print(f\"X_val_features   length: {len(X_val_features)}\")\n",
        "print(f\"y_val_labels     length: {len(y_val_labels)}\")\n",
        "print(X_train_features[0])  # Display first feature set for inspection"
      ]
    },
    {
      "cell_type": "markdown",
      "metadata": {
        "id": "jcwmwXn-n6cs"
      },
      "source": [
        "##### **6.3.2** **Convert lables of y_train and y_val into list** <font color = red>[2 marks]</font> <br>\n",
        "\n",
        "Create ***y_train_labels*** and ***y_val_labels*** by using the list of y_train and y_val"
      ]
    },
    {
      "cell_type": "code",
      "execution_count": null,
      "metadata": {
        "id": "TiGgP3O6nfPg"
      },
      "outputs": [],
      "source": [
        "# Convert labels into list as y_train_labels and y_val_labels\n"
      ]
    },
    {
      "cell_type": "markdown",
      "metadata": {
        "id": "4c-kjqtaoZvb"
      },
      "source": [
        "##### **6.3.3** **Print the length of val and train features and labels** <font color = red>[2 marks]</font> <br>\n",
        "\n"
      ]
    },
    {
      "cell_type": "code",
      "execution_count": 63,
      "metadata": {
        "id": "mWId2Nn0okMV"
      },
      "outputs": [
        {
          "name": "stdout",
          "output_type": "stream",
          "text": [
            "Training Data Stats:\n",
            "X_train_features length: 196\n",
            "y_train_labels   length: 196\n",
            "[{'bias': 1.0, 'token': '250', 'lemma': '250', 'pos_tag': 'NUM', 'tag': 'CD', 'dep': 'nummod', 'shape': 'ddd', 'is_stop': False, 'is_digit': True, 'has_digit': True, 'has_alpha': False, 'hyphenated': False, 'slash_present': False, 'is_title': False, 'is_upper': False, 'is_punct': False, 'is_quantity': True, 'is_unit': False, 'is_numeric': True, 'is_fraction': False, 'is_decimal': False, 'preceding_word': '', 'following_word': 'grams', 'BOS': True, 'next_token': 'grams', 'next_is_unit': True, 'next_is_ingredient': False}, {'bias': 1.0, 'token': 'grams', 'lemma': 'gram', 'pos_tag': 'NOUN', 'tag': 'NNS', 'dep': 'nsubj', 'shape': 'xxxx', 'is_stop': False, 'is_digit': False, 'has_digit': False, 'has_alpha': True, 'hyphenated': False, 'slash_present': False, 'is_title': False, 'is_upper': False, 'is_punct': False, 'is_quantity': True, 'is_unit': True, 'is_numeric': False, 'is_fraction': False, 'is_decimal': False, 'preceding_word': '250', 'following_word': 'Okra', 'prev_token': '250', 'prev_is_quantity': True, 'prev_is_digit': True, 'next_token': 'okra', 'next_is_unit': False, 'next_is_ingredient': False}, {'bias': 1.0, 'token': 'okra', 'lemma': 'okra', 'pos_tag': 'PROPN', 'tag': 'NNP', 'dep': 'nmod', 'shape': 'Xxxx', 'is_stop': False, 'is_digit': False, 'has_digit': False, 'has_alpha': True, 'hyphenated': False, 'slash_present': False, 'is_title': True, 'is_upper': False, 'is_punct': False, 'is_quantity': True, 'is_unit': False, 'is_numeric': False, 'is_fraction': False, 'is_decimal': False, 'preceding_word': 'grams', 'following_word': 'Oil', 'prev_token': 'grams', 'prev_is_quantity': True, 'prev_is_digit': False, 'next_token': 'oil', 'next_is_unit': False, 'next_is_ingredient': False}, {'bias': 1.0, 'token': 'oil', 'lemma': 'oil', 'pos_tag': 'PROPN', 'tag': 'NNP', 'dep': 'nmod', 'shape': 'Xxx', 'is_stop': False, 'is_digit': False, 'has_digit': False, 'has_alpha': True, 'hyphenated': False, 'slash_present': False, 'is_title': True, 'is_upper': False, 'is_punct': False, 'is_quantity': True, 'is_unit': False, 'is_numeric': False, 'is_fraction': False, 'is_decimal': False, 'preceding_word': 'Okra', 'following_word': '1', 'prev_token': 'okra', 'prev_is_quantity': True, 'prev_is_digit': False, 'next_token': '1', 'next_is_unit': False, 'next_is_ingredient': False}, {'bias': 1.0, 'token': '1', 'lemma': '1', 'pos_tag': 'NUM', 'tag': 'CD', 'dep': 'nummod', 'shape': 'd', 'is_stop': False, 'is_digit': True, 'has_digit': True, 'has_alpha': False, 'hyphenated': False, 'slash_present': False, 'is_title': False, 'is_upper': False, 'is_punct': False, 'is_quantity': True, 'is_unit': False, 'is_numeric': True, 'is_fraction': False, 'is_decimal': False, 'preceding_word': 'Oil', 'following_word': 'Onion', 'prev_token': 'oil', 'prev_is_quantity': True, 'prev_is_digit': False, 'next_token': 'onion', 'next_is_unit': False, 'next_is_ingredient': False}, {'bias': 1.0, 'token': 'onion', 'lemma': 'onion', 'pos_tag': 'PROPN', 'tag': 'NNP', 'dep': 'appos', 'shape': 'Xxxxx', 'is_stop': False, 'is_digit': False, 'has_digit': False, 'has_alpha': True, 'hyphenated': False, 'slash_present': False, 'is_title': True, 'is_upper': False, 'is_punct': False, 'is_quantity': True, 'is_unit': False, 'is_numeric': False, 'is_fraction': False, 'is_decimal': False, 'preceding_word': '1', 'following_word': 'finely', 'prev_token': '1', 'prev_is_quantity': True, 'prev_is_digit': True, 'next_token': 'finely', 'next_is_unit': False, 'next_is_ingredient': False}, {'bias': 1.0, 'token': 'finely', 'lemma': 'finely', 'pos_tag': 'ADV', 'tag': 'RB', 'dep': 'advmod', 'shape': 'xxxx', 'is_stop': False, 'is_digit': False, 'has_digit': False, 'has_alpha': True, 'hyphenated': False, 'slash_present': False, 'is_title': False, 'is_upper': False, 'is_punct': False, 'is_quantity': True, 'is_unit': False, 'is_numeric': False, 'is_fraction': False, 'is_decimal': False, 'preceding_word': 'Onion', 'following_word': 'chopped', 'prev_token': 'onion', 'prev_is_quantity': True, 'prev_is_digit': False, 'next_token': 'chopped', 'next_is_unit': False, 'next_is_ingredient': False}, {'bias': 1.0, 'token': 'chopped', 'lemma': 'chop', 'pos_tag': 'VERB', 'tag': 'VBN', 'dep': 'ROOT', 'shape': 'xxxx', 'is_stop': False, 'is_digit': False, 'has_digit': False, 'has_alpha': True, 'hyphenated': False, 'slash_present': False, 'is_title': False, 'is_upper': False, 'is_punct': False, 'is_quantity': True, 'is_unit': False, 'is_numeric': False, 'is_fraction': False, 'is_decimal': False, 'preceding_word': 'finely', 'following_word': 'Tomato', 'prev_token': 'finely', 'prev_is_quantity': True, 'prev_is_digit': False, 'next_token': 'tomato', 'next_is_unit': False, 'next_is_ingredient': False}, {'bias': 1.0, 'token': 'tomato', 'lemma': 'tomato', 'pos_tag': 'PROPN', 'tag': 'NNP', 'dep': 'compound', 'shape': 'Xxxxx', 'is_stop': False, 'is_digit': False, 'has_digit': False, 'has_alpha': True, 'hyphenated': False, 'slash_present': False, 'is_title': True, 'is_upper': False, 'is_punct': False, 'is_quantity': True, 'is_unit': False, 'is_numeric': False, 'is_fraction': False, 'is_decimal': False, 'preceding_word': 'chopped', 'following_word': 'Grated', 'prev_token': 'chopped', 'prev_is_quantity': True, 'prev_is_digit': False, 'next_token': 'grated', 'next_is_unit': False, 'next_is_ingredient': False}, {'bias': 1.0, 'token': 'grated', 'lemma': 'grated', 'pos_tag': 'PROPN', 'tag': 'NNP', 'dep': 'amod', 'shape': 'Xxxxx', 'is_stop': False, 'is_digit': False, 'has_digit': False, 'has_alpha': True, 'hyphenated': False, 'slash_present': False, 'is_title': True, 'is_upper': False, 'is_punct': False, 'is_quantity': True, 'is_unit': False, 'is_numeric': False, 'is_fraction': False, 'is_decimal': False, 'preceding_word': 'Tomato', 'following_word': 'teaspoon', 'prev_token': 'tomato', 'prev_is_quantity': True, 'prev_is_digit': False, 'next_token': 'teaspoon', 'next_is_unit': True, 'next_is_ingredient': False}, {'bias': 1.0, 'token': 'teaspoon', 'lemma': 'teaspoon', 'pos_tag': 'NOUN', 'tag': 'NN', 'dep': 'npadvmod', 'shape': 'xxxx', 'is_stop': False, 'is_digit': False, 'has_digit': False, 'has_alpha': True, 'hyphenated': False, 'slash_present': False, 'is_title': False, 'is_upper': False, 'is_punct': False, 'is_quantity': True, 'is_unit': True, 'is_numeric': False, 'is_fraction': False, 'is_decimal': False, 'preceding_word': 'Grated', 'following_word': 'Ginger', 'prev_token': 'grated', 'prev_is_quantity': True, 'prev_is_digit': False, 'next_token': 'ginger', 'next_is_unit': False, 'next_is_ingredient': False}, {'bias': 1.0, 'token': 'ginger', 'lemma': 'ginger', 'pos_tag': 'NOUN', 'tag': 'NN', 'dep': 'nmod', 'shape': 'Xxxxx', 'is_stop': False, 'is_digit': False, 'has_digit': False, 'has_alpha': True, 'hyphenated': False, 'slash_present': False, 'is_title': True, 'is_upper': False, 'is_punct': False, 'is_quantity': True, 'is_unit': False, 'is_numeric': False, 'is_fraction': False, 'is_decimal': False, 'preceding_word': 'teaspoon', 'following_word': '2', 'prev_token': 'teaspoon', 'prev_is_quantity': True, 'prev_is_digit': False, 'next_token': '2', 'next_is_unit': False, 'next_is_ingredient': False}, {'bias': 1.0, 'token': '2', 'lemma': '2', 'pos_tag': 'NUM', 'tag': 'CD', 'dep': 'nummod', 'shape': 'd', 'is_stop': False, 'is_digit': True, 'has_digit': True, 'has_alpha': False, 'hyphenated': False, 'slash_present': False, 'is_title': False, 'is_upper': False, 'is_punct': False, 'is_quantity': True, 'is_unit': False, 'is_numeric': True, 'is_fraction': False, 'is_decimal': False, 'preceding_word': 'Ginger', 'following_word': 'Garlic', 'prev_token': 'ginger', 'prev_is_quantity': True, 'prev_is_digit': False, 'next_token': 'garlic', 'next_is_unit': False, 'next_is_ingredient': False}, {'bias': 1.0, 'token': 'garlic', 'lemma': 'garlic', 'pos_tag': 'PROPN', 'tag': 'NNP', 'dep': 'compound', 'shape': 'Xxxxx', 'is_stop': False, 'is_digit': False, 'has_digit': False, 'has_alpha': True, 'hyphenated': False, 'slash_present': False, 'is_title': True, 'is_upper': False, 'is_punct': False, 'is_quantity': True, 'is_unit': False, 'is_numeric': False, 'is_fraction': False, 'is_decimal': False, 'preceding_word': '2', 'following_word': 'Finely', 'prev_token': '2', 'prev_is_quantity': True, 'prev_is_digit': True, 'next_token': 'finely', 'next_is_unit': False, 'next_is_ingredient': False}, {'bias': 1.0, 'token': 'finely', 'lemma': 'finely', 'pos_tag': 'ADV', 'tag': 'RB', 'dep': 'advmod', 'shape': 'Xxxxx', 'is_stop': False, 'is_digit': False, 'has_digit': False, 'has_alpha': True, 'hyphenated': False, 'slash_present': False, 'is_title': True, 'is_upper': False, 'is_punct': False, 'is_quantity': True, 'is_unit': False, 'is_numeric': False, 'is_fraction': False, 'is_decimal': False, 'preceding_word': 'Garlic', 'following_word': '1/2', 'prev_token': 'garlic', 'prev_is_quantity': True, 'prev_is_digit': False, 'next_token': '1/2', 'next_is_unit': False, 'next_is_ingredient': False}, {'bias': 1.0, 'token': '1/2', 'lemma': '1/2', 'pos_tag': 'NUM', 'tag': 'CD', 'dep': 'nummod', 'shape': 'd/d', 'is_stop': False, 'is_digit': False, 'has_digit': True, 'has_alpha': False, 'hyphenated': False, 'slash_present': True, 'is_title': False, 'is_upper': False, 'is_punct': False, 'is_quantity': True, 'is_unit': False, 'is_numeric': True, 'is_fraction': True, 'is_decimal': False, 'preceding_word': 'Finely', 'following_word': 'Cumin', 'prev_token': 'finely', 'prev_is_quantity': True, 'prev_is_digit': False, 'next_token': 'cumin', 'next_is_unit': False, 'next_is_ingredient': False}, {'bias': 1.0, 'token': 'cumin', 'lemma': 'cumin', 'pos_tag': 'PROPN', 'tag': 'NNP', 'dep': 'nsubj', 'shape': 'Xxxxx', 'is_stop': False, 'is_digit': False, 'has_digit': False, 'has_alpha': True, 'hyphenated': False, 'slash_present': False, 'is_title': True, 'is_upper': False, 'is_punct': False, 'is_quantity': True, 'is_unit': False, 'is_numeric': False, 'is_fraction': False, 'is_decimal': False, 'preceding_word': '1/2', 'following_word': 'seeds', 'prev_token': '1/2', 'prev_is_quantity': True, 'prev_is_digit': False, 'next_token': 'seeds', 'next_is_unit': False, 'next_is_ingredient': False}, {'bias': 1.0, 'token': 'seeds', 'lemma': 'seed', 'pos_tag': 'VERB', 'tag': 'VBZ', 'dep': 'advcl', 'shape': 'xxxx', 'is_stop': False, 'is_digit': False, 'has_digit': False, 'has_alpha': True, 'hyphenated': False, 'slash_present': False, 'is_title': False, 'is_upper': False, 'is_punct': False, 'is_quantity': True, 'is_unit': False, 'is_numeric': False, 'is_fraction': False, 'is_decimal': False, 'preceding_word': 'Cumin', 'following_word': '1/4', 'prev_token': 'cumin', 'prev_is_quantity': True, 'prev_is_digit': False, 'next_token': '1/4', 'next_is_unit': False, 'next_is_ingredient': False}, {'bias': 1.0, 'token': '1/4', 'lemma': '1/4', 'pos_tag': 'NUM', 'tag': 'CD', 'dep': 'nummod', 'shape': 'd/d', 'is_stop': False, 'is_digit': False, 'has_digit': True, 'has_alpha': False, 'hyphenated': False, 'slash_present': True, 'is_title': False, 'is_upper': False, 'is_punct': False, 'is_quantity': True, 'is_unit': False, 'is_numeric': True, 'is_fraction': True, 'is_decimal': False, 'preceding_word': 'seeds', 'following_word': 'Teaspoon', 'prev_token': 'seeds', 'prev_is_quantity': True, 'prev_is_digit': False, 'next_token': 'teaspoon', 'next_is_unit': True, 'next_is_ingredient': False}, {'bias': 1.0, 'token': 'teaspoon', 'lemma': 'teaspoon', 'pos_tag': 'PROPN', 'tag': 'NNP', 'dep': 'compound', 'shape': 'Xxxxx', 'is_stop': False, 'is_digit': False, 'has_digit': False, 'has_alpha': True, 'hyphenated': False, 'slash_present': False, 'is_title': True, 'is_upper': False, 'is_punct': False, 'is_quantity': True, 'is_unit': True, 'is_numeric': False, 'is_fraction': False, 'is_decimal': False, 'preceding_word': '1/4', 'following_word': 'asafoetida', 'prev_token': '1/4', 'prev_is_quantity': True, 'prev_is_digit': False, 'next_token': 'asafoetida', 'next_is_unit': False, 'next_is_ingredient': False}, {'bias': 1.0, 'token': 'asafoetida', 'lemma': 'asafoetida', 'pos_tag': 'PROPN', 'tag': 'NNP', 'dep': 'compound', 'shape': 'xxxx', 'is_stop': False, 'is_digit': False, 'has_digit': False, 'has_alpha': True, 'hyphenated': False, 'slash_present': False, 'is_title': False, 'is_upper': False, 'is_punct': False, 'is_quantity': True, 'is_unit': False, 'is_numeric': False, 'is_fraction': False, 'is_decimal': False, 'preceding_word': 'Teaspoon', 'following_word': 'cup', 'prev_token': 'teaspoon', 'prev_is_quantity': True, 'prev_is_digit': False, 'next_token': 'cup', 'next_is_unit': True, 'next_is_ingredient': False}, {'bias': 1.0, 'token': 'cup', 'lemma': 'cup', 'pos_tag': 'PROPN', 'tag': 'NNP', 'dep': 'compound', 'shape': 'xxx', 'is_stop': False, 'is_digit': False, 'has_digit': False, 'has_alpha': True, 'hyphenated': False, 'slash_present': False, 'is_title': False, 'is_upper': False, 'is_punct': False, 'is_quantity': True, 'is_unit': True, 'is_numeric': False, 'is_fraction': False, 'is_decimal': False, 'preceding_word': 'asafoetida', 'following_word': 'cottage', 'prev_token': 'asafoetida', 'prev_is_quantity': True, 'prev_is_digit': False, 'next_token': 'cottage', 'next_is_unit': False, 'next_is_ingredient': False}, {'bias': 1.0, 'token': 'cottage', 'lemma': 'cottage', 'pos_tag': 'NOUN', 'tag': 'NN', 'dep': 'compound', 'shape': 'xxxx', 'is_stop': False, 'is_digit': False, 'has_digit': False, 'has_alpha': True, 'hyphenated': False, 'slash_present': False, 'is_title': False, 'is_upper': False, 'is_punct': False, 'is_quantity': True, 'is_unit': False, 'is_numeric': False, 'is_fraction': False, 'is_decimal': False, 'preceding_word': 'cup', 'following_word': 'cheese', 'prev_token': 'cup', 'prev_is_quantity': True, 'prev_is_digit': False, 'next_token': 'cheese', 'next_is_unit': False, 'next_is_ingredient': False}, {'bias': 1.0, 'token': 'cheese', 'lemma': 'cheese', 'pos_tag': 'NOUN', 'tag': 'NN', 'dep': 'nsubj', 'shape': 'xxxx', 'is_stop': False, 'is_digit': False, 'has_digit': False, 'has_alpha': True, 'hyphenated': False, 'slash_present': False, 'is_title': False, 'is_upper': False, 'is_punct': False, 'is_quantity': True, 'is_unit': False, 'is_numeric': False, 'is_fraction': False, 'is_decimal': False, 'preceding_word': 'cottage', 'following_word': 'pinched', 'prev_token': 'cottage', 'prev_is_quantity': True, 'prev_is_digit': False, 'next_token': 'pinched', 'next_is_unit': False, 'next_is_ingredient': False}, {'bias': 1.0, 'token': 'pinched', 'lemma': 'pinch', 'pos_tag': 'VERB', 'tag': 'VBD', 'dep': 'conj', 'shape': 'xxxx', 'is_stop': False, 'is_digit': False, 'has_digit': False, 'has_alpha': True, 'hyphenated': False, 'slash_present': False, 'is_title': False, 'is_upper': False, 'is_punct': False, 'is_quantity': True, 'is_unit': False, 'is_numeric': False, 'is_fraction': False, 'is_decimal': False, 'preceding_word': 'cheese', 'following_word': 'coriander', 'prev_token': 'cheese', 'prev_is_quantity': True, 'prev_is_digit': False, 'next_token': 'coriander', 'next_is_unit': False, 'next_is_ingredient': False}, {'bias': 1.0, 'token': 'coriander', 'lemma': 'coriander', 'pos_tag': 'NOUN', 'tag': 'NN', 'dep': 'compound', 'shape': 'xxxx', 'is_stop': False, 'is_digit': False, 'has_digit': False, 'has_alpha': True, 'hyphenated': False, 'slash_present': False, 'is_title': False, 'is_upper': False, 'is_punct': False, 'is_quantity': True, 'is_unit': False, 'is_numeric': False, 'is_fraction': False, 'is_decimal': False, 'preceding_word': 'pinched', 'following_word': 'powder', 'prev_token': 'pinched', 'prev_is_quantity': True, 'prev_is_digit': False, 'next_token': 'powder', 'next_is_unit': False, 'next_is_ingredient': False}, {'bias': 1.0, 'token': 'powder', 'lemma': 'powder', 'pos_tag': 'NOUN', 'tag': 'NN', 'dep': 'compound', 'shape': 'xxxx', 'is_stop': False, 'is_digit': False, 'has_digit': False, 'has_alpha': True, 'hyphenated': False, 'slash_present': False, 'is_title': False, 'is_upper': False, 'is_punct': False, 'is_quantity': True, 'is_unit': False, 'is_numeric': False, 'is_fraction': False, 'is_decimal': False, 'preceding_word': 'coriander', 'following_word': 'mango', 'prev_token': 'coriander', 'prev_is_quantity': True, 'prev_is_digit': False, 'next_token': 'mango', 'next_is_unit': False, 'next_is_ingredient': False}, {'bias': 1.0, 'token': 'mango', 'lemma': 'mango', 'pos_tag': 'PROPN', 'tag': 'NNP', 'dep': 'compound', 'shape': 'xxxx', 'is_stop': False, 'is_digit': False, 'has_digit': False, 'has_alpha': True, 'hyphenated': False, 'slash_present': False, 'is_title': False, 'is_upper': False, 'is_punct': False, 'is_quantity': True, 'is_unit': False, 'is_numeric': False, 'is_fraction': False, 'is_decimal': False, 'preceding_word': 'powder', 'following_word': 'red', 'prev_token': 'powder', 'prev_is_quantity': True, 'prev_is_digit': False, 'next_token': 'red', 'next_is_unit': False, 'next_is_ingredient': False}, {'bias': 1.0, 'token': 'red', 'lemma': 'red', 'pos_tag': 'PROPN', 'tag': 'NNP', 'dep': 'compound', 'shape': 'xxx', 'is_stop': False, 'is_digit': False, 'has_digit': False, 'has_alpha': True, 'hyphenated': False, 'slash_present': False, 'is_title': False, 'is_upper': False, 'is_punct': False, 'is_quantity': True, 'is_unit': False, 'is_numeric': False, 'is_fraction': False, 'is_decimal': False, 'preceding_word': 'mango', 'following_word': 'chilli', 'prev_token': 'mango', 'prev_is_quantity': True, 'prev_is_digit': False, 'next_token': 'chilli', 'next_is_unit': False, 'next_is_ingredient': False}, {'bias': 1.0, 'token': 'chilli', 'lemma': 'chilli', 'pos_tag': 'PROPN', 'tag': 'NNP', 'dep': 'compound', 'shape': 'xxxx', 'is_stop': False, 'is_digit': False, 'has_digit': False, 'has_alpha': True, 'hyphenated': False, 'slash_present': False, 'is_title': False, 'is_upper': False, 'is_punct': False, 'is_quantity': True, 'is_unit': False, 'is_numeric': False, 'is_fraction': False, 'is_decimal': False, 'preceding_word': 'red', 'following_word': 'turmeric', 'prev_token': 'red', 'prev_is_quantity': True, 'prev_is_digit': False, 'next_token': 'turmeric', 'next_is_unit': False, 'next_is_ingredient': False}, {'bias': 1.0, 'token': 'turmeric', 'lemma': 'turmeric', 'pos_tag': 'NOUN', 'tag': 'NN', 'dep': 'dobj', 'shape': 'xxxx', 'is_stop': False, 'is_digit': False, 'has_digit': False, 'has_alpha': True, 'hyphenated': False, 'slash_present': False, 'is_title': False, 'is_upper': False, 'is_punct': False, 'is_quantity': True, 'is_unit': False, 'is_numeric': False, 'is_fraction': False, 'is_decimal': False, 'preceding_word': 'chilli', 'following_word': '', 'prev_token': 'chilli', 'prev_is_quantity': True, 'prev_is_digit': False, 'EOS': True}]\n"
          ]
        }
      ],
      "source": [
        "# print the length of train features and labels\n",
        "print(\"Training Data Stats:\")\n",
        "print(f\"X_train_features length: {len(X_train_features)}\")\n",
        "print(f\"y_train_labels   length: {len(y_train_labels)}\")\n",
        "print(X_train_features[0])"
      ]
    },
    {
      "cell_type": "code",
      "execution_count": 50,
      "metadata": {
        "id": "LAt_m_LubRvn"
      },
      "outputs": [
        {
          "name": "stdout",
          "output_type": "stream",
          "text": [
            "Validation Data Stats:\n",
            "X_train_features length: 84\n",
            "y_train_labels   length: 84\n"
          ]
        }
      ],
      "source": [
        "# print the length of validation features and labels\n",
        "print(\"Validation Data Stats:\")\n",
        "print(f\"X_train_features length: {len(X_val_features)}\")\n",
        "print(f\"y_train_labels   length: {len(y_val_labels)}\")"
      ]
    },
    {
      "cell_type": "markdown",
      "metadata": {
        "id": "dZffFBH-pVhx"
      },
      "source": [
        "### **6.4** *Applying weights to feature sets* <font color = red>[12 marks]</font> <br>\n",
        "\n",
        "\n"
      ]
    },
    {
      "cell_type": "markdown",
      "metadata": {
        "id": "Goh_fX-6pqhN"
      },
      "source": [
        "##### **6.4.1** **Flatten the labels of y_train** <font color = red>[2 marks]</font> <br>\n",
        "\n",
        "Create ***y_train_flat*** to flatten the structure of nested y_train"
      ]
    },
    {
      "cell_type": "code",
      "execution_count": 53,
      "metadata": {
        "id": "adLWfYn_p3gM"
      },
      "outputs": [],
      "source": [
        "# Flatten labels in y_train\n",
        "y_train_flat = [label for sentence in y_train_labels for label in sentence]"
      ]
    },
    {
      "cell_type": "markdown",
      "metadata": {
        "id": "qk9UMBrbp9dp"
      },
      "source": [
        "##### **6.4.2** **Count the labels present in training target dataset** <font color = red>[2 marks]</font> <br>\n",
        "\n",
        "Create ***label_counts*** to count the frequencies of labels present in y_train_flat and retrieve the total samples by using the values of label_counts as ***total_samples***"
      ]
    },
    {
      "cell_type": "code",
      "execution_count": 54,
      "metadata": {
        "id": "6Kiu8jckqZSH"
      },
      "outputs": [],
      "source": [
        "# Count label frequencies as label_counts and total_samples as getting the summation of values of label_counts\n",
        "label_counts = Counter(y_train_flat)\n",
        "total_samples = sum(label_counts.values())"
      ]
    },
    {
      "cell_type": "markdown",
      "metadata": {
        "id": "4aCmDsZYqYA-"
      },
      "source": [
        "##### **6.4.3** **Compute weight_dict by using inverse frequency method for label weights** <font color = red>[2 marks]</font> <br>\n",
        "\n",
        "- Create ***weight_dict*** as dictionary with label and its inverse frequency count in ***label_counts***\n",
        "\n",
        "- Penalise ingredient label in the dictionary"
      ]
    },
    {
      "cell_type": "code",
      "execution_count": 55,
      "metadata": {
        "id": "FpbEAZ3zqxEo"
      },
      "outputs": [
        {
          "name": "stdout",
          "output_type": "stream",
          "text": [
            " Label Frequencies:\n",
            "  quantity: 980\n",
            "      unit: 811\n",
            "ingredient: 5323\n",
            "\n",
            " Weight Dictionary (penalizing 'ingredient'):\n",
            "  quantity: 7.26\n",
            "      unit: 8.77\n",
            "ingredient: 2.00\n",
            "\n",
            " Total Samples: 7114\n"
          ]
        }
      ],
      "source": [
        "# Compute class weights (inverse frequency method) by considering total_samples and label_counts\n",
        "weight_dict = {}\n",
        "for label, count in label_counts.items():\n",
        "    if label == 'ingredient':\n",
        "        # Penalize ingredient by giving higher weight\n",
        "        weight_dict[label] = total_samples / count * 1.5\n",
        "    else:\n",
        "        weight_dict[label] = total_samples / count\n",
        "\n",
        "# Convert to list of weights in the order of unique labels\n",
        "\n",
        "#Display result\n",
        "print(\" Label Frequencies:\")\n",
        "for label, count in label_counts.items():\n",
        "    print(f\"{label:>10}: {count}\")\n",
        "\n",
        "print(\"\\n Weight Dictionary (penalizing 'ingredient'):\")\n",
        "for label, weight in weight_dict.items():\n",
        "    print(f\"{label:>10}: {weight:.2f}\")\n",
        "\n",
        "print(f\"\\n Total Samples: {total_samples}\")"
      ]
    },
    {
      "cell_type": "code",
      "execution_count": null,
      "metadata": {
        "id": "hns3HbujXESs"
      },
      "outputs": [],
      "source": [
        "# penalise ingredient label\n"
      ]
    },
    {
      "cell_type": "markdown",
      "metadata": {
        "id": "V8TdHMlPrhh8"
      },
      "source": [
        "##### **6.4.4** **Extract features along with class weights** <font color = red>[4 marks]</font> <br>\n",
        "\n",
        "Define a function ***extract_features_with_class_weights*** to work with training and validation datasets and extract features by applying class weights\n",
        "\n",
        "\n",
        "\n"
      ]
    },
    {
      "cell_type": "code",
      "execution_count": 65,
      "metadata": {
        "id": "1km6GR4TjXPX"
      },
      "outputs": [],
      "source": [
        "# Apply weights to feature extraction in extract_features_with_class_weights by using parameters such as X (input tokens), y(labels) and weight_dict (Class weights)\n",
        "def extract_features_with_class_weights(X, y, weight_dict):\n",
        "    \"\"\"\n",
        "    Extract features and assign class weights to each token using original tokenization.\n",
        "    \n",
        "    Args:\n",
        "        X (List[List[str]]): List of input token sequences.\n",
        "        y (List[List[str]]): List of label sequences.\n",
        "        weight_dict (dict): Dictionary mapping label → weight.\n",
        "\n",
        "    Returns:\n",
        "        List[List[dict]]: Weighted features per token per sentence.\n",
        "    \"\"\"\n",
        "    weighted_features = []\n",
        "\n",
        "    for tokens, labels in zip(X, y):\n",
        "        if len(tokens) != len(labels):\n",
        "            print(f\"️ Skipping misaligned sample: {tokens} vs {labels}\")\n",
        "            continue  # skip if lengths don't match\n",
        "\n",
        "        doc = nlp.make_doc(\" \".join(tokens))  # preserves original tokens\n",
        "        sentence_features = []\n",
        "\n",
        "        for i in range(len(tokens)):\n",
        "            feats = word2features(doc, i)\n",
        "            feats['class_weight'] = weight_dict.get(labels[i], 1.0)\n",
        "            sentence_features.append(feats)\n",
        "\n",
        "        weighted_features.append(sentence_features)\n",
        "\n",
        "    return weighted_features"
      ]
    },
    {
      "cell_type": "markdown",
      "metadata": {
        "id": "51ABmKwKsaiz"
      },
      "source": [
        "##### **6.4.5** **Execute extract_features_with_class_weights on training and validation datasets** <font color = red>[2 marks]</font> <br>\n",
        "\n",
        "Create ***X_train_weighted_features*** and ***X_val_weighted_features*** for extracting training and validation features along with their weights by calling ***extract_features_with_class_weights*** on the datasets"
      ]
    },
    {
      "cell_type": "code",
      "execution_count": 66,
      "metadata": {
        "id": "-XUFFnm5sYE6"
      },
      "outputs": [
        {
          "name": "stdout",
          "output_type": "stream",
          "text": [
            " Weighted Features Extracted:\n",
            "X_train_weighted_features: 196 sentences\n",
            "X_val_weighted_features  : 84 sentences\n",
            "\n",
            " Sample weighted features for first token in first training sentence:\n",
            "{'bias': 1.0, 'token': '250', 'lemma': '', 'pos_tag': '', 'tag': '', 'dep': '', 'shape': 'ddd', 'is_stop': False, 'is_digit': True, 'has_digit': True, 'has_alpha': False, 'hyphenated': False, 'slash_present': False, 'is_title': False, 'is_upper': False, 'is_punct': False, 'is_quantity': True, 'is_unit': False, 'is_numeric': True, 'is_fraction': False, 'is_decimal': False, 'preceding_word': '', 'following_word': 'grams', 'BOS': True, 'next_token': 'grams', 'next_is_unit': True, 'next_is_ingredient': False, 'class_weight': 7.259183673469388}\n"
          ]
        }
      ],
      "source": [
        "# Apply manually computed class weights\n",
        "X_train_weighted_features = extract_features_with_class_weights(X_train, y_train_labels, weight_dict)\n",
        "X_val_weighted_features   = extract_features_with_class_weights(X_val, y_val_labels, weight_dict)\n",
        "\n",
        "# Print summary\n",
        "print(\" Weighted Features Extracted:\")\n",
        "print(f\"X_train_weighted_features: {len(X_train_weighted_features)} sentences\")\n",
        "print(f\"X_val_weighted_features  : {len(X_val_weighted_features)} sentences\")\n",
        "\n",
        "# Optional: Check one token\n",
        "print(\"\\n Sample weighted features for first token in first training sentence:\")\n",
        "print(X_train_weighted_features[0][0])"
      ]
    },
    {
      "cell_type": "markdown",
      "metadata": {
        "id": "Aah9bFDlAuzI"
      },
      "source": [
        "## **7** Model Building and Training <font color = red>[10 marks]</font> <br>"
      ]
    },
    {
      "cell_type": "markdown",
      "metadata": {
        "id": "axrvWR9TAuzJ"
      },
      "source": [
        "### **7.1** *Initialise the CRF model and train it* <font color = red>[5 marks]</font>\n",
        "Train the CRF model with the specified hyperparameters such as\n",
        "\n",
        "### CRF Model Hyperparameters Explanation\n",
        "\n",
        "| Parameter                  | Description |\n",
        "|----------------------------|-------------|\n",
        "| **algorithm='lbfgs'**      | Optimisation algorithm used for training. `lbfgs` (Limited-memory Broyden–Fletcher–Goldfarb–Shanno) is a quasi-Newton optimisation method. |\n",
        "| **c1=0.5**                | L1 regularisation term to control sparsity in feature weights. Helps in feature selection. |\n",
        "| **c2=1.0**                | L2 regularisation term to prevent overfitting by penalising large weights. |\n",
        "| **max_iterations=100**     | Maximum number of iterations for model training. Higher values allow more convergence but increase computation time. |\n",
        "| **all_possible_transitions=True** | Ensures that all possible state transitions are considered in training, making the model more robust. |\n",
        "\n",
        "Use weight_dict for training CRF\n",
        "\n"
      ]
    },
    {
      "cell_type": "code",
      "execution_count": 88,
      "metadata": {
        "id": "jig2J_n1AuzM"
      },
      "outputs": [
        {
          "name": "stdout",
          "output_type": "stream",
          "text": [
            "Training CRF model with weighted features...\n",
            " CRF training complete.\n"
          ]
        }
      ],
      "source": [
        "from sklearn_crfsuite import CRF\n",
        "\n",
        "# initialise CRF model with the specified hyperparameters and use weight_dict\n",
        "crf_model = CRF(\n",
        "    algorithm='lbfgs',\n",
        "    c1=0.5,\n",
        "    c2=1.0,\n",
        "    max_iterations=100,\n",
        "    all_possible_transitions=True\n",
        ")\n",
        "\n",
        "# train the CRF model with the weighted training data\n",
        "print(\"Training CRF model with weighted features...\")\n",
        "crf_model.fit(X_train_weighted_features, y_train_labels)\n",
        "print(\" CRF training complete.\")"
      ]
    },
    {
      "cell_type": "markdown",
      "metadata": {
        "id": "sDLwvYqOF6m_"
      },
      "source": [
        "### **7.2** *Evaluation of Training Dataset using CRF model* <font color = red>[4 marks]</font>\n",
        "Evaluate on training dataset using CRF by using flat classification report and confusion matrix"
      ]
    },
    {
      "cell_type": "code",
      "execution_count": 89,
      "metadata": {
        "id": "Us57jWSQ6laL"
      },
      "outputs": [],
      "source": [
        "# evaluate on the training dataset\n",
        "from sklearn_crfsuite import metrics\n",
        "\n",
        "y_train_pred = crf_model.predict(X_train_weighted_features)\n",
        "\n",
        "# Flatten true and predicted labels\n",
        "y_train_true_flat = [label for sent in y_train_labels for label in sent]\n",
        "y_train_pred_flat = [label for sent in y_train_pred for label in sent]\n",
        "\n",
        "labels = list(crf_model.classes_)\n",
        "if 'O' in labels:\n",
        "    labels.remove('O')"
      ]
    },
    {
      "cell_type": "code",
      "execution_count": 91,
      "metadata": {
        "id": "gNGZnd-D6oq3"
      },
      "outputs": [
        {
          "name": "stdout",
          "output_type": "stream",
          "text": [
            "\n",
            " Flat Classification Report (Training):\n",
            "              precision    recall  f1-score   support\n",
            "\n",
            "    quantity      0.992     0.990     0.991       980\n",
            "        unit      0.988     0.990     0.989       811\n",
            "  ingredient      1.000     1.000     1.000      5323\n",
            "\n",
            "    accuracy                          0.997      7114\n",
            "   macro avg      0.993     0.993     0.993      7114\n",
            "weighted avg      0.997     0.997     0.997      7114\n",
            "\n"
          ]
        }
      ],
      "source": [
        "# specify the flat classification report by using training data for evaluation\n",
        "print(\"\\n Flat Classification Report (Training):\")\n",
        "print(metrics.flat_classification_report(y_train_labels, y_train_pred, labels=labels, digits=3))"
      ]
    },
    {
      "cell_type": "code",
      "execution_count": 92,
      "metadata": {
        "id": "GqP9WBvJ63qm"
      },
      "outputs": [
        {
          "data": {
            "image/png": "[encoded data removed]",
            "text/plain": [
              "<Figure size 800x600 with 2 Axes>"
            ]
          },
          "metadata": {},
          "output_type": "display_data"
        }
      ],
      "source": [
        "# create a confusion matrix on training datset\n",
        "# Confusion Matrix (training)\n",
        "cm = confusion_matrix(y_train_true_flat, y_train_pred_flat, labels=labels)\n",
        "\n",
        "plt.figure(figsize=(8, 6))\n",
        "sns.heatmap(cm, annot=True, fmt='d', cmap='Blues', xticklabels=labels, yticklabels=labels)\n",
        "plt.title(\"🔁 Confusion Matrix (Training)\")\n",
        "plt.xlabel(\"Predicted Label\")\n",
        "plt.ylabel(\"True Label\")\n",
        "plt.show()"
      ]
    },
    {
      "cell_type": "markdown",
      "metadata": {
        "id": "Yps2-XscGuHc"
      },
      "source": [
        "### **7.3** *Save the CRF model* <font color = red>[1 marks]</font>\n",
        "Save the CRF model"
      ]
    },
    {
      "cell_type": "code",
      "execution_count": 93,
      "metadata": {
        "id": "iAYDLatcGzEN"
      },
      "outputs": [
        {
          "data": {
            "text/plain": [
              "['crf_model.pkl']"
            ]
          },
          "execution_count": 93,
          "metadata": {},
          "output_type": "execute_result"
        }
      ],
      "source": [
        "# dump the model using joblib as crf_model.pkl\n",
        "joblib.dump(crf_model, \"crf_model.pkl\")"
      ]
    },
    {
      "cell_type": "markdown",
      "metadata": {
        "id": "agM32oUlBo1K"
      },
      "source": [
        "## **8** Prediction and Model Evaluation <font color = red>[3 marks]</font> <br>"
      ]
    },
    {
      "cell_type": "markdown",
      "metadata": {
        "id": "b5BYmkTrBo1L"
      },
      "source": [
        "### **8.1** *Predict and Evaluate the CRF model on validation set* <font color = red>[3 marks]</font>\n",
        "Evaluate the metrics for CRF model by using flat classification report and confusion matrix\n",
        "\n",
        "\n"
      ]
    },
    {
      "cell_type": "code",
      "execution_count": 94,
      "metadata": {
        "id": "qhH6Sp8tBo1M"
      },
      "outputs": [
        {
          "name": "stdout",
          "output_type": "stream",
          "text": [
            "\n",
            " Sample Prediction on Validation Set:\n",
            "Tokens    : ['1', 'cup', 'Ada', '2', 'liter', 'Milk', '3/4', 'Sugar', 'tablespoon', 'Ghee', '1/2', 'teaspoon', 'Cardamom', 'Powder', 'Elaichi']\n",
            "True Tags : ['quantity', 'unit', 'ingredient', 'quantity', 'unit', 'ingredient', 'quantity', 'ingredient', 'unit', 'ingredient', 'quantity', 'unit', 'ingredient', 'ingredient', 'ingredient']\n",
            "Predicted : ['quantity', 'unit', 'ingredient', 'quantity', 'unit', 'ingredient', 'quantity', 'ingredient', 'unit', 'ingredient', 'quantity', 'unit', 'ingredient', 'ingredient', 'ingredient']\n"
          ]
        }
      ],
      "source": [
        "# predict the crf model on validation dataset\n",
        "y_val_pred = crf_model.predict(X_val_weighted_features)\n",
        "\n",
        "print(\"\\n Sample Prediction on Validation Set:\")\n",
        "print(\"Tokens    :\", X_val[0])\n",
        "print(\"True Tags :\", y_val_labels[0])\n",
        "print(\"Predicted :\", y_val_pred[0])"
      ]
    },
    {
      "cell_type": "code",
      "execution_count": 95,
      "metadata": {
        "id": "SMktt_w1kovB"
      },
      "outputs": [
        {
          "name": "stdout",
          "output_type": "stream",
          "text": [
            "\n",
            " Flat Classification Report (Validation):\n",
            "              precision    recall  f1-score   support\n",
            "\n",
            "    quantity      0.988     0.990     0.989       411\n",
            "        unit      0.989     0.986     0.987       358\n",
            "  ingredient      1.000     1.000     1.000      2107\n",
            "\n",
            "    accuracy                          0.997      2876\n",
            "   macro avg      0.992     0.992     0.992      2876\n",
            "weighted avg      0.997     0.997     0.997      2876\n",
            "\n"
          ]
        }
      ],
      "source": [
        "# specify flat classification report\n",
        "# Flatten the nested lists\n",
        "y_val_true_flat = [label for sent in y_val_labels for label in sent]\n",
        "y_val_pred_flat = [label for sent in y_val_pred for label in sent]\n",
        "\n",
        "# Use all labels seen by the model\n",
        "labels = list(crf_model.classes_)\n",
        "if 'O' in labels:  # Just in case\n",
        "    labels.remove('O')\n",
        "\n",
        "print(\"\\n Flat Classification Report (Validation):\")\n",
        "print(metrics.flat_classification_report(\n",
        "    y_val_labels, y_val_pred, labels=labels, digits=3\n",
        "))"
      ]
    },
    {
      "cell_type": "code",
      "execution_count": 96,
      "metadata": {
        "id": "eI2tUBRRk4jK"
      },
      "outputs": [
        {
          "data": {
            "image/png": "[encoded data removed]",
            "text/plain": [
              "<Figure size 800x600 with 2 Axes>"
            ]
          },
          "metadata": {},
          "output_type": "display_data"
        }
      ],
      "source": [
        "# create a confusion matrix on validation dataset\n",
        "cm = confusion_matrix(y_val_true_flat, y_val_pred_flat, labels=labels)\n",
        "\n",
        "# Plot the confusion matrix\n",
        "plt.figure(figsize=(8, 6))\n",
        "sns.heatmap(cm, annot=True, fmt='d', cmap='YlGnBu',\n",
        "            xticklabels=labels, yticklabels=labels)\n",
        "plt.title(\" Confusion Matrix - Validation Set\")\n",
        "plt.xlabel(\"Predicted Label\")\n",
        "plt.ylabel(\"True Label\")\n",
        "plt.show()"
      ]
    },
    {
      "cell_type": "markdown",
      "metadata": {
        "id": "8pD6hD3NEV3q"
      },
      "source": [
        "## **9** Error Analysis on Validation Data <font color = red>[10 marks]</font> <br>\n",
        "Investigate misclassified samples in validation dataset and provide the insights\n"
      ]
    },
    {
      "cell_type": "markdown",
      "metadata": {
        "id": "R9tUvjrzFjib"
      },
      "source": [
        "### **9.1** *Investigate misclassified samples in validation dataset* <font color = red>[8 marks]</font>\n",
        "\n"
      ]
    },
    {
      "cell_type": "markdown",
      "metadata": {
        "id": "Lb15uObqxKe4"
      },
      "source": [
        "##### **9.1.1** Flatten the labels of validation data and initialise error data <font color = red>[2 marks]</font> <br>\n",
        "\n",
        "\n",
        "\n",
        "Flatten the true and predicted labels and initialise the error data as ***error_data***"
      ]
    },
    {
      "cell_type": "code",
      "execution_count": 97,
      "metadata": {
        "id": "gbgYAjd-UzkI"
      },
      "outputs": [],
      "source": [
        "# flatten Labels and Initialise Error Data\n",
        "# Flatten inputs, true labels, and predicted labels\n",
        "val_tokens_flat = [token for sent in X_val for token in sent]\n",
        "y_val_true_flat = [label for sent in y_val_labels for label in sent]\n",
        "y_val_pred_flat = [label for sent in y_val_pred for label in sent]"
      ]
    },
    {
      "cell_type": "markdown",
      "metadata": {
        "id": "LS9foWfdXHOg"
      },
      "source": [
        "##### **9.1.2** Iterate the validation data and collect Error Information<font color = red> [2 marks]</font> <br>\n",
        "\n",
        "\n",
        "\n",
        "Iterate through validation data (X_val, y_val_labels, y_pred_val) and compare true vs. predicted labels. Collect error details, including surrounding context, previous/next tokens, and class weights, then store them in error_data"
      ]
    },
    {
      "cell_type": "code",
      "execution_count": 98,
      "metadata": {
        "id": "_VKLc1s0U0yY"
      },
      "outputs": [
        {
          "name": "stdout",
          "output_type": "stream",
          "text": [
            " Misclassified Tokens in Validation Set (Top 10):\n",
            "\n",
            "Token:            cold | True:       unit | Predicted:   quantity\n",
            "Token:           1-1/2 | True:   quantity | Predicted:       unit\n",
            "Token:               2 | True:   quantity | Predicted:       unit\n",
            "Token:               4 | True:   quantity | Predicted:       unit\n",
            "Token:           pinch | True:       unit | Predicted:   quantity\n",
            "Token:     tablespoons | True:       unit | Predicted:   quantity\n",
            "Token:           pinch | True:       unit | Predicted:   quantity\n",
            "Token:               a | True:       unit | Predicted:   quantity\n",
            "Token:           pinch | True:   quantity | Predicted:       unit\n"
          ]
        }
      ],
      "source": [
        "# iterate and collect Error Information\n",
        "\n",
        "            # get previous and next tokens with handling for boundary cases\n",
        "# Initialize error data list\n",
        "error_data = []\n",
        "\n",
        "# Loop through all flattened tokens and labels\n",
        "for i in range(len(val_tokens_flat)):\n",
        "    true_label = y_val_true_flat[i]\n",
        "    pred_label = y_val_pred_flat[i]\n",
        "    token = val_tokens_flat[i]\n",
        "\n",
        "    if true_label != pred_label:\n",
        "        error_data.append({\n",
        "            \"token\": token,\n",
        "            \"true_label\": true_label,\n",
        "            \"predicted_label\": pred_label,\n",
        "            \"index\": i\n",
        "        })\n",
        "\n",
        "print(\" Misclassified Tokens in Validation Set (Top 10):\\n\")\n",
        "for error in error_data[:10]:\n",
        "    print(f\"Token: {error['token']:>15} | True: {error['true_label']:>10} | Predicted: {error['predicted_label']:>10}\")"
      ]
    },
    {
      "cell_type": "markdown",
      "metadata": {
        "id": "G_R8CCAFZSzF"
      },
      "source": [
        "##### **9.1.3** Create dataframe from error_data and print overall accuracy <font color = red>[1 marks]</font> <br>\n",
        "\n",
        "\n",
        "\n",
        "Change error_data into dataframe and then use it to illustrate the overall accuracy of validation data"
      ]
    },
    {
      "cell_type": "code",
      "execution_count": 99,
      "metadata": {
        "id": "fUffRP7XU3YC"
      },
      "outputs": [
        {
          "name": "stdout",
          "output_type": "stream",
          "text": [
            "\n",
            " Total misclassifications: 9\n"
          ]
        },
        {
          "data": {
            "text/html": [
              "<div>\n",
              "<style scoped>\n",
              "    .dataframe tbody tr th:only-of-type {\n",
              "        vertical-align: middle;\n",
              "    }\n",
              "\n",
              "    .dataframe tbody tr th {\n",
              "        vertical-align: top;\n",
              "    }\n",
              "\n",
              "    .dataframe thead th {\n",
              "        text-align: right;\n",
              "    }\n",
              "</style>\n",
              "<table border=\"1\" class=\"dataframe\">\n",
              "  <thead>\n",
              "    <tr style=\"text-align: right;\">\n",
              "      <th></th>\n",
              "      <th>token</th>\n",
              "      <th>true_label</th>\n",
              "      <th>predicted_label</th>\n",
              "      <th>index</th>\n",
              "    </tr>\n",
              "  </thead>\n",
              "  <tbody>\n",
              "    <tr>\n",
              "      <th>0</th>\n",
              "      <td>cold</td>\n",
              "      <td>unit</td>\n",
              "      <td>quantity</td>\n",
              "      <td>1028</td>\n",
              "    </tr>\n",
              "    <tr>\n",
              "      <th>1</th>\n",
              "      <td>1-1/2</td>\n",
              "      <td>quantity</td>\n",
              "      <td>unit</td>\n",
              "      <td>1030</td>\n",
              "    </tr>\n",
              "    <tr>\n",
              "      <th>2</th>\n",
              "      <td>2</td>\n",
              "      <td>quantity</td>\n",
              "      <td>unit</td>\n",
              "      <td>1252</td>\n",
              "    </tr>\n",
              "    <tr>\n",
              "      <th>3</th>\n",
              "      <td>4</td>\n",
              "      <td>quantity</td>\n",
              "      <td>unit</td>\n",
              "      <td>1597</td>\n",
              "    </tr>\n",
              "    <tr>\n",
              "      <th>4</th>\n",
              "      <td>pinch</td>\n",
              "      <td>unit</td>\n",
              "      <td>quantity</td>\n",
              "      <td>1603</td>\n",
              "    </tr>\n",
              "  </tbody>\n",
              "</table>\n",
              "</div>"
            ],
            "text/plain": [
              "   token true_label predicted_label  index\n",
              "0   cold       unit        quantity   1028\n",
              "1  1-1/2   quantity            unit   1030\n",
              "2      2   quantity            unit   1252\n",
              "3      4   quantity            unit   1597\n",
              "4  pinch       unit        quantity   1603"
            ]
          },
          "execution_count": 99,
          "metadata": {},
          "output_type": "execute_result"
        }
      ],
      "source": [
        "# Create DataFrame and Print Overall Accuracy\n",
        "error_df = pd.DataFrame(error_data)\n",
        "print(\"\\n Total misclassifications:\", len(error_df))\n",
        "error_df.head()"
      ]
    },
    {
      "cell_type": "markdown",
      "metadata": {
        "id": "8OUYHFmgZhgJ"
      },
      "source": [
        "##### **9.1.4** Analyse errors by label type<font color = red> [3 marks]</font> <br>\n",
        "Analyse errors found in the validation data by each label and display their class weights along with accuracy and also display the error dataframe with token,  previous token, next token, true label, predicted label and context"
      ]
    },
    {
      "cell_type": "code",
      "execution_count": null,
      "metadata": {
        "collapsed": true,
        "id": "zu8CtjU6WR9l"
      },
      "outputs": [],
      "source": [
        "# Analyse errors found in the validation data by each label\n",
        "# and display their class weights along with accuracy\n",
        "# and display the error dataframe with token, previous token, next token, true label, predicted label and context\n",
        "\n"
      ]
    },
    {
      "cell_type": "markdown",
      "metadata": {
        "id": "Q3n74kVvEV3q"
      },
      "source": [
        "### **9.2** *Provide insights from the validation dataset* <font color = red>[2 marks]</font>\n",
        "\n",
        "\n"
      ]
    },
    {
      "cell_type": "markdown",
      "metadata": {
        "id": "aWZdf1O_vWnD"
      },
      "source": [
        " <font color = red>[Write your answer]</font>"
      ]
    },
    {
      "cell_type": "markdown",
      "metadata": {
        "id": "qUjFPBMxH20n"
      },
      "source": [
        "## **10** Conclusion (Optional) <font color = red>[0 marks]</font> <br>\n",
        "\n",
        "Write your findings and conclusion."
      ]
    }
  ],
  "metadata": {
    "colab": {
      "collapsed_sections": [
        "-ksMVNgeyiLN",
        "1y18LwoqyFpk",
        "bhNG_XC1r4Qw",
        "-JtvsBYur-oV",
        "dpJQu3JE_P7Z",
        "JbriClEV9CW5",
        "Qtqtij2-CD2m",
        "_RJEStPSC9PB",
        "qJdYJ2TEDBzd",
        "hJm2nUw0998s"
      ],
      "provenance": [],
      "toc_visible": true
    },
    "kernelspec": {
      "display_name": "Python 3",
      "language": "python",
      "name": "python3"
    },
    "language_info": {
      "codemirror_mode": {
        "name": "ipython",
        "version": 3
      },
      "file_extension": ".py",
      "mimetype": "text/x-python",
      "name": "python",
      "nbconvert_exporter": "python",
      "pygments_lexer": "ipython3",
      "version": "3.13.0"
    }
  },
  "nbformat": 4,
  "nbformat_minor": 0
}
